{
 "cells": [
  {
   "cell_type": "markdown",
   "metadata": {},
   "source": [
    "```\n",
    "Our objective is to leverage advanced machine learning techniques to predict the variety of date fruits, empowering farmers and agricultural stakeholders to improve classification accuracy and streamline post-harvest processes. Your role is to analyze various morphological, colorimetric, and textural attributes of date fruits to build predictive models that distinguish different varieties effectively.\n",
    "\n",
    "Dataset Description\n",
    "You have been provided with a comprehensive dataset containing morphological and colorimetric features of different varieties of date fruits. The dataset includes the following attributes:\n",
    "\n",
    "Morphological Attributes:\n",
    "AREA: Surface area of the date fruit.\n",
    "PERIMETER: Perimeter measurement around the fruit.\n",
    "MAJOR_AXIS: Length of the major axis of the date fruit.\n",
    "MINOR_AXIS: Length of the minor axis of the date fruit.\n",
    "ECCENTRICITY: Ratio describing the shape of the fruit based on the axes.\n",
    "EQDIASQ: Equivalent diameter of a circle with the same area as the fruit.\n",
    "SOLIDITY: Ratio of the area to the convex hull area.\n",
    "CONVEX_AREA: Area of the smallest convex polygon that can contain the fruit.\n",
    "EXTENT: Ratio of the area to the bounding box area.\n",
    "ASPECT_RATIO: Ratio of the major axis to the minor axis.\n",
    "ROUNDNESS: Measure of how circular the fruit is.\n",
    "COMPACTNESS: Measure of how compact or dense the fruit is.\n",
    "Shape Factor Attributes:\n",
    "SHAPEFACTOR_1: Ratio of the perimeter squared to 4π times the area.\n",
    "SHAPEFACTOR_2: Ratio of 4π times the area to the perimeter squared.\n",
    "SHAPEFACTOR_3: Ratio of the major axis to the equivalent diameter.\n",
    "SHAPEFACTOR_4: Ratio of the minor axis to the equivalent diameter.\n",
    "Colorimetric Attributes:\n",
    "MeanRR: Mean intensity of the red color channel.\n",
    "MeanRG: Mean intensity of the green color channel.\n",
    "MeanRB: Mean intensity of the blue color channel.\n",
    "StdDevRR: Standard deviation of the red color channel.\n",
    "StdDevRG: Standard deviation of the green color channel.\n",
    "StdDevRB: Standard deviation of the blue color channel.\n",
    "SkewRR: Skewness of the red color channel.\n",
    "SkewRG: Skewness of the green color channel.\n",
    "SkewRB: Skewness of the blue color channel.\n",
    "KurtosisRR: Kurtosis of the red color channel.\n",
    "KurtosisRG: Kurtosis of the green color channel.\n",
    "KurtosisRB: Kurtosis of the blue color channel.\n",
    "EntropyRR: Entropy of the red color channel.\n",
    "EntropyRG: Entropy of the green color channel.\n",
    "EntropyRB: Entropy of the blue color channel.\n",
    "Daubechies Wavelet Attributes:\n",
    "ALLdaub4RR: Wavelet-transformed feature of the red color channel.\n",
    "ALLdaub4RG: Wavelet-transformed feature of the green color channel.\n",
    "ALLdaub4RB: Wavelet-transformed feature of the blue color channel.\n",
    "Target Attribute:\n",
    "Class: The variety or class of the date fruit.\n",
    "Check this Date Fruit Vlog to see the images of these dates\n",
    "Your task is to utilize Support Vector Machines (SVMs) to predict the \"Class\" of each date fruit and identify the most influential features contributing to accurate classification. This project will help streamline the sorting and grading processes in the agricultural industry, offering practical insights to farmers and other stakeholders.\n",
    "```"
   ]
  },
  {
   "cell_type": "code",
   "execution_count": 1,
   "metadata": {},
   "outputs": [],
   "source": [
    "import warnings\n",
    "warnings.filterwarnings('ignore')\n",
    "\n",
    "import os\n",
    "import pandas as pd\n",
    "import matplotlib.pyplot as plt\n",
    "import seaborn as sns\n",
    "import numpy as np\n",
    "\n",
    "from sklearn.preprocessing import StandardScaler\n",
    "from sklearn.model_selection import train_test_split, StratifiedKFold, cross_val_score\n",
    "from sklearn.metrics import classification_report, accuracy_score, precision_score, f1_score\n",
    "from sklearn.svm import SVC\n",
    "from sklearn.feature_selection import RFE\n",
    "\n",
    "plt.style.use('dark_background')\n"
   ]
  },
  {
   "cell_type": "code",
   "execution_count": 2,
   "metadata": {},
   "outputs": [
    {
     "name": "stdout",
     "output_type": "stream",
     "text": [
      "File ‘../data/Date_Fruit_Datasets.zip’ already there; not retrieving.\n",
      "\n"
     ]
    }
   ],
   "source": [
    "!wget -nc -P ../data/ \"https://d2beiqkhq929f0.cloudfront.net/public_assets/assets/000/070/671/original/Date_Fruit_Datasets.zip\""
   ]
  },
  {
   "cell_type": "code",
   "execution_count": 3,
   "metadata": {},
   "outputs": [],
   "source": [
    "if not os.path.exists('../data/Date_Fruit_Datasets'):\n",
    "    !unzip ../data/Date_Fruit_Datasets.zip -d ../data/"
   ]
  },
  {
   "cell_type": "code",
   "execution_count": 4,
   "metadata": {},
   "outputs": [],
   "source": [
    "df= pd.read_excel(r'../data/Date_Fruit_Datasets/Date_Fruit_Datasets.xlsx')"
   ]
  },
  {
   "cell_type": "code",
   "execution_count": 5,
   "metadata": {},
   "outputs": [
    {
     "data": {
      "text/html": [
       "<div>\n",
       "<style scoped>\n",
       "    .dataframe tbody tr th:only-of-type {\n",
       "        vertical-align: middle;\n",
       "    }\n",
       "\n",
       "    .dataframe tbody tr th {\n",
       "        vertical-align: top;\n",
       "    }\n",
       "\n",
       "    .dataframe thead th {\n",
       "        text-align: right;\n",
       "    }\n",
       "</style>\n",
       "<table border=\"1\" class=\"dataframe\">\n",
       "  <thead>\n",
       "    <tr style=\"text-align: right;\">\n",
       "      <th></th>\n",
       "      <th>AREA</th>\n",
       "      <th>PERIMETER</th>\n",
       "      <th>MAJOR_AXIS</th>\n",
       "      <th>MINOR_AXIS</th>\n",
       "      <th>ECCENTRICITY</th>\n",
       "      <th>EQDIASQ</th>\n",
       "      <th>SOLIDITY</th>\n",
       "      <th>CONVEX_AREA</th>\n",
       "      <th>EXTENT</th>\n",
       "      <th>ASPECT_RATIO</th>\n",
       "      <th>...</th>\n",
       "      <th>KurtosisRR</th>\n",
       "      <th>KurtosisRG</th>\n",
       "      <th>KurtosisRB</th>\n",
       "      <th>EntropyRR</th>\n",
       "      <th>EntropyRG</th>\n",
       "      <th>EntropyRB</th>\n",
       "      <th>ALLdaub4RR</th>\n",
       "      <th>ALLdaub4RG</th>\n",
       "      <th>ALLdaub4RB</th>\n",
       "      <th>Class</th>\n",
       "    </tr>\n",
       "  </thead>\n",
       "  <tbody>\n",
       "    <tr>\n",
       "      <th>0</th>\n",
       "      <td>422163</td>\n",
       "      <td>2378.908</td>\n",
       "      <td>837.8484</td>\n",
       "      <td>645.6693</td>\n",
       "      <td>0.6373</td>\n",
       "      <td>733.1539</td>\n",
       "      <td>0.9947</td>\n",
       "      <td>424428</td>\n",
       "      <td>0.7831</td>\n",
       "      <td>1.2976</td>\n",
       "      <td>...</td>\n",
       "      <td>3.2370</td>\n",
       "      <td>2.9574</td>\n",
       "      <td>4.2287</td>\n",
       "      <td>-59191263232</td>\n",
       "      <td>-50714214400</td>\n",
       "      <td>-39922372608</td>\n",
       "      <td>58.7255</td>\n",
       "      <td>54.9554</td>\n",
       "      <td>47.8400</td>\n",
       "      <td>BERHI</td>\n",
       "    </tr>\n",
       "    <tr>\n",
       "      <th>1</th>\n",
       "      <td>338136</td>\n",
       "      <td>2085.144</td>\n",
       "      <td>723.8198</td>\n",
       "      <td>595.2073</td>\n",
       "      <td>0.5690</td>\n",
       "      <td>656.1464</td>\n",
       "      <td>0.9974</td>\n",
       "      <td>339014</td>\n",
       "      <td>0.7795</td>\n",
       "      <td>1.2161</td>\n",
       "      <td>...</td>\n",
       "      <td>2.6228</td>\n",
       "      <td>2.6350</td>\n",
       "      <td>3.1704</td>\n",
       "      <td>-34233065472</td>\n",
       "      <td>-37462601728</td>\n",
       "      <td>-31477794816</td>\n",
       "      <td>50.0259</td>\n",
       "      <td>52.8168</td>\n",
       "      <td>47.8315</td>\n",
       "      <td>BERHI</td>\n",
       "    </tr>\n",
       "    <tr>\n",
       "      <th>2</th>\n",
       "      <td>526843</td>\n",
       "      <td>2647.394</td>\n",
       "      <td>940.7379</td>\n",
       "      <td>715.3638</td>\n",
       "      <td>0.6494</td>\n",
       "      <td>819.0222</td>\n",
       "      <td>0.9962</td>\n",
       "      <td>528876</td>\n",
       "      <td>0.7657</td>\n",
       "      <td>1.3150</td>\n",
       "      <td>...</td>\n",
       "      <td>3.7516</td>\n",
       "      <td>3.8611</td>\n",
       "      <td>4.7192</td>\n",
       "      <td>-93948354560</td>\n",
       "      <td>-74738221056</td>\n",
       "      <td>-60311207936</td>\n",
       "      <td>65.4772</td>\n",
       "      <td>59.2860</td>\n",
       "      <td>51.9378</td>\n",
       "      <td>BERHI</td>\n",
       "    </tr>\n",
       "    <tr>\n",
       "      <th>3</th>\n",
       "      <td>416063</td>\n",
       "      <td>2351.210</td>\n",
       "      <td>827.9804</td>\n",
       "      <td>645.2988</td>\n",
       "      <td>0.6266</td>\n",
       "      <td>727.8378</td>\n",
       "      <td>0.9948</td>\n",
       "      <td>418255</td>\n",
       "      <td>0.7759</td>\n",
       "      <td>1.2831</td>\n",
       "      <td>...</td>\n",
       "      <td>5.0401</td>\n",
       "      <td>8.6136</td>\n",
       "      <td>8.2618</td>\n",
       "      <td>-32074307584</td>\n",
       "      <td>-32060925952</td>\n",
       "      <td>-29575010304</td>\n",
       "      <td>43.3900</td>\n",
       "      <td>44.1259</td>\n",
       "      <td>41.1882</td>\n",
       "      <td>BERHI</td>\n",
       "    </tr>\n",
       "    <tr>\n",
       "      <th>4</th>\n",
       "      <td>347562</td>\n",
       "      <td>2160.354</td>\n",
       "      <td>763.9877</td>\n",
       "      <td>582.8359</td>\n",
       "      <td>0.6465</td>\n",
       "      <td>665.2291</td>\n",
       "      <td>0.9908</td>\n",
       "      <td>350797</td>\n",
       "      <td>0.7569</td>\n",
       "      <td>1.3108</td>\n",
       "      <td>...</td>\n",
       "      <td>2.7016</td>\n",
       "      <td>2.9761</td>\n",
       "      <td>4.4146</td>\n",
       "      <td>-39980974080</td>\n",
       "      <td>-35980042240</td>\n",
       "      <td>-25593278464</td>\n",
       "      <td>52.7743</td>\n",
       "      <td>50.9080</td>\n",
       "      <td>42.6666</td>\n",
       "      <td>BERHI</td>\n",
       "    </tr>\n",
       "  </tbody>\n",
       "</table>\n",
       "<p>5 rows × 35 columns</p>\n",
       "</div>"
      ],
      "text/plain": [
       "     AREA  PERIMETER  MAJOR_AXIS  MINOR_AXIS  ECCENTRICITY   EQDIASQ  \\\n",
       "0  422163   2378.908    837.8484    645.6693        0.6373  733.1539   \n",
       "1  338136   2085.144    723.8198    595.2073        0.5690  656.1464   \n",
       "2  526843   2647.394    940.7379    715.3638        0.6494  819.0222   \n",
       "3  416063   2351.210    827.9804    645.2988        0.6266  727.8378   \n",
       "4  347562   2160.354    763.9877    582.8359        0.6465  665.2291   \n",
       "\n",
       "   SOLIDITY  CONVEX_AREA  EXTENT  ASPECT_RATIO  ...  KurtosisRR  KurtosisRG  \\\n",
       "0    0.9947       424428  0.7831        1.2976  ...      3.2370      2.9574   \n",
       "1    0.9974       339014  0.7795        1.2161  ...      2.6228      2.6350   \n",
       "2    0.9962       528876  0.7657        1.3150  ...      3.7516      3.8611   \n",
       "3    0.9948       418255  0.7759        1.2831  ...      5.0401      8.6136   \n",
       "4    0.9908       350797  0.7569        1.3108  ...      2.7016      2.9761   \n",
       "\n",
       "   KurtosisRB    EntropyRR    EntropyRG    EntropyRB  ALLdaub4RR  ALLdaub4RG  \\\n",
       "0      4.2287 -59191263232 -50714214400 -39922372608     58.7255     54.9554   \n",
       "1      3.1704 -34233065472 -37462601728 -31477794816     50.0259     52.8168   \n",
       "2      4.7192 -93948354560 -74738221056 -60311207936     65.4772     59.2860   \n",
       "3      8.2618 -32074307584 -32060925952 -29575010304     43.3900     44.1259   \n",
       "4      4.4146 -39980974080 -35980042240 -25593278464     52.7743     50.9080   \n",
       "\n",
       "   ALLdaub4RB  Class  \n",
       "0     47.8400  BERHI  \n",
       "1     47.8315  BERHI  \n",
       "2     51.9378  BERHI  \n",
       "3     41.1882  BERHI  \n",
       "4     42.6666  BERHI  \n",
       "\n",
       "[5 rows x 35 columns]"
      ]
     },
     "execution_count": 5,
     "metadata": {},
     "output_type": "execute_result"
    }
   ],
   "source": [
    "df.head()"
   ]
  },
  {
   "cell_type": "code",
   "execution_count": 6,
   "metadata": {},
   "outputs": [
    {
     "name": "stdout",
     "output_type": "stream",
     "text": [
      "<class 'pandas.core.frame.DataFrame'>\n",
      "RangeIndex: 898 entries, 0 to 897\n",
      "Data columns (total 35 columns):\n",
      " #   Column         Non-Null Count  Dtype  \n",
      "---  ------         --------------  -----  \n",
      " 0   AREA           898 non-null    int64  \n",
      " 1   PERIMETER      898 non-null    float64\n",
      " 2   MAJOR_AXIS     898 non-null    float64\n",
      " 3   MINOR_AXIS     898 non-null    float64\n",
      " 4   ECCENTRICITY   898 non-null    float64\n",
      " 5   EQDIASQ        898 non-null    float64\n",
      " 6   SOLIDITY       898 non-null    float64\n",
      " 7   CONVEX_AREA    898 non-null    int64  \n",
      " 8   EXTENT         898 non-null    float64\n",
      " 9   ASPECT_RATIO   898 non-null    float64\n",
      " 10  ROUNDNESS      898 non-null    float64\n",
      " 11  COMPACTNESS    898 non-null    float64\n",
      " 12  SHAPEFACTOR_1  898 non-null    float64\n",
      " 13  SHAPEFACTOR_2  898 non-null    float64\n",
      " 14  SHAPEFACTOR_3  898 non-null    float64\n",
      " 15  SHAPEFACTOR_4  898 non-null    float64\n",
      " 16  MeanRR         898 non-null    float64\n",
      " 17  MeanRG         898 non-null    float64\n",
      " 18  MeanRB         898 non-null    float64\n",
      " 19  StdDevRR       898 non-null    float64\n",
      " 20  StdDevRG       898 non-null    float64\n",
      " 21  StdDevRB       898 non-null    float64\n",
      " 22  SkewRR         898 non-null    float64\n",
      " 23  SkewRG         898 non-null    float64\n",
      " 24  SkewRB         898 non-null    float64\n",
      " 25  KurtosisRR     898 non-null    float64\n",
      " 26  KurtosisRG     898 non-null    float64\n",
      " 27  KurtosisRB     898 non-null    float64\n",
      " 28  EntropyRR      898 non-null    int64  \n",
      " 29  EntropyRG      898 non-null    int64  \n",
      " 30  EntropyRB      898 non-null    int64  \n",
      " 31  ALLdaub4RR     898 non-null    float64\n",
      " 32  ALLdaub4RG     898 non-null    float64\n",
      " 33  ALLdaub4RB     898 non-null    float64\n",
      " 34  Class          898 non-null    object \n",
      "dtypes: float64(29), int64(5), object(1)\n",
      "memory usage: 245.7+ KB\n"
     ]
    }
   ],
   "source": [
    "df.info()"
   ]
  },
  {
   "cell_type": "code",
   "execution_count": 7,
   "metadata": {},
   "outputs": [
    {
     "name": "stdout",
     "output_type": "stream",
     "text": [
      "there are 7 classes\n",
      "Class\n",
      "DOKOL     204\n",
      "SAFAVI    199\n",
      "ROTANA    166\n",
      "DEGLET     98\n",
      "SOGAY      94\n",
      "IRAQI      72\n",
      "BERHI      65\n",
      "Name: count, dtype: int64\n"
     ]
    }
   ],
   "source": [
    "print(f\"there are {df['Class'].nunique()} classes\")\n",
    "print(df['Class'].value_counts())"
   ]
  },
  {
   "cell_type": "markdown",
   "metadata": {},
   "source": [
    "#### Data is Imbalanced"
   ]
  },
  {
   "cell_type": "markdown",
   "metadata": {},
   "source": [
    "```\n",
    "Feature Correlation Analysis\n",
    "Context:\n",
    "Support Vector Machines (SVM) are sensitive to highly correlated features, especially when using linear kernels. Such correlations can negatively affect the model’s generalization ability and potentially lead to overfitting.\n",
    "\n",
    "Task:\n",
    "Calculate the Pearson correlation coefficients among 'PERIMETER', 'MAJOR_AXIS', 'MINOR_AXIS', and 'COMPACTNESS'. These insights will help in understanding the interdependencies among features that are critical to SVM performance.\n",
    "\n",
    "Instructions:\n",
    "Calculate Correlation Matrix: Use the dataset to calculate the Pearson correlation matrix for the specified features.\n",
    "Visualize Correlation Matrix: Create a heatmap to visualize the correlations between features, which will help identify which pairs are most correlated.\n",
    "Question:\n",
    "Based on the heatmap, which pair of features shows the highest correlation? Discuss the potential impact of this correlation on SVM classification and suggest how to mitigate negative effects.\n",
    "\n",
    "Options:\n",
    "A) 'PERIMETER' and 'MAJOR_AXIS'\n",
    "B) 'MAJOR_AXIS' and 'MINOR_AXIS'\n",
    "C) 'MINOR_AXIS' and 'COMPACTNESS'\n",
    "D) 'PERIMETER' and 'COMPACTNESS'\n",
    "```"
   ]
  },
  {
   "cell_type": "code",
   "execution_count": 8,
   "metadata": {},
   "outputs": [
    {
     "data": {
      "text/plain": [
       "Text(0.5, 1.0, 'Heatmap of Pearson correlation among features')"
      ]
     },
     "execution_count": 8,
     "metadata": {},
     "output_type": "execute_result"
    },
    {
     "data": {
      "image/png": "[encoded data removed]",
      "text/plain": [
       "<Figure size 640x480 with 2 Axes>"
      ]
     },
     "metadata": {},
     "output_type": "display_data"
    }
   ],
   "source": [
    "features = ['PERIMETER', 'MAJOR_AXIS', 'MINOR_AXIS', 'COMPACTNESS']\n",
    "\n",
    "correlation_matrix = df[features].corr()\n",
    "sns.heatmap(correlation_matrix, annot=True, cmap= 'coolwarm', linewidth= 2, linecolor= 'black')\n",
    "plt.title('Heatmap of Pearson correlation among features')"
   ]
  },
  {
   "cell_type": "markdown",
   "metadata": {},
   "source": [
    "```\n",
    "Evaluating SVM Precision with Feature Scaling\n",
    "Context:\n",
    "Support Vector Machine (SVM) is sensitive to the scale of the data, which can significantly impact its performance. This question aims to explore the effect of feature scaling on SVM classification accuracy and precision for each class.\n",
    "\n",
    "Task:\n",
    "After applying feature scaling, identify the class with the lowest precision in an SVM classification task. The SVM model uses a linear kernel.\n",
    "\n",
    "Instructions:\n",
    "Prepare Data:\n",
    "\n",
    "Split the dataset into training and test sets using train_test_split with test_size=0.3 and random_state=42.\n",
    "Extract features (X) and the target variable (y) from the dataset.\n",
    "Feature Scaling:\n",
    "\n",
    "Scale the features using StandardScaler.\n",
    "Train SVM:\n",
    "\n",
    "Train a Support Vector Machine with a linear kernel on the scaled training data.\n",
    "Evaluate the Model:\n",
    "\n",
    "Predict the target variable on the scaled test set.\n",
    "Generate a classification report to review the precision scores for each class.\n",
    "Question:\n",
    "After training an SVM with a linear kernel on scaled data, which class in the classification report exhibits the lowest precision?\n",
    "\n",
    "Options:\n",
    "(A) SAFAVI\n",
    "\n",
    "(B) IRAQI\n",
    "\n",
    "(C) ROTANA\n",
    "\n",
    "(D) DEGLET\n",
    "```"
   ]
  },
  {
   "cell_type": "code",
   "execution_count": 9,
   "metadata": {},
   "outputs": [],
   "source": [
    "x= df.drop(['Class'], axis= 1)\n",
    "y= df['Class']"
   ]
  },
  {
   "cell_type": "code",
   "execution_count": 10,
   "metadata": {},
   "outputs": [],
   "source": [
    "x_train, x_test, y_train, y_test= train_test_split(x,y, test_size= 0.3, random_state= 42)"
   ]
  },
  {
   "cell_type": "code",
   "execution_count": 11,
   "metadata": {},
   "outputs": [
    {
     "name": "stdout",
     "output_type": "stream",
     "text": [
      "with scaling               precision    recall  f1-score   support\n",
      "\n",
      "       BERHI       0.94      0.94      0.94        17\n",
      "      DEGLET       0.74      0.82      0.78        28\n",
      "       DOKOL       0.97      0.96      0.96        67\n",
      "       IRAQI       0.91      1.00      0.95        21\n",
      "      ROTANA       1.00      0.93      0.96        55\n",
      "      SAFAVI       0.98      1.00      0.99        51\n",
      "       SOGAY       0.83      0.81      0.82        31\n",
      "\n",
      "    accuracy                           0.93       270\n",
      "   macro avg       0.91      0.92      0.92       270\n",
      "weighted avg       0.93      0.93      0.93       270\n",
      "\n"
     ]
    }
   ],
   "source": [
    "svm= SVC(kernel= 'linear')\n",
    "scaler= StandardScaler()\n",
    "x_train_scaled= scaler.fit_transform(x_train)\n",
    "x_test_scaled= scaler.fit_transform(x_test)\n",
    "\n",
    "svm.fit(x_train_scaled, y_train)\n",
    "predictions_scaled= svm.predict(x_test_scaled)\n",
    "\n",
    "print(\"with scaling\", classification_report(y_test, predictions_scaled))"
   ]
  },
  {
   "cell_type": "markdown",
   "metadata": {},
   "source": [
    "```\n",
    "Optimal Feature Count for Highest Precision\n",
    "Context:\n",
    "Feature selection is crucial in machine learning to reduce dimensionality and improve model performance. This exercise involves using Recursive Feature Elimination (RFE) with a Support Vector Machine (SVM) to identify the optimal number of features that yield the highest precision.\n",
    "\n",
    "Task:\n",
    "Analyze the effect of different numbers of features on the precision of an SVM model trained with these features. Identify the number of features that leads to the highest precision.\n",
    "\n",
    "Instructions:\n",
    "Data Preparation:\n",
    "\n",
    "Load the dataset and separate it into features (X) and the target variable (y).\n",
    "Standardize the features to improve model training.\n",
    "Feature Selection and Model Training:\n",
    "\n",
    "Implement Recursive Feature Elimination (RFE) with an SVM classifier to select varying numbers of features.\n",
    "Train an SVM model using these selected features.\n",
    "Use StratifiedKFold for cross-validation to ensure the model is robust and generalizable.\n",
    "Evaluation:\n",
    "\n",
    "Calculate cross-validated precision for the model with different numbers of selected features.\n",
    "Record and plot precision against the number of features.\n",
    "Analysis:\n",
    "\n",
    "Identify the number of features for which the precision is maximized.\n",
    "Question:\n",
    "Based on the evaluation, what is the number of features required to achieve the highest precision with the SVM model?\n",
    "\n",
    "Options:\n",
    "(A) 5 features\n",
    "(B) 8 features\n",
    "(C) 16 features\n",
    "(D) 18 features\n",
    "\n",
    "Note: Read about Recursive feature elimination here to learn more about how it works.\n",
    "```"
   ]
  },
  {
   "cell_type": "code",
   "execution_count": 12,
   "metadata": {},
   "outputs": [],
   "source": [
    "x= df.drop(['Class'], axis= 1)\n",
    "y= df['Class']"
   ]
  },
  {
   "cell_type": "code",
   "execution_count": 19,
   "metadata": {},
   "outputs": [
    {
     "name": "stdout",
     "output_type": "stream",
     "text": [
      "0.9133729947842515\n",
      "0.9198665626996018\n",
      "0.9280962566531745\n",
      "0.9302505535523082\n",
      "28\n"
     ]
    },
    {
     "data": {
      "image/png": "[encoded data removed]",
      "text/plain": [
       "<Figure size 1000x500 with 1 Axes>"
      ]
     },
     "metadata": {},
     "output_type": "display_data"
    }
   ],
   "source": [
    "cv= StratifiedKFold(n_splits= 5, random_state= 42, shuffle= True)\n",
    "accuracies= []\n",
    "precisions= []\n",
    "f1_scores= []\n",
    "\n",
    "feature_counts= range(1, x.shape[1] +1)\n",
    "\n",
    "for n in feature_counts:\n",
    "    scaler= StandardScaler()\n",
    "    x_scaled= scaler.fit_transform(x)\n",
    "    \n",
    "    selector= RFE(SVC(kernel= 'linear', random_state= 42), n_features_to_select= n, step= 1)\n",
    "    x_selected= selector.fit_transform(x_scaled, y)\n",
    "    \n",
    "    svm= SVC(kernel= 'linear', random_state= 10)\n",
    "\n",
    "    accuracy_scores= []\n",
    "    precision_scores= [] \n",
    "    f1_scores_list= []\n",
    "    for train_index, test_index in cv.split(x_selected, y):\n",
    "        x_train_cv, x_test_cv= x_selected[train_index], x_selected[test_index]\n",
    "        y_train_cv, y_test_cv= y[train_index], y[test_index]\n",
    "        \n",
    "        svm.fit(x_train_cv, y_train_cv)\n",
    "        y_pred= svm.predict(x_test_cv)\n",
    "\n",
    "        accuracy_scores.append(accuracy_score(y_test_cv, y_pred))\n",
    "        precision_scores.append(precision_score(y_test_cv, y_pred, average= 'weighted'))\n",
    "        f1_scores_list.append(f1_score(y_test_cv, y_pred, average= 'weighted'))\n",
    "        \n",
    "    accuracies.append(np.mean(accuracy_scores))\n",
    "    precisions.append(np.mean(precision_scores))\n",
    "    f1_scores.append(np.mean(f1_scores_list))\n",
    "    \n",
    "\n",
    "plt.figure(figsize= (10,5))\n",
    "plt.plot(feature_counts, accuracies, label= 'accuracy')\n",
    "plt.plot(feature_counts, precisions, label= 'precision')\n",
    "plt.plot(feature_counts, f1_scores, label= 'f1 score')\n",
    "\n",
    "for i in [5, 8, 16, 18]:\n",
    "    print(precisions[i])\n",
    "\n",
    "print(np.argmax(precisions))"
   ]
  },
  {
   "cell_type": "markdown",
   "metadata": {},
   "source": [
    "```\n",
    "Optimal Degree for Polynomial\n",
    "Context:\n",
    "Support Vector Machines (SVM) with a polynomial kernel are useful for non-linear data classification. The degree of the polynomial kernel plays a critical role in the model's ability to capture complex patterns in the data. This exercise involves determining the optimal polynomial degree for maximum precision in an SVM model.\n",
    "\n",
    "Task:\n",
    "Evaluate the performance of an SVM with a polynomial kernel at various degrees and identify the degree that results in the highest precision.\n",
    "\n",
    "Instructions:\n",
    "Data Preparation:\n",
    "\n",
    "Assume X_train_scaled and y_train are your scaled feature set and target variable, respectively, prepared for training.\n",
    "Model Configuration and Evaluation:\n",
    "\n",
    "Set up a polynomial kernel SVM for degrees [2, 3, 4, 5].\n",
    "Use cross-validation to evaluate the accuracy, precision, and F1 score for each degree.\n",
    "Collect and plot these metrics to visualize how they vary with the polynomial degree.\n",
    "Analysis:\n",
    "\n",
    "Identify which polynomial degree achieves the highest precision score.\n",
    "Question:\n",
    "Based on the cross-validated performance metrics, which degree of the polynomial kernel results in the highest precision?\n",
    "\n",
    "Options:\n",
    "(A) Degree 2\n",
    "(B) Degree 3\n",
    "(C) Degree 4\n",
    "(D) Degree 5\n",
    "\n",
    "Learning Point:\n",
    "This exercise highlights the impact of hyperparameter tuning on the effectiveness of machine learning algorithms, particularly how the degree of the polynomial kernel influences the precision of classifications in SVM. This helps students in practical settings where choosing the right model configuration is crucial for achieving the best results.\n",
    "```"
   ]
  },
  {
   "cell_type": "code",
   "execution_count": 25,
   "metadata": {},
   "outputs": [
    {
     "data": {
      "image/png": "[encoded data removed]",
      "text/plain": [
       "<Figure size 1000x600 with 1 Axes>"
      ]
     },
     "metadata": {},
     "output_type": "display_data"
    }
   ],
   "source": [
    "cv= StratifiedKFold(n_splits= 5, shuffle= True, random_state= 42)\n",
    "degrees= [2,3,4,5]\n",
    "accuracies= []\n",
    "precisions= []\n",
    "f1_score= []\n",
    "\n",
    "for degree in degrees:\n",
    "    svm_poly= SVC(kernel= 'poly', degree= degree, random_state= 42)\n",
    "    \n",
    "    accuracy= cross_val_score(svm_poly, x_train_scaled, y_train, cv= cv, scoring= 'accuracy').mean()\n",
    "    precision= cross_val_score(svm_poly, x_train_scaled, y_train, cv=cv, scoring= 'precision_weighted').mean()\n",
    "    f1= cross_val_score(svm_poly, x_train_scaled, y_train, cv= cv, scoring= 'f1_weighted').mean()\n",
    "\n",
    "    accuracies.append(accuracy)\n",
    "    precisions.append(precision)\n",
    "    f1_score.append(f1)\n",
    "\n",
    "\n",
    "\n",
    "plt.figure(figsize= (10,6))\n",
    "plt.plot(degrees, accuracies, label= 'accuracy')\n",
    "plt.plot(degrees, precisions, label= 'precision')\n",
    "plt.plot(degrees, f1_score, label= 'f1 score')\n",
    "plt.legend()\n",
    "plt.xticks(degrees)\n",
    "plt.grid(True)\n"
   ]
  },
  {
   "cell_type": "code",
   "execution_count": null,
   "metadata": {},
   "outputs": [],
   "source": []
  },
  {
   "cell_type": "code",
   "execution_count": null,
   "metadata": {},
   "outputs": [],
   "source": []
  },
  {
   "cell_type": "code",
   "execution_count": null,
   "metadata": {},
   "outputs": [],
   "source": []
  },
  {
   "cell_type": "code",
   "execution_count": null,
   "metadata": {},
   "outputs": [],
   "source": []
  }
 ],
 "metadata": {
  "kernelspec": {
   "display_name": "Python 3",
   "language": "python",
   "name": "python3"
  },
  "language_info": {
   "codemirror_mode": {
    "name": "ipython",
    "version": 3
   },
   "file_extension": ".py",
   "mimetype": "text/x-python",
   "name": "python",
   "nbconvert_exporter": "python",
   "pygments_lexer": "ipython3",
   "version": "3.12.1"
  }
 },
 "nbformat": 4,
 "nbformat_minor": 2
}
