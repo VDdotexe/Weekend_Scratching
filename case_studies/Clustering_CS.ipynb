{
 "cells": [
  {
   "cell_type": "markdown",
   "metadata": {},
   "source": [
    "### Introduction"
   ]
  },
  {
   "cell_type": "markdown",
   "metadata": {},
   "source": [
    "```\n",
    "profiling the best companies and job positions to work for from the database. You are provided with the information for a segment of learners and tasked to cluster them on the basis of their job profile, company, and other features. Ideally, these clusters should have similar characteristics.\n",
    "\n",
    "```"
   ]
  },
  {
   "cell_type": "markdown",
   "metadata": {},
   "source": [
    "```\n",
    "Data Dictionary:\n",
    "\n",
    "‘Unnamed 0’ - Index of the dataset\n",
    "Email_hash - Anonymised Personal Identifiable Information (PII)\n",
    "Company_hash - This represents an anonymized identifier for the company, which is the current employer of the learner.\n",
    "orgyear - Employment start date\n",
    "CTC - Current CTC\n",
    "Job_position - Job profile in the company\n",
    "CTC_updated_year - Year in which CTC got updated (Yearly increments, Promotions)\n",
    "\n",
    "\n",
    "Concept Used:\n",
    "\n",
    "Manual Clustering\n",
    "Unsupervised Clustering - K- means, Hierarchical Clustering\n",
    "\n",
    "What does “good” look like?\n",
    "\n",
    "Import the dataset and do usual exploratory data analysis steps like checking the structure & characteristics of the dataset\n",
    "Checking unique emails and frequency of occurrence of the same email hash in the data. Recording observation and inference, wherever necessary.\n",
    "Checking for missing values and Prepare data for KNN/ Mean Imputation.\n",
    "You may have to remove special characters from the dataset by using Regex\n",
    "Don’t worry if you haven’t used that before. The syntax is quite simple and intuitive\n",
    "Code:\n",
    "mystring='\\tAirtel X Labs'\n",
    "re.sub('[^A-Za-z0-9 ]+', '', mystring)\n",
    "Checking for duplicates in the dataset and drop them\n",
    "Making some new features like adding ‘Years of Experience’ column by subtracting orgyear from current year\n",
    "Manual Clustering on the basis of learner’s company, job position and years of experience\n",
    "Getting the 5 point summary of CTC (mean, median, max, min, count etc) on the basis of Company, Job Position, Years of Experience\n",
    "Merging the same with original dataset carefully and creating some flags showing learners with CTC greater than the Average of their Company’s department having same Years of Experience - Call that flag designation with values [1,2,3]\n",
    "Doing above analysis at Company & Job Position level. Name that flag Class with values [1,2,3]\n",
    "Repeating the same analysis at the Company level. Name that flag Tier with values [1,2,3]\n",
    "Based on the manual clustering done so far, answering few questions like:\n",
    "Top 10 employees (earning more than most of the employees in the company) - Tier 1\n",
    "Top 10 employees of data science in each company earning more than their peers - Class 1\n",
    "Bottom 10 employees of data science in each company earning less than their peers - Class 3\n",
    "Bottom 10 employees (earning less than most of the employees in the company)- Tier 3\n",
    "Top 10 employees in each company - X department - having 5/6/7 years of experience earning more than their peers - Tier X\n",
    "Top 10 companies (based on their CTC)\n",
    "Top 2 positions in every company (based on their CTC)\n",
    "Data processing for Unsupervised clustering - Label encoding/ One- hot encoding, Standardization of data\n",
    "Unsupervised Learning - Clustering\n",
    "Checking clustering tendency\n",
    "Elbow method\n",
    "K-means clustering\n",
    "Hierarchical clustering (you can do this on a sample of the dataset if your process is taking time)\n",
    "Insights from Unsupervised Clustering\n",
    "Provide actionable Insights & Recommendations for the Business.\n",
    "```"
   ]
  },
  {
   "cell_type": "code",
   "execution_count": 136,
   "metadata": {},
   "outputs": [],
   "source": [
    "import pandas as pd\n",
    "import numpy as np\n",
    "import matplotlib.pyplot as plt\n",
    "import seaborn as sns"
   ]
  },
  {
   "cell_type": "code",
   "execution_count": 137,
   "metadata": {},
   "outputs": [],
   "source": [
    "plt.style.use('dark_background')"
   ]
  },
  {
   "cell_type": "code",
   "execution_count": 138,
   "metadata": {},
   "outputs": [
    {
     "name": "stdout",
     "output_type": "stream",
     "text": [
      "File ‘../data/scaler_clustering.csv’ already there; not retrieving.\n",
      "\n"
     ]
    }
   ],
   "source": [
    "# df = pd.read_csv(data_url) or \n",
    "!wget -nc -P ../data/ 'https://d2beiqkhq929f0.cloudfront.net/public_assets/assets/000/002/856/original/scaler_clustering.csv'\n"
   ]
  },
  {
   "cell_type": "code",
   "execution_count": 139,
   "metadata": {},
   "outputs": [],
   "source": [
    "df= pd.read_csv(r\"../data/scaler_clustering.csv\")"
   ]
  },
  {
   "cell_type": "code",
   "execution_count": 140,
   "metadata": {},
   "outputs": [
    {
     "data": {
      "text/html": [
       "<div>\n",
       "<style scoped>\n",
       "    .dataframe tbody tr th:only-of-type {\n",
       "        vertical-align: middle;\n",
       "    }\n",
       "\n",
       "    .dataframe tbody tr th {\n",
       "        vertical-align: top;\n",
       "    }\n",
       "\n",
       "    .dataframe thead th {\n",
       "        text-align: right;\n",
       "    }\n",
       "</style>\n",
       "<table border=\"1\" class=\"dataframe\">\n",
       "  <thead>\n",
       "    <tr style=\"text-align: right;\">\n",
       "      <th></th>\n",
       "      <th>Unnamed: 0</th>\n",
       "      <th>company_hash</th>\n",
       "      <th>email_hash</th>\n",
       "      <th>orgyear</th>\n",
       "      <th>ctc</th>\n",
       "      <th>job_position</th>\n",
       "      <th>ctc_updated_year</th>\n",
       "    </tr>\n",
       "  </thead>\n",
       "  <tbody>\n",
       "    <tr>\n",
       "      <th>0</th>\n",
       "      <td>0</td>\n",
       "      <td>atrgxnnt xzaxv</td>\n",
       "      <td>6de0a4417d18ab14334c3f43397fc13b30c35149d70c05...</td>\n",
       "      <td>2016.0</td>\n",
       "      <td>1100000</td>\n",
       "      <td>Other</td>\n",
       "      <td>2020.0</td>\n",
       "    </tr>\n",
       "    <tr>\n",
       "      <th>1</th>\n",
       "      <td>1</td>\n",
       "      <td>qtrxvzwt xzegwgbb rxbxnta</td>\n",
       "      <td>b0aaf1ac138b53cb6e039ba2c3d6604a250d02d5145c10...</td>\n",
       "      <td>2018.0</td>\n",
       "      <td>449999</td>\n",
       "      <td>FullStack Engineer</td>\n",
       "      <td>2019.0</td>\n",
       "    </tr>\n",
       "    <tr>\n",
       "      <th>2</th>\n",
       "      <td>2</td>\n",
       "      <td>ojzwnvwnxw vx</td>\n",
       "      <td>4860c670bcd48fb96c02a4b0ae3608ae6fdd98176112e9...</td>\n",
       "      <td>2015.0</td>\n",
       "      <td>2000000</td>\n",
       "      <td>Backend Engineer</td>\n",
       "      <td>2020.0</td>\n",
       "    </tr>\n",
       "    <tr>\n",
       "      <th>3</th>\n",
       "      <td>3</td>\n",
       "      <td>ngpgutaxv</td>\n",
       "      <td>effdede7a2e7c2af664c8a31d9346385016128d66bbc58...</td>\n",
       "      <td>2017.0</td>\n",
       "      <td>700000</td>\n",
       "      <td>Backend Engineer</td>\n",
       "      <td>2019.0</td>\n",
       "    </tr>\n",
       "    <tr>\n",
       "      <th>4</th>\n",
       "      <td>4</td>\n",
       "      <td>qxen sqghu</td>\n",
       "      <td>6ff54e709262f55cb999a1c1db8436cb2055d8f79ab520...</td>\n",
       "      <td>2017.0</td>\n",
       "      <td>1400000</td>\n",
       "      <td>FullStack Engineer</td>\n",
       "      <td>2019.0</td>\n",
       "    </tr>\n",
       "  </tbody>\n",
       "</table>\n",
       "</div>"
      ],
      "text/plain": [
       "   Unnamed: 0               company_hash  \\\n",
       "0           0             atrgxnnt xzaxv   \n",
       "1           1  qtrxvzwt xzegwgbb rxbxnta   \n",
       "2           2              ojzwnvwnxw vx   \n",
       "3           3                  ngpgutaxv   \n",
       "4           4                 qxen sqghu   \n",
       "\n",
       "                                          email_hash  orgyear      ctc  \\\n",
       "0  6de0a4417d18ab14334c3f43397fc13b30c35149d70c05...   2016.0  1100000   \n",
       "1  b0aaf1ac138b53cb6e039ba2c3d6604a250d02d5145c10...   2018.0   449999   \n",
       "2  4860c670bcd48fb96c02a4b0ae3608ae6fdd98176112e9...   2015.0  2000000   \n",
       "3  effdede7a2e7c2af664c8a31d9346385016128d66bbc58...   2017.0   700000   \n",
       "4  6ff54e709262f55cb999a1c1db8436cb2055d8f79ab520...   2017.0  1400000   \n",
       "\n",
       "         job_position  ctc_updated_year  \n",
       "0               Other            2020.0  \n",
       "1  FullStack Engineer            2019.0  \n",
       "2    Backend Engineer            2020.0  \n",
       "3    Backend Engineer            2019.0  \n",
       "4  FullStack Engineer            2019.0  "
      ]
     },
     "execution_count": 140,
     "metadata": {},
     "output_type": "execute_result"
    }
   ],
   "source": [
    "df.head(5)"
   ]
  },
  {
   "cell_type": "code",
   "execution_count": 141,
   "metadata": {},
   "outputs": [
    {
     "name": "stdout",
     "output_type": "stream",
     "text": [
      "<class 'pandas.core.frame.DataFrame'>\n",
      "RangeIndex: 205843 entries, 0 to 205842\n",
      "Data columns (total 7 columns):\n",
      " #   Column            Non-Null Count   Dtype  \n",
      "---  ------            --------------   -----  \n",
      " 0   Unnamed: 0        205843 non-null  int64  \n",
      " 1   company_hash      205799 non-null  object \n",
      " 2   email_hash        205843 non-null  object \n",
      " 3   orgyear           205757 non-null  float64\n",
      " 4   ctc               205843 non-null  int64  \n",
      " 5   job_position      153279 non-null  object \n",
      " 6   ctc_updated_year  205843 non-null  float64\n",
      "dtypes: float64(2), int64(2), object(3)\n",
      "memory usage: 11.0+ MB\n"
     ]
    }
   ],
   "source": [
    "df.info()"
   ]
  },
  {
   "cell_type": "code",
   "execution_count": 142,
   "metadata": {},
   "outputs": [
    {
     "data": {
      "text/html": [
       "<div>\n",
       "<style scoped>\n",
       "    .dataframe tbody tr th:only-of-type {\n",
       "        vertical-align: middle;\n",
       "    }\n",
       "\n",
       "    .dataframe tbody tr th {\n",
       "        vertical-align: top;\n",
       "    }\n",
       "\n",
       "    .dataframe thead th {\n",
       "        text-align: right;\n",
       "    }\n",
       "</style>\n",
       "<table border=\"1\" class=\"dataframe\">\n",
       "  <thead>\n",
       "    <tr style=\"text-align: right;\">\n",
       "      <th></th>\n",
       "      <th>Unnamed: 0</th>\n",
       "      <th>company_hash</th>\n",
       "      <th>email_hash</th>\n",
       "      <th>orgyear</th>\n",
       "      <th>ctc</th>\n",
       "      <th>job_position</th>\n",
       "      <th>ctc_updated_year</th>\n",
       "    </tr>\n",
       "  </thead>\n",
       "  <tbody>\n",
       "    <tr>\n",
       "      <th>count</th>\n",
       "      <td>205843.000000</td>\n",
       "      <td>205799</td>\n",
       "      <td>205843</td>\n",
       "      <td>205757.000000</td>\n",
       "      <td>2.058430e+05</td>\n",
       "      <td>153279</td>\n",
       "      <td>205843.000000</td>\n",
       "    </tr>\n",
       "    <tr>\n",
       "      <th>unique</th>\n",
       "      <td>NaN</td>\n",
       "      <td>37299</td>\n",
       "      <td>153443</td>\n",
       "      <td>NaN</td>\n",
       "      <td>NaN</td>\n",
       "      <td>1016</td>\n",
       "      <td>NaN</td>\n",
       "    </tr>\n",
       "    <tr>\n",
       "      <th>top</th>\n",
       "      <td>NaN</td>\n",
       "      <td>nvnv wgzohrnvzwj otqcxwto</td>\n",
       "      <td>bbace3cc586400bbc65765bc6a16b77d8913836cfc98b7...</td>\n",
       "      <td>NaN</td>\n",
       "      <td>NaN</td>\n",
       "      <td>Backend Engineer</td>\n",
       "      <td>NaN</td>\n",
       "    </tr>\n",
       "    <tr>\n",
       "      <th>freq</th>\n",
       "      <td>NaN</td>\n",
       "      <td>8337</td>\n",
       "      <td>10</td>\n",
       "      <td>NaN</td>\n",
       "      <td>NaN</td>\n",
       "      <td>43554</td>\n",
       "      <td>NaN</td>\n",
       "    </tr>\n",
       "    <tr>\n",
       "      <th>mean</th>\n",
       "      <td>103273.941786</td>\n",
       "      <td>NaN</td>\n",
       "      <td>NaN</td>\n",
       "      <td>2014.882750</td>\n",
       "      <td>2.271685e+06</td>\n",
       "      <td>NaN</td>\n",
       "      <td>2019.628231</td>\n",
       "    </tr>\n",
       "    <tr>\n",
       "      <th>std</th>\n",
       "      <td>59741.306484</td>\n",
       "      <td>NaN</td>\n",
       "      <td>NaN</td>\n",
       "      <td>63.571115</td>\n",
       "      <td>1.180091e+07</td>\n",
       "      <td>NaN</td>\n",
       "      <td>1.325104</td>\n",
       "    </tr>\n",
       "    <tr>\n",
       "      <th>min</th>\n",
       "      <td>0.000000</td>\n",
       "      <td>NaN</td>\n",
       "      <td>NaN</td>\n",
       "      <td>0.000000</td>\n",
       "      <td>2.000000e+00</td>\n",
       "      <td>NaN</td>\n",
       "      <td>2015.000000</td>\n",
       "    </tr>\n",
       "    <tr>\n",
       "      <th>25%</th>\n",
       "      <td>51518.500000</td>\n",
       "      <td>NaN</td>\n",
       "      <td>NaN</td>\n",
       "      <td>2013.000000</td>\n",
       "      <td>5.300000e+05</td>\n",
       "      <td>NaN</td>\n",
       "      <td>2019.000000</td>\n",
       "    </tr>\n",
       "    <tr>\n",
       "      <th>50%</th>\n",
       "      <td>103151.000000</td>\n",
       "      <td>NaN</td>\n",
       "      <td>NaN</td>\n",
       "      <td>2016.000000</td>\n",
       "      <td>9.500000e+05</td>\n",
       "      <td>NaN</td>\n",
       "      <td>2020.000000</td>\n",
       "    </tr>\n",
       "    <tr>\n",
       "      <th>75%</th>\n",
       "      <td>154992.500000</td>\n",
       "      <td>NaN</td>\n",
       "      <td>NaN</td>\n",
       "      <td>2018.000000</td>\n",
       "      <td>1.700000e+06</td>\n",
       "      <td>NaN</td>\n",
       "      <td>2021.000000</td>\n",
       "    </tr>\n",
       "    <tr>\n",
       "      <th>max</th>\n",
       "      <td>206922.000000</td>\n",
       "      <td>NaN</td>\n",
       "      <td>NaN</td>\n",
       "      <td>20165.000000</td>\n",
       "      <td>1.000150e+09</td>\n",
       "      <td>NaN</td>\n",
       "      <td>2021.000000</td>\n",
       "    </tr>\n",
       "  </tbody>\n",
       "</table>\n",
       "</div>"
      ],
      "text/plain": [
       "           Unnamed: 0               company_hash  \\\n",
       "count   205843.000000                     205799   \n",
       "unique            NaN                      37299   \n",
       "top               NaN  nvnv wgzohrnvzwj otqcxwto   \n",
       "freq              NaN                       8337   \n",
       "mean    103273.941786                        NaN   \n",
       "std      59741.306484                        NaN   \n",
       "min          0.000000                        NaN   \n",
       "25%      51518.500000                        NaN   \n",
       "50%     103151.000000                        NaN   \n",
       "75%     154992.500000                        NaN   \n",
       "max     206922.000000                        NaN   \n",
       "\n",
       "                                               email_hash        orgyear  \\\n",
       "count                                              205843  205757.000000   \n",
       "unique                                             153443            NaN   \n",
       "top     bbace3cc586400bbc65765bc6a16b77d8913836cfc98b7...            NaN   \n",
       "freq                                                   10            NaN   \n",
       "mean                                                  NaN    2014.882750   \n",
       "std                                                   NaN      63.571115   \n",
       "min                                                   NaN       0.000000   \n",
       "25%                                                   NaN    2013.000000   \n",
       "50%                                                   NaN    2016.000000   \n",
       "75%                                                   NaN    2018.000000   \n",
       "max                                                   NaN   20165.000000   \n",
       "\n",
       "                 ctc      job_position  ctc_updated_year  \n",
       "count   2.058430e+05            153279     205843.000000  \n",
       "unique           NaN              1016               NaN  \n",
       "top              NaN  Backend Engineer               NaN  \n",
       "freq             NaN             43554               NaN  \n",
       "mean    2.271685e+06               NaN       2019.628231  \n",
       "std     1.180091e+07               NaN          1.325104  \n",
       "min     2.000000e+00               NaN       2015.000000  \n",
       "25%     5.300000e+05               NaN       2019.000000  \n",
       "50%     9.500000e+05               NaN       2020.000000  \n",
       "75%     1.700000e+06               NaN       2021.000000  \n",
       "max     1.000150e+09               NaN       2021.000000  "
      ]
     },
     "execution_count": 142,
     "metadata": {},
     "output_type": "execute_result"
    }
   ],
   "source": [
    "df.describe(include= ['object', 'int64', 'float64'])"
   ]
  },
  {
   "cell_type": "markdown",
   "metadata": {},
   "source": [
    "``` \n",
    "1. Backend engineer seems to be the frequent job position\n",
    "2. There are 205843 rows and 7 columns\n",
    "3. Let's clean the data set first handling null, duplicates and outliers\n",
    "```"
   ]
  },
  {
   "cell_type": "code",
   "execution_count": 143,
   "metadata": {},
   "outputs": [],
   "source": [
    "# defining a functin to clean the strings containing anything other than letters, numbers, and spaces\n",
    "import re\n",
    "\n",
    "def clean_string(s):\n",
    "    if not isinstance(s, str):\n",
    "        s= str(s)\n",
    "    return re.sub('[^A-Za-z0-9 ]+', '', s)"
   ]
  },
  {
   "cell_type": "code",
   "execution_count": 144,
   "metadata": {},
   "outputs": [],
   "source": [
    "df1= df.copy()"
   ]
  },
  {
   "cell_type": "code",
   "execution_count": 145,
   "metadata": {},
   "outputs": [],
   "source": [
    "df1['company_hash']= df1['company_hash'].apply(clean_string)"
   ]
  },
  {
   "cell_type": "code",
   "execution_count": 146,
   "metadata": {},
   "outputs": [
    {
     "data": {
      "text/plain": [
       "np.int64(0)"
      ]
     },
     "execution_count": 146,
     "metadata": {},
     "output_type": "execute_result"
    }
   ],
   "source": [
    "df1.duplicated().sum()"
   ]
  },
  {
   "cell_type": "markdown",
   "metadata": {},
   "source": [
    "``` Since data can not be duplicated in terms of email and company, I am gonna drop some rows```"
   ]
  },
  {
   "cell_type": "code",
   "execution_count": 147,
   "metadata": {},
   "outputs": [],
   "source": [
    "df1.drop_duplicates(subset= ['email_hash', 'company_hash'], keep= 'last', inplace= True)"
   ]
  },
  {
   "cell_type": "code",
   "execution_count": 148,
   "metadata": {},
   "outputs": [
    {
     "data": {
      "text/plain": [
       "Unnamed: 0              0\n",
       "company_hash            0\n",
       "email_hash              0\n",
       "orgyear                80\n",
       "ctc                     0\n",
       "job_position        36629\n",
       "ctc_updated_year        0\n",
       "dtype: int64"
      ]
     },
     "execution_count": 148,
     "metadata": {},
     "output_type": "execute_result"
    }
   ],
   "source": [
    "df1.isna().sum()"
   ]
  },
  {
   "cell_type": "markdown",
   "metadata": {},
   "source": [
    "``` \n",
    "1.The email and the company data are hashed, therefore I had to drop rows based on uniqueness of each of those 2 features-\n",
    "\n",
    "2. \"hashed\" refers to the process of transforming data (like email addresses and company names) into a fixed-size string of characters, which is typically a hexadecimal number.\n",
    "\n",
    "```"
   ]
  },
  {
   "cell_type": "code",
   "execution_count": 149,
   "metadata": {},
   "outputs": [],
   "source": [
    "df1.drop(columns= ['Unnamed: 0'], inplace= True)"
   ]
  },
  {
   "cell_type": "code",
   "execution_count": 150,
   "metadata": {},
   "outputs": [],
   "source": [
    "# since ctc_updated_year is float64, we will convert it to datetime datatype\n",
    "df1['ctc_updated_year']= pd.to_datetime(df1['ctc_updated_year'], format= '%Y')\n",
    "df1['ctc_updated_year'] = df1['ctc_updated_year'].dt.year"
   ]
  },
  {
   "cell_type": "code",
   "execution_count": 151,
   "metadata": {},
   "outputs": [
    {
     "data": {
      "text/plain": [
       "<Axes: xlabel='orgyear'>"
      ]
     },
     "execution_count": 151,
     "metadata": {},
     "output_type": "execute_result"
    },
    {
     "data": {
      "image/png": "[encoded data removed]",
      "text/plain": [
       "<Figure size 640x480 with 1 Axes>"
      ]
     },
     "metadata": {},
     "output_type": "display_data"
    }
   ],
   "source": [
    "sns.boxplot(df1, x= 'orgyear')"
   ]
  },
  {
   "cell_type": "code",
   "execution_count": 152,
   "metadata": {},
   "outputs": [],
   "source": [
    "valid_years= range(1900, 2025)\n",
    "df1['orgyear'] = df1['orgyear'].apply(lambda x: x if x in valid_years else np.nan)\n",
    "\n",
    "# Changing float datatype to datetime data type\n",
    "df1['orgyear']= pd.to_datetime(df1['orgyear'], format= '%Y')\n",
    "df1['orgyear']= df1['orgyear'].dt.year"
   ]
  },
  {
   "cell_type": "code",
   "execution_count": 153,
   "metadata": {},
   "outputs": [
    {
     "data": {
      "text/plain": [
       "company_hash            0\n",
       "email_hash              0\n",
       "orgyear               154\n",
       "ctc                     0\n",
       "job_position        36629\n",
       "ctc_updated_year        0\n",
       "dtype: int64"
      ]
     },
     "execution_count": 153,
     "metadata": {},
     "output_type": "execute_result"
    }
   ],
   "source": [
    "df1.isna().sum()"
   ]
  },
  {
   "cell_type": "code",
   "execution_count": 154,
   "metadata": {},
   "outputs": [],
   "source": [
    "from sklearn.impute import KNNImputer"
   ]
  },
  {
   "cell_type": "code",
   "execution_count": 155,
   "metadata": {},
   "outputs": [
    {
     "name": "stderr",
     "output_type": "stream",
     "text": [
      "/tmp/ipykernel_2277/2803118310.py:1: FutureWarning: A value is trying to be set on a copy of a DataFrame or Series through chained assignment using an inplace method.\n",
      "The behavior will change in pandas 3.0. This inplace method will never work because the intermediate object on which we are setting values always behaves as a copy.\n",
      "\n",
      "For example, when doing 'df[col].method(value, inplace=True)', try using 'df.method({col: value}, inplace=True)' or df[col] = df[col].method(value) instead, to perform the operation inplace on the original object.\n",
      "\n",
      "\n",
      "  df1['job_position'].fillna('other', inplace= True)\n"
     ]
    }
   ],
   "source": [
    "df1['job_position'].fillna('other', inplace= True)\n",
    "\n",
    "knn_imputer = KNNImputer(n_neighbors= 5)\n",
    "numerical_cols= ['orgyear']\n",
    "\n",
    "df1[numerical_cols]= knn_imputer.fit_transform(df1[numerical_cols])"
   ]
  },
  {
   "cell_type": "code",
   "execution_count": 156,
   "metadata": {},
   "outputs": [
    {
     "data": {
      "text/plain": [
       "company_hash        0\n",
       "email_hash          0\n",
       "orgyear             0\n",
       "ctc                 0\n",
       "job_position        0\n",
       "ctc_updated_year    0\n",
       "dtype: int64"
      ]
     },
     "execution_count": 156,
     "metadata": {},
     "output_type": "execute_result"
    }
   ],
   "source": [
    "df1.isna().sum()"
   ]
  },
  {
   "cell_type": "markdown",
   "metadata": {},
   "source": [
    "``` data is clean from here on```"
   ]
  },
  {
   "cell_type": "code",
   "execution_count": 157,
   "metadata": {},
   "outputs": [],
   "source": [
    "from datetime import datetime"
   ]
  },
  {
   "cell_type": "code",
   "execution_count": 158,
   "metadata": {},
   "outputs": [],
   "source": [
    "## Engineering new features to get years of xperience\n",
    "current_year= datetime.now().year\n",
    "df1['YOE']= current_year - df1['orgyear']"
   ]
  },
  {
   "cell_type": "code",
   "execution_count": 159,
   "metadata": {},
   "outputs": [
    {
     "data": {
      "text/html": [
       "<div>\n",
       "<style scoped>\n",
       "    .dataframe tbody tr th:only-of-type {\n",
       "        vertical-align: middle;\n",
       "    }\n",
       "\n",
       "    .dataframe tbody tr th {\n",
       "        vertical-align: top;\n",
       "    }\n",
       "\n",
       "    .dataframe thead th {\n",
       "        text-align: right;\n",
       "    }\n",
       "</style>\n",
       "<table border=\"1\" class=\"dataframe\">\n",
       "  <thead>\n",
       "    <tr style=\"text-align: right;\">\n",
       "      <th></th>\n",
       "      <th>company_hash</th>\n",
       "      <th>email_hash</th>\n",
       "      <th>orgyear</th>\n",
       "      <th>ctc</th>\n",
       "      <th>job_position</th>\n",
       "      <th>ctc_updated_year</th>\n",
       "      <th>YOE</th>\n",
       "    </tr>\n",
       "  </thead>\n",
       "  <tbody>\n",
       "    <tr>\n",
       "      <th>0</th>\n",
       "      <td>atrgxnnt xzaxv</td>\n",
       "      <td>6de0a4417d18ab14334c3f43397fc13b30c35149d70c05...</td>\n",
       "      <td>2016.0</td>\n",
       "      <td>1100000</td>\n",
       "      <td>Other</td>\n",
       "      <td>2020</td>\n",
       "      <td>9.0</td>\n",
       "    </tr>\n",
       "    <tr>\n",
       "      <th>2</th>\n",
       "      <td>ojzwnvwnxw vx</td>\n",
       "      <td>4860c670bcd48fb96c02a4b0ae3608ae6fdd98176112e9...</td>\n",
       "      <td>2015.0</td>\n",
       "      <td>2000000</td>\n",
       "      <td>Backend Engineer</td>\n",
       "      <td>2020</td>\n",
       "      <td>10.0</td>\n",
       "    </tr>\n",
       "    <tr>\n",
       "      <th>3</th>\n",
       "      <td>ngpgutaxv</td>\n",
       "      <td>effdede7a2e7c2af664c8a31d9346385016128d66bbc58...</td>\n",
       "      <td>2017.0</td>\n",
       "      <td>700000</td>\n",
       "      <td>Backend Engineer</td>\n",
       "      <td>2019</td>\n",
       "      <td>8.0</td>\n",
       "    </tr>\n",
       "    <tr>\n",
       "      <th>7</th>\n",
       "      <td>vwwtznhqt ntwyzgrgsj</td>\n",
       "      <td>756d35a7f6bb8ffeaffc8fcca9ddbb78e7450fa0de2be0...</td>\n",
       "      <td>2019.0</td>\n",
       "      <td>400000</td>\n",
       "      <td>Backend Engineer</td>\n",
       "      <td>2019</td>\n",
       "      <td>6.0</td>\n",
       "    </tr>\n",
       "    <tr>\n",
       "      <th>9</th>\n",
       "      <td>xrbhd</td>\n",
       "      <td>b2dc928f4c22a9860b4a427efb8ab761e1ce0015fba1a5...</td>\n",
       "      <td>2019.0</td>\n",
       "      <td>360000</td>\n",
       "      <td>other</td>\n",
       "      <td>2019</td>\n",
       "      <td>6.0</td>\n",
       "    </tr>\n",
       "  </tbody>\n",
       "</table>\n",
       "</div>"
      ],
      "text/plain": [
       "           company_hash                                         email_hash  \\\n",
       "0        atrgxnnt xzaxv  6de0a4417d18ab14334c3f43397fc13b30c35149d70c05...   \n",
       "2         ojzwnvwnxw vx  4860c670bcd48fb96c02a4b0ae3608ae6fdd98176112e9...   \n",
       "3             ngpgutaxv  effdede7a2e7c2af664c8a31d9346385016128d66bbc58...   \n",
       "7  vwwtznhqt ntwyzgrgsj  756d35a7f6bb8ffeaffc8fcca9ddbb78e7450fa0de2be0...   \n",
       "9                 xrbhd  b2dc928f4c22a9860b4a427efb8ab761e1ce0015fba1a5...   \n",
       "\n",
       "   orgyear      ctc      job_position  ctc_updated_year   YOE  \n",
       "0   2016.0  1100000             Other              2020   9.0  \n",
       "2   2015.0  2000000  Backend Engineer              2020  10.0  \n",
       "3   2017.0   700000  Backend Engineer              2019   8.0  \n",
       "7   2019.0   400000  Backend Engineer              2019   6.0  \n",
       "9   2019.0   360000             other              2019   6.0  "
      ]
     },
     "execution_count": 159,
     "metadata": {},
     "output_type": "execute_result"
    }
   ],
   "source": [
    "df1.head(5)"
   ]
  },
  {
   "cell_type": "code",
   "execution_count": 160,
   "metadata": {},
   "outputs": [
    {
     "data": {
      "image/png": "[encoded data removed]",
      "text/plain": [
       "<Figure size 1200x600 with 2 Axes>"
      ]
     },
     "metadata": {},
     "output_type": "display_data"
    }
   ],
   "source": [
    "## let's do some boxplots for CTC and YOE- this is helping to check outliers, if any.\n",
    "fig, ax= plt.subplots(1, 2, figsize= (12,6))\n",
    "sns.boxplot(data= df1, x= 'ctc', ax= ax[0])\n",
    "ax[0].set_title('CTC')\n",
    "ax[0].tick_params(axis='y', colors='white')\n",
    "\n",
    "sns.boxplot(data= df1, x= 'YOE', ax= ax[1])\n",
    "ax[1].set_title('Years of Experince')\n",
    "ax[1].tick_params(axis= 'y', colors= 'white')\n",
    "\n",
    "plt.show()"
   ]
  },
  {
   "cell_type": "markdown",
   "metadata": {},
   "source": [
    "``` significant outliers in the data, which can impact clustering algorithm```"
   ]
  },
  {
   "cell_type": "code",
   "execution_count": 161,
   "metadata": {},
   "outputs": [],
   "source": [
    "## capping the upper bounds for both ctc and YOE\n",
    "ctc_upper_bound = df1['ctc'].quantile(0.99)\n",
    "df1['ctc_capped']= np.clip(df1['ctc'], df1['ctc'].min(), ctc_upper_bound)\n",
    "\n",
    "yoe_upper_bound= df1['YOE'].quantile(0.99)\n",
    "df1['YOE_capped']= np.clip(df1['YOE'], df1['YOE'].min(), yoe_upper_bound)"
   ]
  },
  {
   "cell_type": "code",
   "execution_count": 162,
   "metadata": {},
   "outputs": [
    {
     "data": {
      "text/html": [
       "<div>\n",
       "<style scoped>\n",
       "    .dataframe tbody tr th:only-of-type {\n",
       "        vertical-align: middle;\n",
       "    }\n",
       "\n",
       "    .dataframe tbody tr th {\n",
       "        vertical-align: top;\n",
       "    }\n",
       "\n",
       "    .dataframe thead th {\n",
       "        text-align: right;\n",
       "    }\n",
       "</style>\n",
       "<table border=\"1\" class=\"dataframe\">\n",
       "  <thead>\n",
       "    <tr style=\"text-align: right;\">\n",
       "      <th></th>\n",
       "      <th>company_hash</th>\n",
       "      <th>email_hash</th>\n",
       "      <th>orgyear</th>\n",
       "      <th>ctc</th>\n",
       "      <th>job_position</th>\n",
       "      <th>ctc_updated_year</th>\n",
       "      <th>YOE</th>\n",
       "      <th>ctc_capped</th>\n",
       "      <th>YOE_capped</th>\n",
       "    </tr>\n",
       "  </thead>\n",
       "  <tbody>\n",
       "    <tr>\n",
       "      <th>0</th>\n",
       "      <td>atrgxnnt xzaxv</td>\n",
       "      <td>6de0a4417d18ab14334c3f43397fc13b30c35149d70c05...</td>\n",
       "      <td>2016.0</td>\n",
       "      <td>1100000</td>\n",
       "      <td>Other</td>\n",
       "      <td>2020</td>\n",
       "      <td>9.0</td>\n",
       "      <td>1100000</td>\n",
       "      <td>9.0</td>\n",
       "    </tr>\n",
       "    <tr>\n",
       "      <th>2</th>\n",
       "      <td>ojzwnvwnxw vx</td>\n",
       "      <td>4860c670bcd48fb96c02a4b0ae3608ae6fdd98176112e9...</td>\n",
       "      <td>2015.0</td>\n",
       "      <td>2000000</td>\n",
       "      <td>Backend Engineer</td>\n",
       "      <td>2020</td>\n",
       "      <td>10.0</td>\n",
       "      <td>2000000</td>\n",
       "      <td>10.0</td>\n",
       "    </tr>\n",
       "    <tr>\n",
       "      <th>3</th>\n",
       "      <td>ngpgutaxv</td>\n",
       "      <td>effdede7a2e7c2af664c8a31d9346385016128d66bbc58...</td>\n",
       "      <td>2017.0</td>\n",
       "      <td>700000</td>\n",
       "      <td>Backend Engineer</td>\n",
       "      <td>2019</td>\n",
       "      <td>8.0</td>\n",
       "      <td>700000</td>\n",
       "      <td>8.0</td>\n",
       "    </tr>\n",
       "    <tr>\n",
       "      <th>7</th>\n",
       "      <td>vwwtznhqt ntwyzgrgsj</td>\n",
       "      <td>756d35a7f6bb8ffeaffc8fcca9ddbb78e7450fa0de2be0...</td>\n",
       "      <td>2019.0</td>\n",
       "      <td>400000</td>\n",
       "      <td>Backend Engineer</td>\n",
       "      <td>2019</td>\n",
       "      <td>6.0</td>\n",
       "      <td>400000</td>\n",
       "      <td>6.0</td>\n",
       "    </tr>\n",
       "    <tr>\n",
       "      <th>9</th>\n",
       "      <td>xrbhd</td>\n",
       "      <td>b2dc928f4c22a9860b4a427efb8ab761e1ce0015fba1a5...</td>\n",
       "      <td>2019.0</td>\n",
       "      <td>360000</td>\n",
       "      <td>other</td>\n",
       "      <td>2019</td>\n",
       "      <td>6.0</td>\n",
       "      <td>360000</td>\n",
       "      <td>6.0</td>\n",
       "    </tr>\n",
       "    <tr>\n",
       "      <th>...</th>\n",
       "      <td>...</td>\n",
       "      <td>...</td>\n",
       "      <td>...</td>\n",
       "      <td>...</td>\n",
       "      <td>...</td>\n",
       "      <td>...</td>\n",
       "      <td>...</td>\n",
       "      <td>...</td>\n",
       "      <td>...</td>\n",
       "    </tr>\n",
       "    <tr>\n",
       "      <th>205838</th>\n",
       "      <td>vuurt xzw</td>\n",
       "      <td>70027b728c8ee901fe979533ed94ffda97be08fc23f33b...</td>\n",
       "      <td>2008.0</td>\n",
       "      <td>220000</td>\n",
       "      <td>other</td>\n",
       "      <td>2019</td>\n",
       "      <td>17.0</td>\n",
       "      <td>220000</td>\n",
       "      <td>17.0</td>\n",
       "    </tr>\n",
       "    <tr>\n",
       "      <th>205839</th>\n",
       "      <td>husqvawgb</td>\n",
       "      <td>7f7292ffad724ebbe9ca860f515245368d714c84705b42...</td>\n",
       "      <td>2017.0</td>\n",
       "      <td>500000</td>\n",
       "      <td>other</td>\n",
       "      <td>2020</td>\n",
       "      <td>8.0</td>\n",
       "      <td>500000</td>\n",
       "      <td>8.0</td>\n",
       "    </tr>\n",
       "    <tr>\n",
       "      <th>205840</th>\n",
       "      <td>vwwgrxnt</td>\n",
       "      <td>cb25cc7304e9a24facda7f5567c7922ffc48e3d5d6018c...</td>\n",
       "      <td>2021.0</td>\n",
       "      <td>700000</td>\n",
       "      <td>other</td>\n",
       "      <td>2021</td>\n",
       "      <td>4.0</td>\n",
       "      <td>700000</td>\n",
       "      <td>4.0</td>\n",
       "    </tr>\n",
       "    <tr>\n",
       "      <th>205841</th>\n",
       "      <td>zgn vuurxwvmrt</td>\n",
       "      <td>fb46a1a2752f5f652ce634f6178d0578ef6995ee59f6c8...</td>\n",
       "      <td>2019.0</td>\n",
       "      <td>5100000</td>\n",
       "      <td>other</td>\n",
       "      <td>2019</td>\n",
       "      <td>6.0</td>\n",
       "      <td>5100000</td>\n",
       "      <td>6.0</td>\n",
       "    </tr>\n",
       "    <tr>\n",
       "      <th>205842</th>\n",
       "      <td>bgqsvz onvzrtj</td>\n",
       "      <td>0bcfc1d05f2e8dc4147743a1313aa70a119b41b30d4a1f...</td>\n",
       "      <td>2014.0</td>\n",
       "      <td>1240000</td>\n",
       "      <td>other</td>\n",
       "      <td>2016</td>\n",
       "      <td>11.0</td>\n",
       "      <td>1240000</td>\n",
       "      <td>11.0</td>\n",
       "    </tr>\n",
       "  </tbody>\n",
       "</table>\n",
       "<p>160312 rows × 9 columns</p>\n",
       "</div>"
      ],
      "text/plain": [
       "                company_hash  \\\n",
       "0             atrgxnnt xzaxv   \n",
       "2              ojzwnvwnxw vx   \n",
       "3                  ngpgutaxv   \n",
       "7       vwwtznhqt ntwyzgrgsj   \n",
       "9                      xrbhd   \n",
       "...                      ...   \n",
       "205838             vuurt xzw   \n",
       "205839             husqvawgb   \n",
       "205840              vwwgrxnt   \n",
       "205841        zgn vuurxwvmrt   \n",
       "205842        bgqsvz onvzrtj   \n",
       "\n",
       "                                               email_hash  orgyear      ctc  \\\n",
       "0       6de0a4417d18ab14334c3f43397fc13b30c35149d70c05...   2016.0  1100000   \n",
       "2       4860c670bcd48fb96c02a4b0ae3608ae6fdd98176112e9...   2015.0  2000000   \n",
       "3       effdede7a2e7c2af664c8a31d9346385016128d66bbc58...   2017.0   700000   \n",
       "7       756d35a7f6bb8ffeaffc8fcca9ddbb78e7450fa0de2be0...   2019.0   400000   \n",
       "9       b2dc928f4c22a9860b4a427efb8ab761e1ce0015fba1a5...   2019.0   360000   \n",
       "...                                                   ...      ...      ...   \n",
       "205838  70027b728c8ee901fe979533ed94ffda97be08fc23f33b...   2008.0   220000   \n",
       "205839  7f7292ffad724ebbe9ca860f515245368d714c84705b42...   2017.0   500000   \n",
       "205840  cb25cc7304e9a24facda7f5567c7922ffc48e3d5d6018c...   2021.0   700000   \n",
       "205841  fb46a1a2752f5f652ce634f6178d0578ef6995ee59f6c8...   2019.0  5100000   \n",
       "205842  0bcfc1d05f2e8dc4147743a1313aa70a119b41b30d4a1f...   2014.0  1240000   \n",
       "\n",
       "            job_position  ctc_updated_year   YOE  ctc_capped  YOE_capped  \n",
       "0                  Other              2020   9.0     1100000         9.0  \n",
       "2       Backend Engineer              2020  10.0     2000000        10.0  \n",
       "3       Backend Engineer              2019   8.0      700000         8.0  \n",
       "7       Backend Engineer              2019   6.0      400000         6.0  \n",
       "9                  other              2019   6.0      360000         6.0  \n",
       "...                  ...               ...   ...         ...         ...  \n",
       "205838             other              2019  17.0      220000        17.0  \n",
       "205839             other              2020   8.0      500000         8.0  \n",
       "205840             other              2021   4.0      700000         4.0  \n",
       "205841             other              2019   6.0     5100000         6.0  \n",
       "205842             other              2016  11.0     1240000        11.0  \n",
       "\n",
       "[160312 rows x 9 columns]"
      ]
     },
     "execution_count": 162,
     "metadata": {},
     "output_type": "execute_result"
    }
   ],
   "source": [
    "df1"
   ]
  },
  {
   "cell_type": "code",
   "execution_count": 163,
   "metadata": {},
   "outputs": [
    {
     "data": {
      "image/png": "[encoded data removed]",
      "text/plain": [
       "<Figure size 1200x600 with 2 Axes>"
      ]
     },
     "metadata": {},
     "output_type": "display_data"
    }
   ],
   "source": [
    "fig, ax= plt.subplots(1, 2, figsize=(12,6))\n",
    "\n",
    "sns.boxplot(data= df1, x= 'ctc_capped', ax= ax[0])\n",
    "ax[0].set_title(\"ctc capped\")\n",
    "\n",
    "sns.boxplot(data= df1, x= 'YOE_capped', ax= ax[1])\n",
    "ax[1].set_title(\"YOE capped\")\n",
    "\n",
    "plt.tight_layout()\n",
    "plt.show()"
   ]
  },
  {
   "cell_type": "code",
   "execution_count": 164,
   "metadata": {},
   "outputs": [],
   "source": [
    "# lets drop the old  ctc and yoe columns\n",
    "df1.drop(['ctc', 'YOE'], inplace= True, axis = 1)"
   ]
  },
  {
   "cell_type": "code",
   "execution_count": 165,
   "metadata": {},
   "outputs": [
    {
     "name": "stdout",
     "output_type": "stream",
     "text": [
      "<class 'pandas.core.frame.DataFrame'>\n",
      "Index: 160312 entries, 0 to 205842\n",
      "Data columns (total 7 columns):\n",
      " #   Column            Non-Null Count   Dtype  \n",
      "---  ------            --------------   -----  \n",
      " 0   company_hash      160312 non-null  object \n",
      " 1   email_hash        160312 non-null  object \n",
      " 2   orgyear           160312 non-null  float64\n",
      " 3   job_position      160312 non-null  object \n",
      " 4   ctc_updated_year  160312 non-null  int32  \n",
      " 5   ctc_capped        160312 non-null  int64  \n",
      " 6   YOE_capped        160312 non-null  float64\n",
      "dtypes: float64(2), int32(1), int64(1), object(3)\n",
      "memory usage: 9.2+ MB\n"
     ]
    }
   ],
   "source": [
    "df1.info()"
   ]
  },
  {
   "cell_type": "markdown",
   "metadata": {},
   "source": [
    "```\n",
    "Creating Flags to engineer some feature:\n",
    "\n",
    "Designation Flag: CTC on the basis of Company, Job Position and Years of Experience\n",
    "Class Flag: CTC On the basis of Company and Job Position\n",
    "Tier Flag: CTC On the basis of Company\n",
    "\n",
    "```"
   ]
  },
  {
   "cell_type": "code",
   "execution_count": 166,
   "metadata": {},
   "outputs": [],
   "source": [
    "group_summary_designation= df1.groupby(['company_hash', 'job_position', 'YOE_capped'])['ctc_capped'].agg(['mean']).reset_index()\n",
    "group_summary_designation.rename(columns= {'mean': 'mean_designation'}, inplace= True)\n",
    "\n",
    "group_summary_class= df1.groupby(['company_hash', 'job_position'])['ctc_capped'].agg(['mean']).reset_index()\n",
    "group_summary_class.rename(columns= {'mean':'mean_class'}, inplace= True)\n",
    "\n",
    "group_summary_tier= df1.groupby(['company_hash'])['ctc_capped'].agg(['mean']).reset_index()\n",
    "group_summary_tier.rename(columns= {'mean':'mean_tier'}, inplace= True)\n"
   ]
  },
  {
   "cell_type": "code",
   "execution_count": 167,
   "metadata": {},
   "outputs": [],
   "source": [
    "df2= df1.merge(group_summary_designation, on= ['company_hash', 'job_position', 'YOE_capped'])\n",
    "df2= df2.merge(group_summary_class, on= ['company_hash', 'job_position'])\n",
    "df2= df2.merge(group_summary_tier, on= ['company_hash'])"
   ]
  },
  {
   "cell_type": "code",
   "execution_count": 168,
   "metadata": {},
   "outputs": [
    {
     "data": {
      "text/html": [
       "<div>\n",
       "<style scoped>\n",
       "    .dataframe tbody tr th:only-of-type {\n",
       "        vertical-align: middle;\n",
       "    }\n",
       "\n",
       "    .dataframe tbody tr th {\n",
       "        vertical-align: top;\n",
       "    }\n",
       "\n",
       "    .dataframe thead th {\n",
       "        text-align: right;\n",
       "    }\n",
       "</style>\n",
       "<table border=\"1\" class=\"dataframe\">\n",
       "  <thead>\n",
       "    <tr style=\"text-align: right;\">\n",
       "      <th></th>\n",
       "      <th>company_hash</th>\n",
       "      <th>email_hash</th>\n",
       "      <th>orgyear</th>\n",
       "      <th>job_position</th>\n",
       "      <th>ctc_updated_year</th>\n",
       "      <th>ctc_capped</th>\n",
       "      <th>YOE_capped</th>\n",
       "      <th>mean_designation</th>\n",
       "      <th>mean_class</th>\n",
       "      <th>mean_tier</th>\n",
       "    </tr>\n",
       "  </thead>\n",
       "  <tbody>\n",
       "    <tr>\n",
       "      <th>0</th>\n",
       "      <td>atrgxnnt xzaxv</td>\n",
       "      <td>6de0a4417d18ab14334c3f43397fc13b30c35149d70c05...</td>\n",
       "      <td>2016.0</td>\n",
       "      <td>Other</td>\n",
       "      <td>2020</td>\n",
       "      <td>1100000</td>\n",
       "      <td>9.0</td>\n",
       "      <td>1100000.0</td>\n",
       "      <td>1.085000e+06</td>\n",
       "      <td>1.115667e+06</td>\n",
       "    </tr>\n",
       "    <tr>\n",
       "      <th>1</th>\n",
       "      <td>ojzwnvwnxw vx</td>\n",
       "      <td>4860c670bcd48fb96c02a4b0ae3608ae6fdd98176112e9...</td>\n",
       "      <td>2015.0</td>\n",
       "      <td>Backend Engineer</td>\n",
       "      <td>2020</td>\n",
       "      <td>2000000</td>\n",
       "      <td>10.0</td>\n",
       "      <td>2000000.0</td>\n",
       "      <td>2.000000e+06</td>\n",
       "      <td>2.000000e+06</td>\n",
       "    </tr>\n",
       "    <tr>\n",
       "      <th>2</th>\n",
       "      <td>ngpgutaxv</td>\n",
       "      <td>effdede7a2e7c2af664c8a31d9346385016128d66bbc58...</td>\n",
       "      <td>2017.0</td>\n",
       "      <td>Backend Engineer</td>\n",
       "      <td>2019</td>\n",
       "      <td>700000</td>\n",
       "      <td>8.0</td>\n",
       "      <td>1060000.0</td>\n",
       "      <td>1.515000e+06</td>\n",
       "      <td>1.674091e+06</td>\n",
       "    </tr>\n",
       "    <tr>\n",
       "      <th>3</th>\n",
       "      <td>vwwtznhqt ntwyzgrgsj</td>\n",
       "      <td>756d35a7f6bb8ffeaffc8fcca9ddbb78e7450fa0de2be0...</td>\n",
       "      <td>2019.0</td>\n",
       "      <td>Backend Engineer</td>\n",
       "      <td>2019</td>\n",
       "      <td>400000</td>\n",
       "      <td>6.0</td>\n",
       "      <td>425000.0</td>\n",
       "      <td>1.243333e+06</td>\n",
       "      <td>8.115000e+05</td>\n",
       "    </tr>\n",
       "    <tr>\n",
       "      <th>4</th>\n",
       "      <td>xrbhd</td>\n",
       "      <td>b2dc928f4c22a9860b4a427efb8ab761e1ce0015fba1a5...</td>\n",
       "      <td>2019.0</td>\n",
       "      <td>other</td>\n",
       "      <td>2019</td>\n",
       "      <td>360000</td>\n",
       "      <td>6.0</td>\n",
       "      <td>360000.0</td>\n",
       "      <td>3.600000e+05</td>\n",
       "      <td>3.600000e+05</td>\n",
       "    </tr>\n",
       "  </tbody>\n",
       "</table>\n",
       "</div>"
      ],
      "text/plain": [
       "           company_hash                                         email_hash  \\\n",
       "0        atrgxnnt xzaxv  6de0a4417d18ab14334c3f43397fc13b30c35149d70c05...   \n",
       "1         ojzwnvwnxw vx  4860c670bcd48fb96c02a4b0ae3608ae6fdd98176112e9...   \n",
       "2             ngpgutaxv  effdede7a2e7c2af664c8a31d9346385016128d66bbc58...   \n",
       "3  vwwtznhqt ntwyzgrgsj  756d35a7f6bb8ffeaffc8fcca9ddbb78e7450fa0de2be0...   \n",
       "4                 xrbhd  b2dc928f4c22a9860b4a427efb8ab761e1ce0015fba1a5...   \n",
       "\n",
       "   orgyear      job_position  ctc_updated_year  ctc_capped  YOE_capped  \\\n",
       "0   2016.0             Other              2020     1100000         9.0   \n",
       "1   2015.0  Backend Engineer              2020     2000000        10.0   \n",
       "2   2017.0  Backend Engineer              2019      700000         8.0   \n",
       "3   2019.0  Backend Engineer              2019      400000         6.0   \n",
       "4   2019.0             other              2019      360000         6.0   \n",
       "\n",
       "   mean_designation    mean_class     mean_tier  \n",
       "0         1100000.0  1.085000e+06  1.115667e+06  \n",
       "1         2000000.0  2.000000e+06  2.000000e+06  \n",
       "2         1060000.0  1.515000e+06  1.674091e+06  \n",
       "3          425000.0  1.243333e+06  8.115000e+05  \n",
       "4          360000.0  3.600000e+05  3.600000e+05  "
      ]
     },
     "execution_count": 168,
     "metadata": {},
     "output_type": "execute_result"
    }
   ],
   "source": [
    "df2.head()"
   ]
  },
  {
   "cell_type": "code",
   "execution_count": 169,
   "metadata": {},
   "outputs": [],
   "source": [
    "def designation_flag(row):\n",
    "    if row['ctc_capped'] > row['mean_designation']:\n",
    "        return 3\n",
    "    elif row['ctc_capped'] == row['mean_designation']:\n",
    "        return 2\n",
    "    elif row['ctc_capped'] < row['mean_designation']:\n",
    "        return 1\n",
    "\n",
    "def class_flag(row):\n",
    "    if row['ctc_capped'] > row['mean_class']:\n",
    "        return 3\n",
    "    elif row['ctc_capped'] == row['mean_class']:\n",
    "        return 2\n",
    "    elif row['ctc_capped'] < row['mean_class']:\n",
    "        return 1    \n",
    "\n",
    "def tier_flag(row):\n",
    "    if row['ctc_capped'] > row['mean_tier']:\n",
    "        return 3\n",
    "    elif row['ctc_capped'] == row['mean_tier']:\n",
    "        return 2\n",
    "    elif row['ctc_capped'] < row['mean_tier']:\n",
    "        return 1\n"
   ]
  },
  {
   "cell_type": "code",
   "execution_count": 170,
   "metadata": {},
   "outputs": [],
   "source": [
    "df2['designation_flag']= df2.apply(designation_flag, axis= 1)\n",
    "df2['class_flag']= df2.apply(class_flag, axis = 1)\n",
    "df2['tier_flag']= df2.apply(tier_flag, axis = 1)"
   ]
  },
  {
   "cell_type": "code",
   "execution_count": 171,
   "metadata": {},
   "outputs": [
    {
     "data": {
      "text/html": [
       "<div>\n",
       "<style scoped>\n",
       "    .dataframe tbody tr th:only-of-type {\n",
       "        vertical-align: middle;\n",
       "    }\n",
       "\n",
       "    .dataframe tbody tr th {\n",
       "        vertical-align: top;\n",
       "    }\n",
       "\n",
       "    .dataframe thead th {\n",
       "        text-align: right;\n",
       "    }\n",
       "</style>\n",
       "<table border=\"1\" class=\"dataframe\">\n",
       "  <thead>\n",
       "    <tr style=\"text-align: right;\">\n",
       "      <th></th>\n",
       "      <th>company_hash</th>\n",
       "      <th>email_hash</th>\n",
       "      <th>orgyear</th>\n",
       "      <th>job_position</th>\n",
       "      <th>ctc_updated_year</th>\n",
       "      <th>ctc_capped</th>\n",
       "      <th>YOE_capped</th>\n",
       "      <th>mean_designation</th>\n",
       "      <th>mean_class</th>\n",
       "      <th>mean_tier</th>\n",
       "      <th>designation_flag</th>\n",
       "      <th>class_flag</th>\n",
       "      <th>tier_flag</th>\n",
       "    </tr>\n",
       "  </thead>\n",
       "  <tbody>\n",
       "    <tr>\n",
       "      <th>0</th>\n",
       "      <td>atrgxnnt xzaxv</td>\n",
       "      <td>6de0a4417d18ab14334c3f43397fc13b30c35149d70c05...</td>\n",
       "      <td>2016.0</td>\n",
       "      <td>Other</td>\n",
       "      <td>2020</td>\n",
       "      <td>1100000</td>\n",
       "      <td>9.0</td>\n",
       "      <td>1100000.0</td>\n",
       "      <td>1085000.0</td>\n",
       "      <td>1.115667e+06</td>\n",
       "      <td>2</td>\n",
       "      <td>3</td>\n",
       "      <td>1</td>\n",
       "    </tr>\n",
       "    <tr>\n",
       "      <th>1</th>\n",
       "      <td>ojzwnvwnxw vx</td>\n",
       "      <td>4860c670bcd48fb96c02a4b0ae3608ae6fdd98176112e9...</td>\n",
       "      <td>2015.0</td>\n",
       "      <td>Backend Engineer</td>\n",
       "      <td>2020</td>\n",
       "      <td>2000000</td>\n",
       "      <td>10.0</td>\n",
       "      <td>2000000.0</td>\n",
       "      <td>2000000.0</td>\n",
       "      <td>2.000000e+06</td>\n",
       "      <td>2</td>\n",
       "      <td>2</td>\n",
       "      <td>2</td>\n",
       "    </tr>\n",
       "    <tr>\n",
       "      <th>2</th>\n",
       "      <td>ngpgutaxv</td>\n",
       "      <td>effdede7a2e7c2af664c8a31d9346385016128d66bbc58...</td>\n",
       "      <td>2017.0</td>\n",
       "      <td>Backend Engineer</td>\n",
       "      <td>2019</td>\n",
       "      <td>700000</td>\n",
       "      <td>8.0</td>\n",
       "      <td>1060000.0</td>\n",
       "      <td>1515000.0</td>\n",
       "      <td>1.674091e+06</td>\n",
       "      <td>1</td>\n",
       "      <td>1</td>\n",
       "      <td>1</td>\n",
       "    </tr>\n",
       "  </tbody>\n",
       "</table>\n",
       "</div>"
      ],
      "text/plain": [
       "     company_hash                                         email_hash  orgyear  \\\n",
       "0  atrgxnnt xzaxv  6de0a4417d18ab14334c3f43397fc13b30c35149d70c05...   2016.0   \n",
       "1   ojzwnvwnxw vx  4860c670bcd48fb96c02a4b0ae3608ae6fdd98176112e9...   2015.0   \n",
       "2       ngpgutaxv  effdede7a2e7c2af664c8a31d9346385016128d66bbc58...   2017.0   \n",
       "\n",
       "       job_position  ctc_updated_year  ctc_capped  YOE_capped  \\\n",
       "0             Other              2020     1100000         9.0   \n",
       "1  Backend Engineer              2020     2000000        10.0   \n",
       "2  Backend Engineer              2019      700000         8.0   \n",
       "\n",
       "   mean_designation  mean_class     mean_tier  designation_flag  class_flag  \\\n",
       "0         1100000.0   1085000.0  1.115667e+06                 2           3   \n",
       "1         2000000.0   2000000.0  2.000000e+06                 2           2   \n",
       "2         1060000.0   1515000.0  1.674091e+06                 1           1   \n",
       "\n",
       "   tier_flag  \n",
       "0          1  \n",
       "1          2  \n",
       "2          1  "
      ]
     },
     "execution_count": 171,
     "metadata": {},
     "output_type": "execute_result"
    }
   ],
   "source": [
    "df2.head(3)"
   ]
  },
  {
   "cell_type": "code",
   "execution_count": 172,
   "metadata": {},
   "outputs": [],
   "source": [
    "df2.drop(['mean_designation', 'mean_class', 'mean_tier'], axis= 1, inplace= True)"
   ]
  },
  {
   "cell_type": "code",
   "execution_count": 173,
   "metadata": {},
   "outputs": [
    {
     "data": {
      "text/html": [
       "<div>\n",
       "<style scoped>\n",
       "    .dataframe tbody tr th:only-of-type {\n",
       "        vertical-align: middle;\n",
       "    }\n",
       "\n",
       "    .dataframe tbody tr th {\n",
       "        vertical-align: top;\n",
       "    }\n",
       "\n",
       "    .dataframe thead th {\n",
       "        text-align: right;\n",
       "    }\n",
       "</style>\n",
       "<table border=\"1\" class=\"dataframe\">\n",
       "  <thead>\n",
       "    <tr style=\"text-align: right;\">\n",
       "      <th></th>\n",
       "      <th>company_hash</th>\n",
       "      <th>email_hash</th>\n",
       "      <th>orgyear</th>\n",
       "      <th>job_position</th>\n",
       "      <th>ctc_updated_year</th>\n",
       "      <th>ctc_capped</th>\n",
       "      <th>YOE_capped</th>\n",
       "      <th>designation_flag</th>\n",
       "      <th>class_flag</th>\n",
       "      <th>tier_flag</th>\n",
       "    </tr>\n",
       "  </thead>\n",
       "  <tbody>\n",
       "    <tr>\n",
       "      <th>148015</th>\n",
       "      <td>vbvkgz ftm otqcxwto</td>\n",
       "      <td>0932dc8d855953b2ac63c8046c9fb33f7f554174b6c2fe...</td>\n",
       "      <td>2013.0</td>\n",
       "      <td>Backend Engineer</td>\n",
       "      <td>2019</td>\n",
       "      <td>11200000</td>\n",
       "      <td>12.0</td>\n",
       "      <td>1</td>\n",
       "      <td>3</td>\n",
       "      <td>3</td>\n",
       "    </tr>\n",
       "    <tr>\n",
       "      <th>131677</th>\n",
       "      <td>sqvm</td>\n",
       "      <td>ed3b3231ac4758173e68bcde8eac3842497e153d9d1832...</td>\n",
       "      <td>2015.0</td>\n",
       "      <td>Engineering Leadership</td>\n",
       "      <td>2019</td>\n",
       "      <td>9200000</td>\n",
       "      <td>10.0</td>\n",
       "      <td>1</td>\n",
       "      <td>3</td>\n",
       "      <td>3</td>\n",
       "    </tr>\n",
       "    <tr>\n",
       "      <th>148563</th>\n",
       "      <td>hmtq</td>\n",
       "      <td>9885423385b89dd905f1df74a1d6e71906ccccd915c7e4...</td>\n",
       "      <td>2013.0</td>\n",
       "      <td>Engineering Leadership</td>\n",
       "      <td>2020</td>\n",
       "      <td>8500000</td>\n",
       "      <td>12.0</td>\n",
       "      <td>1</td>\n",
       "      <td>3</td>\n",
       "      <td>3</td>\n",
       "    </tr>\n",
       "    <tr>\n",
       "      <th>76860</th>\n",
       "      <td>xzntr wgqugqvnxgz</td>\n",
       "      <td>9aa54ea5c7e0b2567cc43718bd6516f3cfefb5622b6e2b...</td>\n",
       "      <td>2015.0</td>\n",
       "      <td>Other</td>\n",
       "      <td>2021</td>\n",
       "      <td>8400000</td>\n",
       "      <td>10.0</td>\n",
       "      <td>1</td>\n",
       "      <td>3</td>\n",
       "      <td>3</td>\n",
       "    </tr>\n",
       "    <tr>\n",
       "      <th>56203</th>\n",
       "      <td>fvrbvqn rvmo</td>\n",
       "      <td>9adf861294aa69336409395a5474ce6f9ffbfd38594ed4...</td>\n",
       "      <td>2010.0</td>\n",
       "      <td>Backend Architect</td>\n",
       "      <td>2019</td>\n",
       "      <td>8100000</td>\n",
       "      <td>15.0</td>\n",
       "      <td>1</td>\n",
       "      <td>3</td>\n",
       "      <td>3</td>\n",
       "    </tr>\n",
       "    <tr>\n",
       "      <th>156086</th>\n",
       "      <td>vba</td>\n",
       "      <td>f9530fc2d3629fc9a04c7e4e2ea6b8ddbe03eb3a97caff...</td>\n",
       "      <td>2003.0</td>\n",
       "      <td>Engineering Leadership</td>\n",
       "      <td>2020</td>\n",
       "      <td>8100000</td>\n",
       "      <td>22.0</td>\n",
       "      <td>1</td>\n",
       "      <td>1</td>\n",
       "      <td>3</td>\n",
       "    </tr>\n",
       "    <tr>\n",
       "      <th>3193</th>\n",
       "      <td>eqttwyvqst</td>\n",
       "      <td>28dc7d414a336ebfecf691f1db3b9cdc95b58ffede1107...</td>\n",
       "      <td>2005.0</td>\n",
       "      <td>Engineering Leadership</td>\n",
       "      <td>2020</td>\n",
       "      <td>7300000</td>\n",
       "      <td>20.0</td>\n",
       "      <td>1</td>\n",
       "      <td>3</td>\n",
       "      <td>3</td>\n",
       "    </tr>\n",
       "    <tr>\n",
       "      <th>122147</th>\n",
       "      <td>sggsrt</td>\n",
       "      <td>97f2289a59953b4e94f8d2436f6edf621b9a359d919bbc...</td>\n",
       "      <td>2019.0</td>\n",
       "      <td>FullStack Engineer</td>\n",
       "      <td>2020</td>\n",
       "      <td>7300000</td>\n",
       "      <td>6.0</td>\n",
       "      <td>1</td>\n",
       "      <td>3</td>\n",
       "      <td>3</td>\n",
       "    </tr>\n",
       "    <tr>\n",
       "      <th>44474</th>\n",
       "      <td>gnytq</td>\n",
       "      <td>4f4f4bac863dc79205345fd614a4e4cd4c99718533c60d...</td>\n",
       "      <td>2017.0</td>\n",
       "      <td>Data Analyst</td>\n",
       "      <td>2019</td>\n",
       "      <td>7300000</td>\n",
       "      <td>8.0</td>\n",
       "      <td>1</td>\n",
       "      <td>3</td>\n",
       "      <td>3</td>\n",
       "    </tr>\n",
       "    <tr>\n",
       "      <th>127554</th>\n",
       "      <td>vbvkgz</td>\n",
       "      <td>16ccf03850703672fe9e1ddd44571f98931d9788cd703d...</td>\n",
       "      <td>2004.0</td>\n",
       "      <td>Engineering Leadership</td>\n",
       "      <td>2017</td>\n",
       "      <td>7000000</td>\n",
       "      <td>21.0</td>\n",
       "      <td>1</td>\n",
       "      <td>3</td>\n",
       "      <td>3</td>\n",
       "    </tr>\n",
       "  </tbody>\n",
       "</table>\n",
       "</div>"
      ],
      "text/plain": [
       "               company_hash  \\\n",
       "148015  vbvkgz ftm otqcxwto   \n",
       "131677                 sqvm   \n",
       "148563                 hmtq   \n",
       "76860     xzntr wgqugqvnxgz   \n",
       "56203          fvrbvqn rvmo   \n",
       "156086                  vba   \n",
       "3193             eqttwyvqst   \n",
       "122147               sggsrt   \n",
       "44474                 gnytq   \n",
       "127554               vbvkgz   \n",
       "\n",
       "                                               email_hash  orgyear  \\\n",
       "148015  0932dc8d855953b2ac63c8046c9fb33f7f554174b6c2fe...   2013.0   \n",
       "131677  ed3b3231ac4758173e68bcde8eac3842497e153d9d1832...   2015.0   \n",
       "148563  9885423385b89dd905f1df74a1d6e71906ccccd915c7e4...   2013.0   \n",
       "76860   9aa54ea5c7e0b2567cc43718bd6516f3cfefb5622b6e2b...   2015.0   \n",
       "56203   9adf861294aa69336409395a5474ce6f9ffbfd38594ed4...   2010.0   \n",
       "156086  f9530fc2d3629fc9a04c7e4e2ea6b8ddbe03eb3a97caff...   2003.0   \n",
       "3193    28dc7d414a336ebfecf691f1db3b9cdc95b58ffede1107...   2005.0   \n",
       "122147  97f2289a59953b4e94f8d2436f6edf621b9a359d919bbc...   2019.0   \n",
       "44474   4f4f4bac863dc79205345fd614a4e4cd4c99718533c60d...   2017.0   \n",
       "127554  16ccf03850703672fe9e1ddd44571f98931d9788cd703d...   2004.0   \n",
       "\n",
       "                  job_position  ctc_updated_year  ctc_capped  YOE_capped  \\\n",
       "148015        Backend Engineer              2019    11200000        12.0   \n",
       "131677  Engineering Leadership              2019     9200000        10.0   \n",
       "148563  Engineering Leadership              2020     8500000        12.0   \n",
       "76860                    Other              2021     8400000        10.0   \n",
       "56203        Backend Architect              2019     8100000        15.0   \n",
       "156086  Engineering Leadership              2020     8100000        22.0   \n",
       "3193    Engineering Leadership              2020     7300000        20.0   \n",
       "122147      FullStack Engineer              2020     7300000         6.0   \n",
       "44474             Data Analyst              2019     7300000         8.0   \n",
       "127554  Engineering Leadership              2017     7000000        21.0   \n",
       "\n",
       "        designation_flag  class_flag  tier_flag  \n",
       "148015                 1           3          3  \n",
       "131677                 1           3          3  \n",
       "148563                 1           3          3  \n",
       "76860                  1           3          3  \n",
       "56203                  1           3          3  \n",
       "156086                 1           1          3  \n",
       "3193                   1           3          3  \n",
       "122147                 1           3          3  \n",
       "44474                  1           3          3  \n",
       "127554                 1           3          3  "
      ]
     },
     "execution_count": 173,
     "metadata": {},
     "output_type": "execute_result"
    }
   ],
   "source": [
    "##Top 10 Employees with Designation Flag 1 (Earning More Than Most of Their Peers with Same Job Position and Experience)\n",
    "\n",
    "top_10_designation1= df2[df2['designation_flag']==1].sort_values(by= 'ctc_capped', ascending= False).head(10)\n",
    "\n",
    "top_10_designation1 "
   ]
  },
  {
   "cell_type": "code",
   "execution_count": 174,
   "metadata": {},
   "outputs": [
    {
     "data": {
      "text/html": [
       "<div>\n",
       "<style scoped>\n",
       "    .dataframe tbody tr th:only-of-type {\n",
       "        vertical-align: middle;\n",
       "    }\n",
       "\n",
       "    .dataframe tbody tr th {\n",
       "        vertical-align: top;\n",
       "    }\n",
       "\n",
       "    .dataframe thead th {\n",
       "        text-align: right;\n",
       "    }\n",
       "</style>\n",
       "<table border=\"1\" class=\"dataframe\">\n",
       "  <thead>\n",
       "    <tr style=\"text-align: right;\">\n",
       "      <th></th>\n",
       "      <th>company_hash</th>\n",
       "      <th>email_hash</th>\n",
       "      <th>orgyear</th>\n",
       "      <th>job_position</th>\n",
       "      <th>ctc_updated_year</th>\n",
       "      <th>ctc_capped</th>\n",
       "      <th>YOE_capped</th>\n",
       "      <th>designation_flag</th>\n",
       "      <th>class_flag</th>\n",
       "      <th>tier_flag</th>\n",
       "    </tr>\n",
       "  </thead>\n",
       "  <tbody>\n",
       "    <tr>\n",
       "      <th>79474</th>\n",
       "      <td>xzntqcxtfmxn</td>\n",
       "      <td>23ad96d6b6f1ecf554a52f6e9b61677c7d73d8a409a143...</td>\n",
       "      <td>2013.0</td>\n",
       "      <td>other</td>\n",
       "      <td>2018</td>\n",
       "      <td>14</td>\n",
       "      <td>12.0</td>\n",
       "      <td>3</td>\n",
       "      <td>1</td>\n",
       "      <td>1</td>\n",
       "    </tr>\n",
       "    <tr>\n",
       "      <th>47427</th>\n",
       "      <td>xz rgwg</td>\n",
       "      <td>66573ebeb4fcfc496d2af1548a18a62ec3a48dae59d1cc...</td>\n",
       "      <td>2016.0</td>\n",
       "      <td>Backend Engineer</td>\n",
       "      <td>2016</td>\n",
       "      <td>16000</td>\n",
       "      <td>9.0</td>\n",
       "      <td>3</td>\n",
       "      <td>3</td>\n",
       "      <td>3</td>\n",
       "    </tr>\n",
       "    <tr>\n",
       "      <th>64227</th>\n",
       "      <td>xmtd</td>\n",
       "      <td>792ac1d3daa5bc5fef39e3d61e0722cce004a0b81966b1...</td>\n",
       "      <td>2016.0</td>\n",
       "      <td>FullStack Engineer</td>\n",
       "      <td>2021</td>\n",
       "      <td>27000</td>\n",
       "      <td>9.0</td>\n",
       "      <td>3</td>\n",
       "      <td>3</td>\n",
       "      <td>3</td>\n",
       "    </tr>\n",
       "    <tr>\n",
       "      <th>52273</th>\n",
       "      <td>wgbgag</td>\n",
       "      <td>87f95061ed13da965818fded3d19249bc6d88de3b73ff2...</td>\n",
       "      <td>2014.0</td>\n",
       "      <td>Backend Engineer</td>\n",
       "      <td>2017</td>\n",
       "      <td>36000</td>\n",
       "      <td>11.0</td>\n",
       "      <td>3</td>\n",
       "      <td>3</td>\n",
       "      <td>1</td>\n",
       "    </tr>\n",
       "    <tr>\n",
       "      <th>100591</th>\n",
       "      <td>kvrgqv sqghu</td>\n",
       "      <td>0b1eeb6d24629a06d29fcd410c02d0f1f2577a0a050c54...</td>\n",
       "      <td>2017.0</td>\n",
       "      <td>Backend Engineer</td>\n",
       "      <td>2020</td>\n",
       "      <td>40000</td>\n",
       "      <td>8.0</td>\n",
       "      <td>3</td>\n",
       "      <td>3</td>\n",
       "      <td>3</td>\n",
       "    </tr>\n",
       "    <tr>\n",
       "      <th>70535</th>\n",
       "      <td>ogwxn szqvrt</td>\n",
       "      <td>38e8416bc59782b9fb60b144657130662ec8dab8094a41...</td>\n",
       "      <td>2018.0</td>\n",
       "      <td>Data Scientist</td>\n",
       "      <td>2021</td>\n",
       "      <td>55000</td>\n",
       "      <td>7.0</td>\n",
       "      <td>3</td>\n",
       "      <td>1</td>\n",
       "      <td>1</td>\n",
       "    </tr>\n",
       "    <tr>\n",
       "      <th>131283</th>\n",
       "      <td>cxkqn</td>\n",
       "      <td>718ad268d9c671de079ff1c55f93e91a2d06928243ad29...</td>\n",
       "      <td>2011.0</td>\n",
       "      <td>Backend Engineer</td>\n",
       "      <td>2020</td>\n",
       "      <td>55000</td>\n",
       "      <td>14.0</td>\n",
       "      <td>3</td>\n",
       "      <td>3</td>\n",
       "      <td>3</td>\n",
       "    </tr>\n",
       "    <tr>\n",
       "      <th>119630</th>\n",
       "      <td>zvnxgzvr wgrrtst ge xqtrvza</td>\n",
       "      <td>fb10b6e7b4fcc82e96f5a591146046c0988c23cccb8269...</td>\n",
       "      <td>2019.0</td>\n",
       "      <td>Other</td>\n",
       "      <td>2019</td>\n",
       "      <td>60000</td>\n",
       "      <td>6.0</td>\n",
       "      <td>3</td>\n",
       "      <td>3</td>\n",
       "      <td>3</td>\n",
       "    </tr>\n",
       "    <tr>\n",
       "      <th>153359</th>\n",
       "      <td>wtqz</td>\n",
       "      <td>217504679c19c4738eb44eacb651c80432d3a3801f62a5...</td>\n",
       "      <td>2014.0</td>\n",
       "      <td>FullStack Engineer</td>\n",
       "      <td>2019</td>\n",
       "      <td>65000</td>\n",
       "      <td>11.0</td>\n",
       "      <td>3</td>\n",
       "      <td>3</td>\n",
       "      <td>1</td>\n",
       "    </tr>\n",
       "    <tr>\n",
       "      <th>61670</th>\n",
       "      <td>jvzatd</td>\n",
       "      <td>2f31b0f7d87048f22a9a6eb33526325d0b3f470185652b...</td>\n",
       "      <td>2019.0</td>\n",
       "      <td>Backend Engineer</td>\n",
       "      <td>2020</td>\n",
       "      <td>70000</td>\n",
       "      <td>6.0</td>\n",
       "      <td>3</td>\n",
       "      <td>1</td>\n",
       "      <td>1</td>\n",
       "    </tr>\n",
       "  </tbody>\n",
       "</table>\n",
       "</div>"
      ],
      "text/plain": [
       "                       company_hash  \\\n",
       "79474                  xzntqcxtfmxn   \n",
       "47427                       xz rgwg   \n",
       "64227                          xmtd   \n",
       "52273                        wgbgag   \n",
       "100591                 kvrgqv sqghu   \n",
       "70535                  ogwxn szqvrt   \n",
       "131283                        cxkqn   \n",
       "119630  zvnxgzvr wgrrtst ge xqtrvza   \n",
       "153359                         wtqz   \n",
       "61670                        jvzatd   \n",
       "\n",
       "                                               email_hash  orgyear  \\\n",
       "79474   23ad96d6b6f1ecf554a52f6e9b61677c7d73d8a409a143...   2013.0   \n",
       "47427   66573ebeb4fcfc496d2af1548a18a62ec3a48dae59d1cc...   2016.0   \n",
       "64227   792ac1d3daa5bc5fef39e3d61e0722cce004a0b81966b1...   2016.0   \n",
       "52273   87f95061ed13da965818fded3d19249bc6d88de3b73ff2...   2014.0   \n",
       "100591  0b1eeb6d24629a06d29fcd410c02d0f1f2577a0a050c54...   2017.0   \n",
       "70535   38e8416bc59782b9fb60b144657130662ec8dab8094a41...   2018.0   \n",
       "131283  718ad268d9c671de079ff1c55f93e91a2d06928243ad29...   2011.0   \n",
       "119630  fb10b6e7b4fcc82e96f5a591146046c0988c23cccb8269...   2019.0   \n",
       "153359  217504679c19c4738eb44eacb651c80432d3a3801f62a5...   2014.0   \n",
       "61670   2f31b0f7d87048f22a9a6eb33526325d0b3f470185652b...   2019.0   \n",
       "\n",
       "              job_position  ctc_updated_year  ctc_capped  YOE_capped  \\\n",
       "79474                other              2018          14        12.0   \n",
       "47427     Backend Engineer              2016       16000         9.0   \n",
       "64227   FullStack Engineer              2021       27000         9.0   \n",
       "52273     Backend Engineer              2017       36000        11.0   \n",
       "100591    Backend Engineer              2020       40000         8.0   \n",
       "70535       Data Scientist              2021       55000         7.0   \n",
       "131283    Backend Engineer              2020       55000        14.0   \n",
       "119630               Other              2019       60000         6.0   \n",
       "153359  FullStack Engineer              2019       65000        11.0   \n",
       "61670     Backend Engineer              2020       70000         6.0   \n",
       "\n",
       "        designation_flag  class_flag  tier_flag  \n",
       "79474                  3           1          1  \n",
       "47427                  3           3          3  \n",
       "64227                  3           3          3  \n",
       "52273                  3           3          1  \n",
       "100591                 3           3          3  \n",
       "70535                  3           1          1  \n",
       "131283                 3           3          3  \n",
       "119630                 3           3          3  \n",
       "153359                 3           3          1  \n",
       "61670                  3           1          1  "
      ]
     },
     "execution_count": 174,
     "metadata": {},
     "output_type": "execute_result"
    }
   ],
   "source": [
    "# Bottom 10 Employees with Designation Flag 3 (Earning Less Than Most of Their Peers with Same Job Position and Experience)\n",
    "bottom_10_designation3= df2[df2['designation_flag']== 3].sort_values(by= 'ctc_capped', ascending= True).head(10)\n",
    "bottom_10_designation3"
   ]
  },
  {
   "cell_type": "code",
   "execution_count": 175,
   "metadata": {},
   "outputs": [
    {
     "data": {
      "text/plain": [
       "(37300, 160312)"
      ]
     },
     "execution_count": 175,
     "metadata": {},
     "output_type": "execute_result"
    }
   ],
   "source": [
    "len(df2['company_hash'].unique()), len(df2['company_hash'])"
   ]
  },
  {
   "cell_type": "code",
   "execution_count": 176,
   "metadata": {},
   "outputs": [
    {
     "data": {
      "text/html": [
       "<div>\n",
       "<style scoped>\n",
       "    .dataframe tbody tr th:only-of-type {\n",
       "        vertical-align: middle;\n",
       "    }\n",
       "\n",
       "    .dataframe tbody tr th {\n",
       "        vertical-align: top;\n",
       "    }\n",
       "\n",
       "    .dataframe thead th {\n",
       "        text-align: right;\n",
       "    }\n",
       "</style>\n",
       "<table border=\"1\" class=\"dataframe\">\n",
       "  <thead>\n",
       "    <tr style=\"text-align: right;\">\n",
       "      <th></th>\n",
       "      <th>company_hash</th>\n",
       "      <th>email_hash</th>\n",
       "      <th>orgyear</th>\n",
       "      <th>job_position</th>\n",
       "      <th>ctc_updated_year</th>\n",
       "      <th>ctc_capped</th>\n",
       "      <th>YOE_capped</th>\n",
       "      <th>designation_flag</th>\n",
       "      <th>class_flag</th>\n",
       "      <th>tier_flag</th>\n",
       "    </tr>\n",
       "  </thead>\n",
       "  <tbody>\n",
       "    <tr>\n",
       "      <th>0</th>\n",
       "      <td>atrgxnnt xzaxv</td>\n",
       "      <td>6de0a4417d18ab14334c3f43397fc13b30c35149d70c05...</td>\n",
       "      <td>2016.0</td>\n",
       "      <td>Other</td>\n",
       "      <td>2020</td>\n",
       "      <td>1100000</td>\n",
       "      <td>9.0</td>\n",
       "      <td>2</td>\n",
       "      <td>3</td>\n",
       "      <td>1</td>\n",
       "    </tr>\n",
       "    <tr>\n",
       "      <th>1</th>\n",
       "      <td>ojzwnvwnxw vx</td>\n",
       "      <td>4860c670bcd48fb96c02a4b0ae3608ae6fdd98176112e9...</td>\n",
       "      <td>2015.0</td>\n",
       "      <td>Backend Engineer</td>\n",
       "      <td>2020</td>\n",
       "      <td>2000000</td>\n",
       "      <td>10.0</td>\n",
       "      <td>2</td>\n",
       "      <td>2</td>\n",
       "      <td>2</td>\n",
       "    </tr>\n",
       "    <tr>\n",
       "      <th>2</th>\n",
       "      <td>ngpgutaxv</td>\n",
       "      <td>effdede7a2e7c2af664c8a31d9346385016128d66bbc58...</td>\n",
       "      <td>2017.0</td>\n",
       "      <td>Backend Engineer</td>\n",
       "      <td>2019</td>\n",
       "      <td>700000</td>\n",
       "      <td>8.0</td>\n",
       "      <td>1</td>\n",
       "      <td>1</td>\n",
       "      <td>1</td>\n",
       "    </tr>\n",
       "  </tbody>\n",
       "</table>\n",
       "</div>"
      ],
      "text/plain": [
       "     company_hash                                         email_hash  orgyear  \\\n",
       "0  atrgxnnt xzaxv  6de0a4417d18ab14334c3f43397fc13b30c35149d70c05...   2016.0   \n",
       "1   ojzwnvwnxw vx  4860c670bcd48fb96c02a4b0ae3608ae6fdd98176112e9...   2015.0   \n",
       "2       ngpgutaxv  effdede7a2e7c2af664c8a31d9346385016128d66bbc58...   2017.0   \n",
       "\n",
       "       job_position  ctc_updated_year  ctc_capped  YOE_capped  \\\n",
       "0             Other              2020     1100000         9.0   \n",
       "1  Backend Engineer              2020     2000000        10.0   \n",
       "2  Backend Engineer              2019      700000         8.0   \n",
       "\n",
       "   designation_flag  class_flag  tier_flag  \n",
       "0                 2           3          1  \n",
       "1                 2           2          2  \n",
       "2                 1           1          1  "
      ]
     },
     "execution_count": 176,
     "metadata": {},
     "output_type": "execute_result"
    }
   ],
   "source": [
    "df2.head(3)"
   ]
  },
  {
   "cell_type": "code",
   "execution_count": 177,
   "metadata": {},
   "outputs": [
    {
     "data": {
      "image/png": "[encoded data removed]",
      "text/plain": [
       "<Figure size 1500x400 with 3 Axes>"
      ]
     },
     "metadata": {},
     "output_type": "display_data"
    }
   ],
   "source": [
    "fig, ax= plt.subplots(1, 3, figsize= (15,4))\n",
    "\n",
    "\n",
    "sns.countplot(data= df2, x= 'designation_flag', ax= ax[0])\n",
    "ax[0].set_ylabel('Count')\n",
    "\n",
    "sns.countplot(data= df2, x= 'class_flag', ax= ax[1])\n",
    "ax[1].set_ylabel('count')\n",
    "\n",
    "\n",
    "sns.countplot(data= df2, x= 'tier_flag', ax= ax[2])\n",
    "ax[2].set_ylabel('count')\n",
    "\n",
    "\n",
    "plt.tight_layout()\n",
    "plt.show()"
   ]
  },
  {
   "cell_type": "code",
   "execution_count": 178,
   "metadata": {},
   "outputs": [
    {
     "data": {
      "text/plain": [
       "company_hash\n",
       "vbvkgz                       966\n",
       "xzegojo                      806\n",
       "nvnv wgzohrnvzwj otqcxwto    795\n",
       "gqvwrt                       646\n",
       "bxwqgogen                    623\n",
       "zvz                          485\n",
       "zgn vuurxwvmrt vwwghzn       442\n",
       "wgszxkvzn                    433\n",
       "vagmt                        380\n",
       "wvustbxzx                    360\n",
       "Name: count, dtype: int64"
      ]
     },
     "execution_count": 178,
     "metadata": {},
     "output_type": "execute_result"
    }
   ],
   "source": [
    "# checking the distibutin of the learners based on Tier 3 flag to check which companies are dominating\n",
    "\n",
    "tier_3_company_counts= df2[df2['tier_flag']== 3]['company_hash'].value_counts()\n",
    "tier_3_company_counts.head(10)"
   ]
  },
  {
   "cell_type": "markdown",
   "metadata": {},
   "source": [
    "``` \n",
    "Jumping on to\n",
    "1. Univariate\n",
    "2. Bi-Variate\n",
    "```"
   ]
  },
  {
   "cell_type": "code",
   "execution_count": 179,
   "metadata": {},
   "outputs": [
    {
     "name": "stdout",
     "output_type": "stream",
     "text": [
      "<class 'pandas.core.frame.DataFrame'>\n",
      "RangeIndex: 160312 entries, 0 to 160311\n",
      "Data columns (total 10 columns):\n",
      " #   Column            Non-Null Count   Dtype  \n",
      "---  ------            --------------   -----  \n",
      " 0   company_hash      160312 non-null  object \n",
      " 1   email_hash        160312 non-null  object \n",
      " 2   orgyear           160312 non-null  float64\n",
      " 3   job_position      160312 non-null  object \n",
      " 4   ctc_updated_year  160312 non-null  int32  \n",
      " 5   ctc_capped        160312 non-null  int64  \n",
      " 6   YOE_capped        160312 non-null  float64\n",
      " 7   designation_flag  160312 non-null  int64  \n",
      " 8   class_flag        160312 non-null  int64  \n",
      " 9   tier_flag         160312 non-null  int64  \n",
      "dtypes: float64(2), int32(1), int64(4), object(3)\n",
      "memory usage: 11.6+ MB\n"
     ]
    }
   ],
   "source": [
    "df2.info()"
   ]
  },
  {
   "cell_type": "code",
   "execution_count": 180,
   "metadata": {},
   "outputs": [],
   "source": [
    "obj_cols= ['company_hash', 'job_position', 'orgyear']\n",
    "num_cols= ['ctc_capped', 'YOE_capped']"
   ]
  },
  {
   "cell_type": "code",
   "execution_count": 181,
   "metadata": {},
   "outputs": [
    {
     "data": {
      "image/png": "[encoded data removed]",
      "text/plain": [
       "<Figure size 1500x600 with 3 Axes>"
      ]
     },
     "metadata": {},
     "output_type": "display_data"
    }
   ],
   "source": [
    "# doing count plots for object columns\n",
    "fig, ax= plt.subplots(len(obj_cols), 1, figsize= (15,6))\n",
    "\n",
    "for i, col in enumerate(obj_cols):\n",
    "    top10= df2[col].value_counts().nlargest(10)\n",
    "    filtered_data= df2[df2[col].isin(top10.index)]\n",
    "    sns.countplot(data= filtered_data, x= col, ax= ax[i])\n",
    "    plt.title(col)\n",
    "    plt.xticks(rotation= 90)\n",
    "\n",
    "plt.tight_layout()\n",
    "plt.show()"
   ]
  },
  {
   "cell_type": "code",
   "execution_count": 182,
   "metadata": {},
   "outputs": [
    {
     "data": {
      "image/png": "[encoded data removed]",
      "text/plain": [
       "<Figure size 1200x600 with 4 Axes>"
      ]
     },
     "metadata": {},
     "output_type": "display_data"
    }
   ],
   "source": [
    "fig, ax= plt.subplots(len(num_cols), 2, figsize= (12, 6))\n",
    "\n",
    "for i, col in enumerate(num_cols):\n",
    "    sns.histplot(data= df2, x= col, kde= True, ax= ax[i][0])\n",
    "    ax[i][0].set_title(f\"histogram of {col}\")\n",
    "    \n",
    "    sns.boxplot(data= df2, x= col, ax= ax[i][1])\n",
    "    ax[i][1].set_title(f\"boxplot of {col}\")\n",
    "\n",
    "plt.tight_layout()\n",
    "plt.show()"
   ]
  },
  {
   "cell_type": "code",
   "execution_count": 183,
   "metadata": {},
   "outputs": [
    {
     "data": {
      "text/plain": [
       "Text(0.5, 1.0, 'CTC tred with Years of Experience')"
      ]
     },
     "execution_count": 183,
     "metadata": {},
     "output_type": "execute_result"
    },
    {
     "data": {
      "image/png": "[encoded data removed]",
      "text/plain": [
       "<Figure size 640x480 with 1 Axes>"
      ]
     },
     "metadata": {},
     "output_type": "display_data"
    }
   ],
   "source": [
    "## ctc vs YOE\n",
    "\n",
    "sns.scatterplot(data= df2, x= 'YOE_capped', y= 'ctc_capped')\n",
    "plt.title(\"CTC tred with Years of Experience\")"
   ]
  },
  {
   "cell_type": "code",
   "execution_count": 184,
   "metadata": {},
   "outputs": [
    {
     "data": {
      "text/plain": [
       "Text(0, 0.5, 'avg ctc')"
      ]
     },
     "execution_count": 184,
     "metadata": {},
     "output_type": "execute_result"
    },
    {
     "data": {
      "image/png": "[encoded data removed]",
      "text/plain": [
       "<Figure size 640x480 with 1 Axes>"
      ]
     },
     "metadata": {},
     "output_type": "display_data"
    }
   ],
   "source": [
    "avg_ctc_per_yoe= df2.groupby(['YOE_capped'])['ctc_capped'].agg(['mean']).reset_index()\n",
    "\n",
    "sns.lineplot(data= avg_ctc_per_yoe, x= 'YOE_capped', y= 'mean', marker= 'o')\n",
    "plt.title(\"Avg ctc per year of experience\")\n",
    "plt.xlabel('years of experience')\n",
    "plt.ylabel(\"avg ctc\")"
   ]
  },
  {
   "cell_type": "code",
   "execution_count": 185,
   "metadata": {},
   "outputs": [
    {
     "data": {
      "text/html": [
       "<div>\n",
       "<style scoped>\n",
       "    .dataframe tbody tr th:only-of-type {\n",
       "        vertical-align: middle;\n",
       "    }\n",
       "\n",
       "    .dataframe tbody tr th {\n",
       "        vertical-align: top;\n",
       "    }\n",
       "\n",
       "    .dataframe thead th {\n",
       "        text-align: right;\n",
       "    }\n",
       "</style>\n",
       "<table border=\"1\" class=\"dataframe\">\n",
       "  <thead>\n",
       "    <tr style=\"text-align: right;\">\n",
       "      <th></th>\n",
       "      <th>job_position</th>\n",
       "      <th>mean</th>\n",
       "    </tr>\n",
       "  </thead>\n",
       "  <tbody>\n",
       "    <tr>\n",
       "      <th>614</th>\n",
       "      <td>Teaching</td>\n",
       "      <td>20000000.0</td>\n",
       "    </tr>\n",
       "    <tr>\n",
       "      <th>648</th>\n",
       "      <td>Telar</td>\n",
       "      <td>20000000.0</td>\n",
       "    </tr>\n",
       "    <tr>\n",
       "      <th>462</th>\n",
       "      <td>Senior System Engineer</td>\n",
       "      <td>20000000.0</td>\n",
       "    </tr>\n",
       "    <tr>\n",
       "      <th>106</th>\n",
       "      <td>Business Man</td>\n",
       "      <td>20000000.0</td>\n",
       "    </tr>\n",
       "    <tr>\n",
       "      <th>369</th>\n",
       "      <td>Reseller</td>\n",
       "      <td>20000000.0</td>\n",
       "    </tr>\n",
       "    <tr>\n",
       "      <th>...</th>\n",
       "      <td>...</td>\n",
       "      <td>...</td>\n",
       "    </tr>\n",
       "    <tr>\n",
       "      <th>240</th>\n",
       "      <td>Junior consultant</td>\n",
       "      <td>10000.0</td>\n",
       "    </tr>\n",
       "    <tr>\n",
       "      <th>698</th>\n",
       "      <td>project engineer</td>\n",
       "      <td>7900.0</td>\n",
       "    </tr>\n",
       "    <tr>\n",
       "      <th>206</th>\n",
       "      <td>Full-stack web developer</td>\n",
       "      <td>7500.0</td>\n",
       "    </tr>\n",
       "    <tr>\n",
       "      <th>638</th>\n",
       "      <td>Technical consultant</td>\n",
       "      <td>2000.0</td>\n",
       "    </tr>\n",
       "    <tr>\n",
       "      <th>295</th>\n",
       "      <td>New graduate</td>\n",
       "      <td>2000.0</td>\n",
       "    </tr>\n",
       "  </tbody>\n",
       "</table>\n",
       "<p>708 rows × 2 columns</p>\n",
       "</div>"
      ],
      "text/plain": [
       "                 job_position        mean\n",
       "614                  Teaching  20000000.0\n",
       "648                     Telar  20000000.0\n",
       "462    Senior System Engineer  20000000.0\n",
       "106              Business Man  20000000.0\n",
       "369                  Reseller  20000000.0\n",
       "..                        ...         ...\n",
       "240         Junior consultant     10000.0\n",
       "698          project engineer      7900.0\n",
       "206  Full-stack web developer      7500.0\n",
       "638      Technical consultant      2000.0\n",
       "295              New graduate      2000.0\n",
       "\n",
       "[708 rows x 2 columns]"
      ]
     },
     "execution_count": 185,
     "metadata": {},
     "output_type": "execute_result"
    }
   ],
   "source": [
    "df2.groupby(['job_position'])['ctc_capped'].agg(['mean']).reset_index().sort_values(by= 'mean', ascending= False)"
   ]
  },
  {
   "cell_type": "code",
   "execution_count": 186,
   "metadata": {},
   "outputs": [
    {
     "data": {
      "image/png": "[encoded data removed]",
      "text/plain": [
       "<Figure size 640x480 with 2 Axes>"
      ]
     },
     "metadata": {},
     "output_type": "display_data"
    }
   ],
   "source": [
    "# heat map\n",
    "\n",
    "sns.heatmap(df2[['orgyear','ctc_updated_year','ctc_capped','YOE_capped']].corr(), annot= True )\n",
    "plt.title(\"correlation heatmap\")\n",
    "plt.show()"
   ]
  },
  {
   "cell_type": "markdown",
   "metadata": {},
   "source": [
    "```\n",
    "orgyear and ctc_updated_year shown weak positive correlation\n",
    "Years of Experience and orgyear show strong negative correlation\n",
    "Years of Experience and CTC show weak positive correaltion\n",
    "```"
   ]
  },
  {
   "cell_type": "markdown",
   "metadata": {},
   "source": [
    "#### Data Processing for Unsupervised Learning"
   ]
  },
  {
   "cell_type": "code",
   "execution_count": 187,
   "metadata": {},
   "outputs": [
    {
     "data": {
      "text/html": [
       "<div>\n",
       "<style scoped>\n",
       "    .dataframe tbody tr th:only-of-type {\n",
       "        vertical-align: middle;\n",
       "    }\n",
       "\n",
       "    .dataframe tbody tr th {\n",
       "        vertical-align: top;\n",
       "    }\n",
       "\n",
       "    .dataframe thead th {\n",
       "        text-align: right;\n",
       "    }\n",
       "</style>\n",
       "<table border=\"1\" class=\"dataframe\">\n",
       "  <thead>\n",
       "    <tr style=\"text-align: right;\">\n",
       "      <th></th>\n",
       "      <th>company_hash</th>\n",
       "      <th>email_hash</th>\n",
       "      <th>orgyear</th>\n",
       "      <th>job_position</th>\n",
       "      <th>ctc_updated_year</th>\n",
       "      <th>ctc_capped</th>\n",
       "      <th>YOE_capped</th>\n",
       "    </tr>\n",
       "  </thead>\n",
       "  <tbody>\n",
       "    <tr>\n",
       "      <th>0</th>\n",
       "      <td>atrgxnnt xzaxv</td>\n",
       "      <td>6de0a4417d18ab14334c3f43397fc13b30c35149d70c05...</td>\n",
       "      <td>2016.0</td>\n",
       "      <td>Other</td>\n",
       "      <td>2020</td>\n",
       "      <td>1100000</td>\n",
       "      <td>9.0</td>\n",
       "    </tr>\n",
       "    <tr>\n",
       "      <th>1</th>\n",
       "      <td>ojzwnvwnxw vx</td>\n",
       "      <td>4860c670bcd48fb96c02a4b0ae3608ae6fdd98176112e9...</td>\n",
       "      <td>2015.0</td>\n",
       "      <td>Backend Engineer</td>\n",
       "      <td>2020</td>\n",
       "      <td>2000000</td>\n",
       "      <td>10.0</td>\n",
       "    </tr>\n",
       "    <tr>\n",
       "      <th>2</th>\n",
       "      <td>ngpgutaxv</td>\n",
       "      <td>effdede7a2e7c2af664c8a31d9346385016128d66bbc58...</td>\n",
       "      <td>2017.0</td>\n",
       "      <td>Backend Engineer</td>\n",
       "      <td>2019</td>\n",
       "      <td>700000</td>\n",
       "      <td>8.0</td>\n",
       "    </tr>\n",
       "  </tbody>\n",
       "</table>\n",
       "</div>"
      ],
      "text/plain": [
       "     company_hash                                         email_hash  orgyear  \\\n",
       "0  atrgxnnt xzaxv  6de0a4417d18ab14334c3f43397fc13b30c35149d70c05...   2016.0   \n",
       "1   ojzwnvwnxw vx  4860c670bcd48fb96c02a4b0ae3608ae6fdd98176112e9...   2015.0   \n",
       "2       ngpgutaxv  effdede7a2e7c2af664c8a31d9346385016128d66bbc58...   2017.0   \n",
       "\n",
       "       job_position  ctc_updated_year  ctc_capped  YOE_capped  \n",
       "0             Other              2020     1100000         9.0  \n",
       "1  Backend Engineer              2020     2000000        10.0  \n",
       "2  Backend Engineer              2019      700000         8.0  "
      ]
     },
     "execution_count": 187,
     "metadata": {},
     "output_type": "execute_result"
    }
   ],
   "source": [
    "df3= df2.drop(['designation_flag', 'class_flag', 'tier_flag'], axis= 1)\n",
    "df3.head(3)"
   ]
  },
  {
   "cell_type": "code",
   "execution_count": 188,
   "metadata": {},
   "outputs": [
    {
     "data": {
      "text/html": [
       "<div>\n",
       "<style scoped>\n",
       "    .dataframe tbody tr th:only-of-type {\n",
       "        vertical-align: middle;\n",
       "    }\n",
       "\n",
       "    .dataframe tbody tr th {\n",
       "        vertical-align: top;\n",
       "    }\n",
       "\n",
       "    .dataframe thead th {\n",
       "        text-align: right;\n",
       "    }\n",
       "</style>\n",
       "<table border=\"1\" class=\"dataframe\">\n",
       "  <thead>\n",
       "    <tr style=\"text-align: right;\">\n",
       "      <th></th>\n",
       "      <th>email_hash</th>\n",
       "      <th>non_of_ctc_update</th>\n",
       "    </tr>\n",
       "  </thead>\n",
       "  <tbody>\n",
       "    <tr>\n",
       "      <th>0</th>\n",
       "      <td>bbace3cc586400bbc65765bc6a16b77d8913836cfc98b7...</td>\n",
       "      <td>10</td>\n",
       "    </tr>\n",
       "    <tr>\n",
       "      <th>1</th>\n",
       "      <td>3e5e49daa5527a6d5a33599b238bf9bf31e85b9efa9a94...</td>\n",
       "      <td>9</td>\n",
       "    </tr>\n",
       "    <tr>\n",
       "      <th>2</th>\n",
       "      <td>298528ce3160cc761e4dc37a07337ee2e0589df251d736...</td>\n",
       "      <td>9</td>\n",
       "    </tr>\n",
       "  </tbody>\n",
       "</table>\n",
       "</div>"
      ],
      "text/plain": [
       "                                          email_hash  non_of_ctc_update\n",
       "0  bbace3cc586400bbc65765bc6a16b77d8913836cfc98b7...                 10\n",
       "1  3e5e49daa5527a6d5a33599b238bf9bf31e85b9efa9a94...                  9\n",
       "2  298528ce3160cc761e4dc37a07337ee2e0589df251d736...                  9"
      ]
     },
     "execution_count": 188,
     "metadata": {},
     "output_type": "execute_result"
    }
   ],
   "source": [
    "email_hash_freq= df['email_hash'].value_counts().reset_index()\n",
    "email_hash_freq.columns= ['email_hash', 'non_of_ctc_update']\n",
    "\n",
    "email_hash_freq.head(3)"
   ]
  },
  {
   "cell_type": "code",
   "execution_count": 189,
   "metadata": {},
   "outputs": [
    {
     "data": {
      "text/html": [
       "<div>\n",
       "<style scoped>\n",
       "    .dataframe tbody tr th:only-of-type {\n",
       "        vertical-align: middle;\n",
       "    }\n",
       "\n",
       "    .dataframe tbody tr th {\n",
       "        vertical-align: top;\n",
       "    }\n",
       "\n",
       "    .dataframe thead th {\n",
       "        text-align: right;\n",
       "    }\n",
       "</style>\n",
       "<table border=\"1\" class=\"dataframe\">\n",
       "  <thead>\n",
       "    <tr style=\"text-align: right;\">\n",
       "      <th></th>\n",
       "      <th>company_hash</th>\n",
       "      <th>email_hash</th>\n",
       "      <th>orgyear</th>\n",
       "      <th>job_position</th>\n",
       "      <th>ctc_updated_year</th>\n",
       "      <th>ctc_capped</th>\n",
       "      <th>YOE_capped</th>\n",
       "      <th>non_of_ctc_update</th>\n",
       "    </tr>\n",
       "  </thead>\n",
       "  <tbody>\n",
       "    <tr>\n",
       "      <th>0</th>\n",
       "      <td>atrgxnnt xzaxv</td>\n",
       "      <td>6de0a4417d18ab14334c3f43397fc13b30c35149d70c05...</td>\n",
       "      <td>2016.0</td>\n",
       "      <td>Other</td>\n",
       "      <td>2020</td>\n",
       "      <td>1100000</td>\n",
       "      <td>9.0</td>\n",
       "      <td>2</td>\n",
       "    </tr>\n",
       "    <tr>\n",
       "      <th>1</th>\n",
       "      <td>ojzwnvwnxw vx</td>\n",
       "      <td>4860c670bcd48fb96c02a4b0ae3608ae6fdd98176112e9...</td>\n",
       "      <td>2015.0</td>\n",
       "      <td>Backend Engineer</td>\n",
       "      <td>2020</td>\n",
       "      <td>2000000</td>\n",
       "      <td>10.0</td>\n",
       "      <td>2</td>\n",
       "    </tr>\n",
       "    <tr>\n",
       "      <th>2</th>\n",
       "      <td>ngpgutaxv</td>\n",
       "      <td>effdede7a2e7c2af664c8a31d9346385016128d66bbc58...</td>\n",
       "      <td>2017.0</td>\n",
       "      <td>Backend Engineer</td>\n",
       "      <td>2019</td>\n",
       "      <td>700000</td>\n",
       "      <td>8.0</td>\n",
       "      <td>1</td>\n",
       "    </tr>\n",
       "  </tbody>\n",
       "</table>\n",
       "</div>"
      ],
      "text/plain": [
       "     company_hash                                         email_hash  orgyear  \\\n",
       "0  atrgxnnt xzaxv  6de0a4417d18ab14334c3f43397fc13b30c35149d70c05...   2016.0   \n",
       "1   ojzwnvwnxw vx  4860c670bcd48fb96c02a4b0ae3608ae6fdd98176112e9...   2015.0   \n",
       "2       ngpgutaxv  effdede7a2e7c2af664c8a31d9346385016128d66bbc58...   2017.0   \n",
       "\n",
       "       job_position  ctc_updated_year  ctc_capped  YOE_capped  \\\n",
       "0             Other              2020     1100000         9.0   \n",
       "1  Backend Engineer              2020     2000000        10.0   \n",
       "2  Backend Engineer              2019      700000         8.0   \n",
       "\n",
       "   non_of_ctc_update  \n",
       "0                  2  \n",
       "1                  2  \n",
       "2                  1  "
      ]
     },
     "execution_count": 189,
     "metadata": {},
     "output_type": "execute_result"
    }
   ],
   "source": [
    "# lets merge this with df3\n",
    "df4= df3.merge(email_hash_freq, on= 'email_hash', how= 'left')\n",
    "df4.head(3)"
   ]
  },
  {
   "cell_type": "code",
   "execution_count": 190,
   "metadata": {},
   "outputs": [],
   "source": [
    "df4.drop(['email_hash', 'orgyear', 'ctc_updated_year'], axis= 1, inplace= True)"
   ]
  },
  {
   "cell_type": "code",
   "execution_count": 191,
   "metadata": {},
   "outputs": [
    {
     "data": {
      "text/html": [
       "<div>\n",
       "<style scoped>\n",
       "    .dataframe tbody tr th:only-of-type {\n",
       "        vertical-align: middle;\n",
       "    }\n",
       "\n",
       "    .dataframe tbody tr th {\n",
       "        vertical-align: top;\n",
       "    }\n",
       "\n",
       "    .dataframe thead th {\n",
       "        text-align: right;\n",
       "    }\n",
       "</style>\n",
       "<table border=\"1\" class=\"dataframe\">\n",
       "  <thead>\n",
       "    <tr style=\"text-align: right;\">\n",
       "      <th></th>\n",
       "      <th>company_hash</th>\n",
       "      <th>job_position</th>\n",
       "      <th>ctc_capped</th>\n",
       "      <th>YOE_capped</th>\n",
       "      <th>non_of_ctc_update</th>\n",
       "    </tr>\n",
       "  </thead>\n",
       "  <tbody>\n",
       "    <tr>\n",
       "      <th>0</th>\n",
       "      <td>atrgxnnt xzaxv</td>\n",
       "      <td>Other</td>\n",
       "      <td>1100000</td>\n",
       "      <td>9.0</td>\n",
       "      <td>2</td>\n",
       "    </tr>\n",
       "    <tr>\n",
       "      <th>1</th>\n",
       "      <td>ojzwnvwnxw vx</td>\n",
       "      <td>Backend Engineer</td>\n",
       "      <td>2000000</td>\n",
       "      <td>10.0</td>\n",
       "      <td>2</td>\n",
       "    </tr>\n",
       "    <tr>\n",
       "      <th>2</th>\n",
       "      <td>ngpgutaxv</td>\n",
       "      <td>Backend Engineer</td>\n",
       "      <td>700000</td>\n",
       "      <td>8.0</td>\n",
       "      <td>1</td>\n",
       "    </tr>\n",
       "  </tbody>\n",
       "</table>\n",
       "</div>"
      ],
      "text/plain": [
       "     company_hash      job_position  ctc_capped  YOE_capped  non_of_ctc_update\n",
       "0  atrgxnnt xzaxv             Other     1100000         9.0                  2\n",
       "1   ojzwnvwnxw vx  Backend Engineer     2000000        10.0                  2\n",
       "2       ngpgutaxv  Backend Engineer      700000         8.0                  1"
      ]
     },
     "execution_count": 191,
     "metadata": {},
     "output_type": "execute_result"
    }
   ],
   "source": [
    "df4.head(3)"
   ]
  },
  {
   "cell_type": "markdown",
   "metadata": {},
   "source": [
    "```\n",
    "encoding categorical columns using frequency encoding\n",
    "\n",
    "```"
   ]
  },
  {
   "cell_type": "code",
   "execution_count": 192,
   "metadata": {},
   "outputs": [
    {
     "data": {
      "text/html": [
       "<div>\n",
       "<style scoped>\n",
       "    .dataframe tbody tr th:only-of-type {\n",
       "        vertical-align: middle;\n",
       "    }\n",
       "\n",
       "    .dataframe tbody tr th {\n",
       "        vertical-align: top;\n",
       "    }\n",
       "\n",
       "    .dataframe thead th {\n",
       "        text-align: right;\n",
       "    }\n",
       "</style>\n",
       "<table border=\"1\" class=\"dataframe\">\n",
       "  <thead>\n",
       "    <tr style=\"text-align: right;\">\n",
       "      <th></th>\n",
       "      <th>company_hash</th>\n",
       "      <th>job_position</th>\n",
       "      <th>ctc_capped</th>\n",
       "      <th>YOE_capped</th>\n",
       "      <th>non_of_ctc_update</th>\n",
       "    </tr>\n",
       "  </thead>\n",
       "  <tbody>\n",
       "    <tr>\n",
       "      <th>0</th>\n",
       "      <td>atrgxnnt xzaxv</td>\n",
       "      <td>Other</td>\n",
       "      <td>1100000</td>\n",
       "      <td>9.0</td>\n",
       "      <td>2</td>\n",
       "    </tr>\n",
       "    <tr>\n",
       "      <th>1</th>\n",
       "      <td>ojzwnvwnxw vx</td>\n",
       "      <td>Backend Engineer</td>\n",
       "      <td>2000000</td>\n",
       "      <td>10.0</td>\n",
       "      <td>2</td>\n",
       "    </tr>\n",
       "    <tr>\n",
       "      <th>2</th>\n",
       "      <td>ngpgutaxv</td>\n",
       "      <td>Backend Engineer</td>\n",
       "      <td>700000</td>\n",
       "      <td>8.0</td>\n",
       "      <td>1</td>\n",
       "    </tr>\n",
       "  </tbody>\n",
       "</table>\n",
       "</div>"
      ],
      "text/plain": [
       "     company_hash      job_position  ctc_capped  YOE_capped  non_of_ctc_update\n",
       "0  atrgxnnt xzaxv             Other     1100000         9.0                  2\n",
       "1   ojzwnvwnxw vx  Backend Engineer     2000000        10.0                  2\n",
       "2       ngpgutaxv  Backend Engineer      700000         8.0                  1"
      ]
     },
     "execution_count": 192,
     "metadata": {},
     "output_type": "execute_result"
    }
   ],
   "source": [
    "df4.head(3)"
   ]
  },
  {
   "cell_type": "code",
   "execution_count": 193,
   "metadata": {},
   "outputs": [],
   "source": [
    "df4['company_hash_encoded']= df4['company_hash'].map(df4['company_hash'].value_counts().to_dict())\n",
    "df4['job_position_encoded']= df4['job_position'].map(df4['job_position'].value_counts().to_dict())\n",
    "df4.drop(['company_hash', 'job_position'], axis=1, inplace= True)"
   ]
  },
  {
   "cell_type": "code",
   "execution_count": 194,
   "metadata": {},
   "outputs": [
    {
     "data": {
      "text/html": [
       "<div>\n",
       "<style scoped>\n",
       "    .dataframe tbody tr th:only-of-type {\n",
       "        vertical-align: middle;\n",
       "    }\n",
       "\n",
       "    .dataframe tbody tr th {\n",
       "        vertical-align: top;\n",
       "    }\n",
       "\n",
       "    .dataframe thead th {\n",
       "        text-align: right;\n",
       "    }\n",
       "</style>\n",
       "<table border=\"1\" class=\"dataframe\">\n",
       "  <thead>\n",
       "    <tr style=\"text-align: right;\">\n",
       "      <th></th>\n",
       "      <th>ctc_capped</th>\n",
       "      <th>YOE_capped</th>\n",
       "      <th>non_of_ctc_update</th>\n",
       "      <th>company_hash_encoded</th>\n",
       "      <th>job_position_encoded</th>\n",
       "    </tr>\n",
       "  </thead>\n",
       "  <tbody>\n",
       "    <tr>\n",
       "      <th>0</th>\n",
       "      <td>1100000</td>\n",
       "      <td>9.0</td>\n",
       "      <td>2</td>\n",
       "      <td>9</td>\n",
       "      <td>14070</td>\n",
       "    </tr>\n",
       "    <tr>\n",
       "      <th>1</th>\n",
       "      <td>2000000</td>\n",
       "      <td>10.0</td>\n",
       "      <td>2</td>\n",
       "      <td>1</td>\n",
       "      <td>34974</td>\n",
       "    </tr>\n",
       "    <tr>\n",
       "      <th>2</th>\n",
       "      <td>700000</td>\n",
       "      <td>8.0</td>\n",
       "      <td>1</td>\n",
       "      <td>55</td>\n",
       "      <td>34974</td>\n",
       "    </tr>\n",
       "  </tbody>\n",
       "</table>\n",
       "</div>"
      ],
      "text/plain": [
       "   ctc_capped  YOE_capped  non_of_ctc_update  company_hash_encoded  \\\n",
       "0     1100000         9.0                  2                     9   \n",
       "1     2000000        10.0                  2                     1   \n",
       "2      700000         8.0                  1                    55   \n",
       "\n",
       "   job_position_encoded  \n",
       "0                 14070  \n",
       "1                 34974  \n",
       "2                 34974  "
      ]
     },
     "execution_count": 194,
     "metadata": {},
     "output_type": "execute_result"
    }
   ],
   "source": [
    "df4.head(3)"
   ]
  },
  {
   "cell_type": "markdown",
   "metadata": {},
   "source": [
    "```\n",
    "Log Transformation\n",
    "\n",
    "Applying Log Transformation on ctc_capped column since it is right skewed. Since skewness can affect performance of clustering algorithms\n",
    "\n",
    "```"
   ]
  },
  {
   "cell_type": "code",
   "execution_count": 195,
   "metadata": {},
   "outputs": [
    {
     "data": {
      "text/plain": [
       "<Axes: xlabel='ctc_capped', ylabel='Count'>"
      ]
     },
     "execution_count": 195,
     "metadata": {},
     "output_type": "execute_result"
    },
    {
     "data": {
      "image/png": "[encoded data removed]",
      "text/plain": [
       "<Figure size 640x480 with 1 Axes>"
      ]
     },
     "metadata": {},
     "output_type": "display_data"
    }
   ],
   "source": [
    "sns.histplot(df4, x= 'ctc_capped', kde= True)"
   ]
  },
  {
   "cell_type": "code",
   "execution_count": 196,
   "metadata": {},
   "outputs": [
    {
     "data": {
      "text/plain": [
       "<Axes: xlabel='ctc_capped_log', ylabel='Count'>"
      ]
     },
     "execution_count": 196,
     "metadata": {},
     "output_type": "execute_result"
    },
    {
     "data": {
      "image/png": "[encoded data removed]",
      "text/plain": [
       "<Figure size 640x480 with 1 Axes>"
      ]
     },
     "metadata": {},
     "output_type": "display_data"
    }
   ],
   "source": [
    "df4['ctc_capped_log']= np.log(df4['ctc_capped'])\n",
    "sns.histplot(df4, x= 'ctc_capped_log', kde= True)"
   ]
  },
  {
   "cell_type": "code",
   "execution_count": 197,
   "metadata": {},
   "outputs": [],
   "source": [
    "df4 =df4.drop(['ctc_capped'], axis=1)\n"
   ]
  },
  {
   "cell_type": "code",
   "execution_count": 198,
   "metadata": {},
   "outputs": [
    {
     "data": {
      "text/html": [
       "<div>\n",
       "<style scoped>\n",
       "    .dataframe tbody tr th:only-of-type {\n",
       "        vertical-align: middle;\n",
       "    }\n",
       "\n",
       "    .dataframe tbody tr th {\n",
       "        vertical-align: top;\n",
       "    }\n",
       "\n",
       "    .dataframe thead th {\n",
       "        text-align: right;\n",
       "    }\n",
       "</style>\n",
       "<table border=\"1\" class=\"dataframe\">\n",
       "  <thead>\n",
       "    <tr style=\"text-align: right;\">\n",
       "      <th></th>\n",
       "      <th>YOE_capped</th>\n",
       "      <th>non_of_ctc_update</th>\n",
       "      <th>company_hash_encoded</th>\n",
       "      <th>job_position_encoded</th>\n",
       "      <th>ctc_capped_log</th>\n",
       "    </tr>\n",
       "  </thead>\n",
       "  <tbody>\n",
       "    <tr>\n",
       "      <th>0</th>\n",
       "      <td>9.0</td>\n",
       "      <td>2</td>\n",
       "      <td>9</td>\n",
       "      <td>14070</td>\n",
       "      <td>13.910821</td>\n",
       "    </tr>\n",
       "    <tr>\n",
       "      <th>1</th>\n",
       "      <td>10.0</td>\n",
       "      <td>2</td>\n",
       "      <td>1</td>\n",
       "      <td>34974</td>\n",
       "      <td>14.508658</td>\n",
       "    </tr>\n",
       "    <tr>\n",
       "      <th>2</th>\n",
       "      <td>8.0</td>\n",
       "      <td>1</td>\n",
       "      <td>55</td>\n",
       "      <td>34974</td>\n",
       "      <td>13.458836</td>\n",
       "    </tr>\n",
       "    <tr>\n",
       "      <th>3</th>\n",
       "      <td>6.0</td>\n",
       "      <td>1</td>\n",
       "      <td>20</td>\n",
       "      <td>34974</td>\n",
       "      <td>12.899220</td>\n",
       "    </tr>\n",
       "  </tbody>\n",
       "</table>\n",
       "</div>"
      ],
      "text/plain": [
       "   YOE_capped  non_of_ctc_update  company_hash_encoded  job_position_encoded  \\\n",
       "0         9.0                  2                     9                 14070   \n",
       "1        10.0                  2                     1                 34974   \n",
       "2         8.0                  1                    55                 34974   \n",
       "3         6.0                  1                    20                 34974   \n",
       "\n",
       "   ctc_capped_log  \n",
       "0       13.910821  \n",
       "1       14.508658  \n",
       "2       13.458836  \n",
       "3       12.899220  "
      ]
     },
     "execution_count": 198,
     "metadata": {},
     "output_type": "execute_result"
    }
   ],
   "source": [
    "df4.head(4)"
   ]
  },
  {
   "cell_type": "code",
   "execution_count": 200,
   "metadata": {},
   "outputs": [],
   "source": [
    "## standar scaling needed for clustering\n",
    "\n",
    "from sklearn.preprocessing import StandardScaler"
   ]
  },
  {
   "cell_type": "code",
   "execution_count": 203,
   "metadata": {},
   "outputs": [
    {
     "data": {
      "text/html": [
       "<div>\n",
       "<style scoped>\n",
       "    .dataframe tbody tr th:only-of-type {\n",
       "        vertical-align: middle;\n",
       "    }\n",
       "\n",
       "    .dataframe tbody tr th {\n",
       "        vertical-align: top;\n",
       "    }\n",
       "\n",
       "    .dataframe thead th {\n",
       "        text-align: right;\n",
       "    }\n",
       "</style>\n",
       "<table border=\"1\" class=\"dataframe\">\n",
       "  <thead>\n",
       "    <tr style=\"text-align: right;\">\n",
       "      <th></th>\n",
       "      <th>YOE_capped</th>\n",
       "      <th>non_of_ctc_update</th>\n",
       "      <th>company_hash_encoded</th>\n",
       "      <th>job_position_encoded</th>\n",
       "      <th>ctc_capped_log</th>\n",
       "    </tr>\n",
       "  </thead>\n",
       "  <tbody>\n",
       "    <tr>\n",
       "      <th>0</th>\n",
       "      <td>9.0</td>\n",
       "      <td>2</td>\n",
       "      <td>9</td>\n",
       "      <td>14070</td>\n",
       "      <td>13.910821</td>\n",
       "    </tr>\n",
       "    <tr>\n",
       "      <th>1</th>\n",
       "      <td>10.0</td>\n",
       "      <td>2</td>\n",
       "      <td>1</td>\n",
       "      <td>34974</td>\n",
       "      <td>14.508658</td>\n",
       "    </tr>\n",
       "    <tr>\n",
       "      <th>2</th>\n",
       "      <td>8.0</td>\n",
       "      <td>1</td>\n",
       "      <td>55</td>\n",
       "      <td>34974</td>\n",
       "      <td>13.458836</td>\n",
       "    </tr>\n",
       "    <tr>\n",
       "      <th>3</th>\n",
       "      <td>6.0</td>\n",
       "      <td>1</td>\n",
       "      <td>20</td>\n",
       "      <td>34974</td>\n",
       "      <td>12.899220</td>\n",
       "    </tr>\n",
       "  </tbody>\n",
       "</table>\n",
       "</div>"
      ],
      "text/plain": [
       "   YOE_capped  non_of_ctc_update  company_hash_encoded  job_position_encoded  \\\n",
       "0         9.0                  2                     9                 14070   \n",
       "1        10.0                  2                     1                 34974   \n",
       "2         8.0                  1                    55                 34974   \n",
       "3         6.0                  1                    20                 34974   \n",
       "\n",
       "   ctc_capped_log  \n",
       "0       13.910821  \n",
       "1       14.508658  \n",
       "2       13.458836  \n",
       "3       12.899220  "
      ]
     },
     "execution_count": 203,
     "metadata": {},
     "output_type": "execute_result"
    }
   ],
   "source": [
    "scaled_features= StandardScaler().fit_transform(df4)\n",
    "df4_scaled= pd.DataFrame(scaled_features, columns= df4.columns)"
   ]
  },
  {
   "cell_type": "code",
   "execution_count": 204,
   "metadata": {},
   "outputs": [
    {
     "data": {
      "text/html": [
       "<div>\n",
       "<style scoped>\n",
       "    .dataframe tbody tr th:only-of-type {\n",
       "        vertical-align: middle;\n",
       "    }\n",
       "\n",
       "    .dataframe tbody tr th {\n",
       "        vertical-align: top;\n",
       "    }\n",
       "\n",
       "    .dataframe thead th {\n",
       "        text-align: right;\n",
       "    }\n",
       "</style>\n",
       "<table border=\"1\" class=\"dataframe\">\n",
       "  <thead>\n",
       "    <tr style=\"text-align: right;\">\n",
       "      <th></th>\n",
       "      <th>YOE_capped</th>\n",
       "      <th>non_of_ctc_update</th>\n",
       "      <th>company_hash_encoded</th>\n",
       "      <th>job_position_encoded</th>\n",
       "      <th>ctc_capped_log</th>\n",
       "    </tr>\n",
       "  </thead>\n",
       "  <tbody>\n",
       "    <tr>\n",
       "      <th>0</th>\n",
       "      <td>-0.257074</td>\n",
       "      <td>0.883914</td>\n",
       "      <td>-0.494140</td>\n",
       "      <td>-0.482482</td>\n",
       "      <td>0.162420</td>\n",
       "    </tr>\n",
       "    <tr>\n",
       "      <th>1</th>\n",
       "      <td>-0.018126</td>\n",
       "      <td>0.883914</td>\n",
       "      <td>-0.500790</td>\n",
       "      <td>0.991113</td>\n",
       "      <td>0.744097</td>\n",
       "    </tr>\n",
       "    <tr>\n",
       "      <th>2</th>\n",
       "      <td>-0.496022</td>\n",
       "      <td>-0.567772</td>\n",
       "      <td>-0.455906</td>\n",
       "      <td>0.991113</td>\n",
       "      <td>-0.277347</td>\n",
       "    </tr>\n",
       "    <tr>\n",
       "      <th>3</th>\n",
       "      <td>-0.973919</td>\n",
       "      <td>-0.567772</td>\n",
       "      <td>-0.484997</td>\n",
       "      <td>0.991113</td>\n",
       "      <td>-0.821835</td>\n",
       "    </tr>\n",
       "  </tbody>\n",
       "</table>\n",
       "</div>"
      ],
      "text/plain": [
       "   YOE_capped  non_of_ctc_update  company_hash_encoded  job_position_encoded  \\\n",
       "0   -0.257074           0.883914             -0.494140             -0.482482   \n",
       "1   -0.018126           0.883914             -0.500790              0.991113   \n",
       "2   -0.496022          -0.567772             -0.455906              0.991113   \n",
       "3   -0.973919          -0.567772             -0.484997              0.991113   \n",
       "\n",
       "   ctc_capped_log  \n",
       "0        0.162420  \n",
       "1        0.744097  \n",
       "2       -0.277347  \n",
       "3       -0.821835  "
      ]
     },
     "execution_count": 204,
     "metadata": {},
     "output_type": "execute_result"
    }
   ],
   "source": [
    "df4_scaled.head(4)"
   ]
  },
  {
   "cell_type": "code",
   "execution_count": null,
   "metadata": {},
   "outputs": [],
   "source": [
    "## Furthering into model building now\n",
    "### K-means Clustering\n",
    "\n"
   ]
  }
 ],
 "metadata": {
  "kernelspec": {
   "display_name": "Python 3",
   "language": "python",
   "name": "python3"
  },
  "language_info": {
   "codemirror_mode": {
    "name": "ipython",
    "version": 3
   },
   "file_extension": ".py",
   "mimetype": "text/x-python",
   "name": "python",
   "nbconvert_exporter": "python",
   "pygments_lexer": "ipython3",
   "version": "3.12.1"
  }
 },
 "nbformat": 4,
 "nbformat_minor": 2
}
