{
 "cells": [
  {
   "cell_type": "code",
   "execution_count": 1,
   "metadata": {},
   "outputs": [],
   "source": [
    "import numpy as np"
   ]
  },
  {
   "cell_type": "markdown",
   "metadata": {},
   "source": [
    "```\n",
    "Pseudo Code\n",
    "\n",
    "1. Initiate- Randomly select K data points from a given data set as initial centroids \n",
    "2. Assign- Assign each data point to the nearest Centroid. This will help form clusters- Using Euclidean Distance\n",
    "3. Update- update centroids by calculating mean of all the points in each cluster(vectors) \n",
    "4. k_means- convergence until labels dont change or maximum number of iterations is reached\n",
    "\n",
    "```"
   ]
  },
  {
   "cell_type": "code",
   "execution_count": 3,
   "metadata": {},
   "outputs": [],
   "source": [
    "def initialize_centroids(x:np.ndarray, k: int)-> np.ndarray:\n",
    "    \"\"\" randomly initialize k centroids from the given data points\"\"\"\n",
    "    return x[np.random.choice(x.shape[0], k, replace= False)]\n",
    "\n",
    "def assign_clusters(x:np.ndarray, centroids:np.ndarray)-> np.ndarray:\n",
    "    \"\"\" Assign each data point to the closest centroid\"\"\"\n",
    "    distances = np.linalg.norm(X[:, np.newaxis] - centroids, axis=2)\n",
    "    return np.argmin(distances, axis=1)"
   ]
  },
  {
   "cell_type": "code",
   "execution_count": null,
   "metadata": {},
   "outputs": [],
   "source": []
  }
 ],
 "metadata": {
  "kernelspec": {
   "display_name": "Python 3",
   "language": "python",
   "name": "python3"
  },
  "language_info": {
   "codemirror_mode": {
    "name": "ipython",
    "version": 3
   },
   "file_extension": ".py",
   "mimetype": "text/x-python",
   "name": "python",
   "nbconvert_exporter": "python",
   "pygments_lexer": "ipython3",
   "version": "3.12.1"
  }
 },
 "nbformat": 4,
 "nbformat_minor": 2
}
