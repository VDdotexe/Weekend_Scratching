{
 "cells": [
  {
   "cell_type": "code",
   "execution_count": 1,
   "metadata": {},
   "outputs": [],
   "source": [
    "import numpy as np"
   ]
  },
  {
   "cell_type": "code",
   "execution_count": 2,
   "metadata": {},
   "outputs": [],
   "source": [
    "class LinearRegression:\n",
    "    def __init__(self, learning_rate: float = 0.01, iterations: int= 1000):\n",
    "        self.learning_rate: float = learning_rate\n",
    "        self.iterations: int= iterations\n",
    "        self.w: np.ndarray= np.array([])\n",
    "        self.b: float= 0.0\n",
    "        \n",
    "    def predict(self, x:np.ndarray)-> np.ndarray:\n",
    "        return np.dot(x, self.w)+ self.b\n",
    "    \n",
    "    def update_weights(self)-> None:\n",
    "        y_pred= self.predict(self.x)\n",
    "        dw: np.ndarray= -(2*(self.x.T).dot(self.y - y_pred)) / self.m\n",
    "        db: float= -2 * np.sum(self.y - y_pred)/ self.m\n",
    "        self.w -= self.learining_rate * dw\n",
    "        self.b -= self.learning_rate * db\n",
    "        \n",
    "    def fit(self, x:np.ndarray, y:np.ndarray)-> 'LinearRegression':\n",
    "        self.m:int= x.shape[0]\n",
    "        self.n:int= x.shape[1]\n",
    "        self.w: np.ndarray= np.zeros(self.n)\n",
    "        self.b: float= 0.0\n",
    "        self.x: np.ndarray= x\n",
    "        self.y: np.ndarray= y\n",
    "        self.error_list: list[float]= []\n",
    "        \n",
    "        for i in range(self.iterations):\n",
    "            y_pred:np.ndarray= self.predict(self.x)\n",
    "            self.update_weights()\n",
    "            \n",
    "            error: float= np.mean((self.y- y_pred)**2)\n",
    "            self.error_list.append(error)\n",
    "        \n",
    "        return self\n",
    "    "
   ]
  },
  {
   "cell_type": "code",
   "execution_count": null,
   "metadata": {},
   "outputs": [],
   "source": []
  }
 ],
 "metadata": {
  "kernelspec": {
   "display_name": "Python 3",
   "language": "python",
   "name": "python3"
  },
  "language_info": {
   "codemirror_mode": {
    "name": "ipython",
    "version": 3
   },
   "file_extension": ".py",
   "mimetype": "text/x-python",
   "name": "python",
   "nbconvert_exporter": "python",
   "pygments_lexer": "ipython3",
   "version": "3.12.1"
  }
 },
 "nbformat": 4,
 "nbformat_minor": 2
}
