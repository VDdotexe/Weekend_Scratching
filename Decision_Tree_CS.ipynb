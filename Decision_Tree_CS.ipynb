{
 "cells": [
  {
   "cell_type": "markdown",
   "metadata": {},
   "source": [
    "Analyzing the Steel Plant Faults with Decision Trees\n",
    "Context\n",
    "Welcome to the Scaler Industrial Development data analysis team! Our current project aims to improve the quality control process in steel manufacturing. Your expertise is requested to analyze the Steel Plant Faults dataset, utilizing Decision Trees to classify different types of steel plate faults. This task will help in automating the identification of defects and ensuring high standards in steel production.\n",
    "\n",
    "Dataset Description\n",
    "The dataset you will analyze includes a variety of attributes that describe defects found in steel plates. These defects are classified into seven distinct categories, each representing a specific type of fault:\n",
    "\n",
    "Steel Plate Fault Types:\n",
    "Pastry: Small patches or irregularities on the surface of the steel plate.\n",
    "Z_Scratch: Narrow, parallel scratches or marks in the direction of rolling.\n",
    "K_Scratch: Scratches similar to Z-scratches, but perpendicular to the rolling direction.\n",
    "Stains: Discolored or contaminated areas on the steel surface.\n",
    "Dirtiness: Presence of dirt or particulate matter on the steel surface.\n",
    "Bumps: Raised or protruding areas on the steel surface.\n",
    "Other_Faults: A broad category for faults not specifically mentioned in the other types."
   ]
  },
  {
   "cell_type": "code",
   "execution_count": 1,
   "metadata": {},
   "outputs": [
    {
     "name": "stdout",
     "output_type": "stream",
     "text": [
      "--2024-11-12 11:26:46--  https://d2beiqkhq929f0.cloudfront.net/public_assets/assets/000/071/024/original/SteelPlant.csv\n",
      "Resolving d2beiqkhq929f0.cloudfront.net (d2beiqkhq929f0.cloudfront.net)... 108.158.41.226, 108.158.41.203, 108.158.41.214, ...\n",
      "Connecting to d2beiqkhq929f0.cloudfront.net (d2beiqkhq929f0.cloudfront.net)|108.158.41.226|:443... connected.\n",
      "HTTP request sent, awaiting response... 200 OK\n",
      "Length: 3133750 (3.0M) [text/plain]\n",
      "Saving to: ‘SteelPlant.csv.1’\n",
      "\n",
      "SteelPlant.csv.1    100%[===================>]   2.99M  --.-KB/s    in 0.09s   \n",
      "\n",
      "2024-11-12 11:26:46 (33.1 MB/s) - ‘SteelPlant.csv.1’ saved [3133750/3133750]\n",
      "\n"
     ]
    }
   ],
   "source": [
    "!wget https://d2beiqkhq929f0.cloudfront.net/public_assets/assets/000/071/024/original/SteelPlant.csv"
   ]
  },
  {
   "cell_type": "code",
   "execution_count": 2,
   "metadata": {},
   "outputs": [],
   "source": [
    "import warnings\n",
    "\n",
    "warnings.filterwarnings('ignore')"
   ]
  },
  {
   "cell_type": "code",
   "execution_count": 3,
   "metadata": {},
   "outputs": [],
   "source": [
    "import pandas as pd"
   ]
  },
  {
   "cell_type": "code",
   "execution_count": 4,
   "metadata": {},
   "outputs": [
    {
     "data": {
      "text/html": [
       "<div>\n",
       "<style scoped>\n",
       "    .dataframe tbody tr th:only-of-type {\n",
       "        vertical-align: middle;\n",
       "    }\n",
       "\n",
       "    .dataframe tbody tr th {\n",
       "        vertical-align: top;\n",
       "    }\n",
       "\n",
       "    .dataframe thead th {\n",
       "        text-align: right;\n",
       "    }\n",
       "</style>\n",
       "<table border=\"1\" class=\"dataframe\">\n",
       "  <thead>\n",
       "    <tr style=\"text-align: right;\">\n",
       "      <th></th>\n",
       "      <th>id</th>\n",
       "      <th>X_Minimum</th>\n",
       "      <th>X_Maximum</th>\n",
       "      <th>Y_Minimum</th>\n",
       "      <th>Y_Maximum</th>\n",
       "      <th>Pixels_Areas</th>\n",
       "      <th>X_Perimeter</th>\n",
       "      <th>Y_Perimeter</th>\n",
       "      <th>Sum_of_Luminosity</th>\n",
       "      <th>Minimum_of_Luminosity</th>\n",
       "      <th>...</th>\n",
       "      <th>Orientation_Index</th>\n",
       "      <th>Luminosity_Index</th>\n",
       "      <th>SigmoidOfAreas</th>\n",
       "      <th>Pastry</th>\n",
       "      <th>Z_Scratch</th>\n",
       "      <th>K_Scatch</th>\n",
       "      <th>Stains</th>\n",
       "      <th>Dirtiness</th>\n",
       "      <th>Bumps</th>\n",
       "      <th>Other_Faults</th>\n",
       "    </tr>\n",
       "  </thead>\n",
       "  <tbody>\n",
       "    <tr>\n",
       "      <th>0</th>\n",
       "      <td>0</td>\n",
       "      <td>584</td>\n",
       "      <td>590</td>\n",
       "      <td>909972</td>\n",
       "      <td>909977</td>\n",
       "      <td>16</td>\n",
       "      <td>8</td>\n",
       "      <td>5</td>\n",
       "      <td>2274</td>\n",
       "      <td>113</td>\n",
       "      <td>...</td>\n",
       "      <td>-0.5000</td>\n",
       "      <td>-0.0104</td>\n",
       "      <td>0.1417</td>\n",
       "      <td>0</td>\n",
       "      <td>0</td>\n",
       "      <td>0</td>\n",
       "      <td>1</td>\n",
       "      <td>0</td>\n",
       "      <td>0</td>\n",
       "      <td>0</td>\n",
       "    </tr>\n",
       "    <tr>\n",
       "      <th>1</th>\n",
       "      <td>1</td>\n",
       "      <td>808</td>\n",
       "      <td>816</td>\n",
       "      <td>728350</td>\n",
       "      <td>728372</td>\n",
       "      <td>433</td>\n",
       "      <td>20</td>\n",
       "      <td>54</td>\n",
       "      <td>44478</td>\n",
       "      <td>70</td>\n",
       "      <td>...</td>\n",
       "      <td>0.7419</td>\n",
       "      <td>-0.2997</td>\n",
       "      <td>0.9491</td>\n",
       "      <td>0</td>\n",
       "      <td>0</td>\n",
       "      <td>0</td>\n",
       "      <td>0</td>\n",
       "      <td>0</td>\n",
       "      <td>0</td>\n",
       "      <td>1</td>\n",
       "    </tr>\n",
       "  </tbody>\n",
       "</table>\n",
       "<p>2 rows × 35 columns</p>\n",
       "</div>"
      ],
      "text/plain": [
       "   id  X_Minimum  X_Maximum  Y_Minimum  Y_Maximum  Pixels_Areas  X_Perimeter  \\\n",
       "0   0        584        590     909972     909977            16            8   \n",
       "1   1        808        816     728350     728372           433           20   \n",
       "\n",
       "   Y_Perimeter  Sum_of_Luminosity  Minimum_of_Luminosity  ...  \\\n",
       "0            5               2274                    113  ...   \n",
       "1           54              44478                     70  ...   \n",
       "\n",
       "   Orientation_Index  Luminosity_Index  SigmoidOfAreas  Pastry  Z_Scratch  \\\n",
       "0            -0.5000           -0.0104          0.1417       0          0   \n",
       "1             0.7419           -0.2997          0.9491       0          0   \n",
       "\n",
       "   K_Scatch  Stains  Dirtiness  Bumps  Other_Faults  \n",
       "0         0       1          0      0             0  \n",
       "1         0       0          0      0             1  \n",
       "\n",
       "[2 rows x 35 columns]"
      ]
     },
     "execution_count": 4,
     "metadata": {},
     "output_type": "execute_result"
    }
   ],
   "source": [
    "df = pd.read_csv(\"SteelPlant.csv\")\n",
    "df.head(2)"
   ]
  },
  {
   "cell_type": "markdown",
   "metadata": {},
   "source": [
    "\"\"\"\n",
    "## Root Entropy for Decision Tree\n",
    "\n",
    "#### Context:\n",
    "In a Decision Tree classifier, entropy is a crucial measure used to determine the impurity of a node. In the context of the Steel Plant Faults dataset, understanding how to calculate the root entropy will provide insights into the initial uncertainty before any splits.\n",
    "\n",
    "#### Task:\n",
    "Write Python code to transform one-hot encoded fault types into a single 'Target' column and calculate the root entropy. This process involves aggregating multiple binary fault type columns into a single categorical column and then applying the entropy formula.\n",
    "\n",
    "#### Instructions:\n",
    "1. **Create the 'Target' Column:** Combine the one-hot encoded fault type columns ('Pastry', 'Z_Scratch', 'K_Scratch', 'Stains', 'Dirtiness', 'Bumps', 'Other_Faults') into a single 'Target' column that contains the fault type with the maximum value for each row.\n",
    "2. **Entropy Calculation Function:** Define a function `entropy_calc` that calculates the entropy for the 'Target' column, utilizing the probabilities of each fault type.\n",
    "3. **Compute Root Entropy:** Apply the `entropy_calc` function to the 'Target' column to find the root entropy and print the result.\n",
    "\n",
    "#### Question:\n",
    "For this task, how do you transform the one-hot encoded fault types into a single 'Target' column and calculate the root entropy?\n",
    "\n",
    "\"\"\""
   ]
  },
  {
   "cell_type": "code",
   "execution_count": 6,
   "metadata": {},
   "outputs": [],
   "source": [
    "import numpy as np"
   ]
  },
  {
   "cell_type": "code",
   "execution_count": 7,
   "metadata": {},
   "outputs": [
    {
     "data": {
      "text/html": [
       "<div>\n",
       "<style scoped>\n",
       "    .dataframe tbody tr th:only-of-type {\n",
       "        vertical-align: middle;\n",
       "    }\n",
       "\n",
       "    .dataframe tbody tr th {\n",
       "        vertical-align: top;\n",
       "    }\n",
       "\n",
       "    .dataframe thead th {\n",
       "        text-align: right;\n",
       "    }\n",
       "</style>\n",
       "<table border=\"1\" class=\"dataframe\">\n",
       "  <thead>\n",
       "    <tr style=\"text-align: right;\">\n",
       "      <th></th>\n",
       "      <th>id</th>\n",
       "      <th>X_Minimum</th>\n",
       "      <th>X_Maximum</th>\n",
       "      <th>Y_Minimum</th>\n",
       "      <th>Y_Maximum</th>\n",
       "      <th>Pixels_Areas</th>\n",
       "      <th>X_Perimeter</th>\n",
       "      <th>Y_Perimeter</th>\n",
       "      <th>Sum_of_Luminosity</th>\n",
       "      <th>Minimum_of_Luminosity</th>\n",
       "      <th>...</th>\n",
       "      <th>Luminosity_Index</th>\n",
       "      <th>SigmoidOfAreas</th>\n",
       "      <th>Pastry</th>\n",
       "      <th>Z_Scratch</th>\n",
       "      <th>K_Scatch</th>\n",
       "      <th>Stains</th>\n",
       "      <th>Dirtiness</th>\n",
       "      <th>Bumps</th>\n",
       "      <th>Other_Faults</th>\n",
       "      <th>Target</th>\n",
       "    </tr>\n",
       "  </thead>\n",
       "  <tbody>\n",
       "    <tr>\n",
       "      <th>0</th>\n",
       "      <td>0</td>\n",
       "      <td>584</td>\n",
       "      <td>590</td>\n",
       "      <td>909972</td>\n",
       "      <td>909977</td>\n",
       "      <td>16</td>\n",
       "      <td>8</td>\n",
       "      <td>5</td>\n",
       "      <td>2274</td>\n",
       "      <td>113</td>\n",
       "      <td>...</td>\n",
       "      <td>-0.0104</td>\n",
       "      <td>0.1417</td>\n",
       "      <td>0</td>\n",
       "      <td>0</td>\n",
       "      <td>0</td>\n",
       "      <td>1</td>\n",
       "      <td>0</td>\n",
       "      <td>0</td>\n",
       "      <td>0</td>\n",
       "      <td>Stains</td>\n",
       "    </tr>\n",
       "    <tr>\n",
       "      <th>1</th>\n",
       "      <td>1</td>\n",
       "      <td>808</td>\n",
       "      <td>816</td>\n",
       "      <td>728350</td>\n",
       "      <td>728372</td>\n",
       "      <td>433</td>\n",
       "      <td>20</td>\n",
       "      <td>54</td>\n",
       "      <td>44478</td>\n",
       "      <td>70</td>\n",
       "      <td>...</td>\n",
       "      <td>-0.2997</td>\n",
       "      <td>0.9491</td>\n",
       "      <td>0</td>\n",
       "      <td>0</td>\n",
       "      <td>0</td>\n",
       "      <td>0</td>\n",
       "      <td>0</td>\n",
       "      <td>0</td>\n",
       "      <td>1</td>\n",
       "      <td>Other_Faults</td>\n",
       "    </tr>\n",
       "    <tr>\n",
       "      <th>2</th>\n",
       "      <td>2</td>\n",
       "      <td>39</td>\n",
       "      <td>192</td>\n",
       "      <td>2212076</td>\n",
       "      <td>2212144</td>\n",
       "      <td>11388</td>\n",
       "      <td>705</td>\n",
       "      <td>420</td>\n",
       "      <td>1311391</td>\n",
       "      <td>29</td>\n",
       "      <td>...</td>\n",
       "      <td>-0.0944</td>\n",
       "      <td>1.0000</td>\n",
       "      <td>0</td>\n",
       "      <td>0</td>\n",
       "      <td>1</td>\n",
       "      <td>0</td>\n",
       "      <td>0</td>\n",
       "      <td>0</td>\n",
       "      <td>0</td>\n",
       "      <td>K_Scatch</td>\n",
       "    </tr>\n",
       "    <tr>\n",
       "      <th>3</th>\n",
       "      <td>3</td>\n",
       "      <td>781</td>\n",
       "      <td>789</td>\n",
       "      <td>3353146</td>\n",
       "      <td>3353173</td>\n",
       "      <td>210</td>\n",
       "      <td>16</td>\n",
       "      <td>29</td>\n",
       "      <td>3202</td>\n",
       "      <td>114</td>\n",
       "      <td>...</td>\n",
       "      <td>-0.0402</td>\n",
       "      <td>0.4025</td>\n",
       "      <td>0</td>\n",
       "      <td>0</td>\n",
       "      <td>1</td>\n",
       "      <td>0</td>\n",
       "      <td>0</td>\n",
       "      <td>0</td>\n",
       "      <td>0</td>\n",
       "      <td>K_Scatch</td>\n",
       "    </tr>\n",
       "    <tr>\n",
       "      <th>4</th>\n",
       "      <td>4</td>\n",
       "      <td>1540</td>\n",
       "      <td>1560</td>\n",
       "      <td>618457</td>\n",
       "      <td>618502</td>\n",
       "      <td>521</td>\n",
       "      <td>72</td>\n",
       "      <td>67</td>\n",
       "      <td>48231</td>\n",
       "      <td>82</td>\n",
       "      <td>...</td>\n",
       "      <td>-0.2455</td>\n",
       "      <td>0.9998</td>\n",
       "      <td>0</td>\n",
       "      <td>0</td>\n",
       "      <td>0</td>\n",
       "      <td>0</td>\n",
       "      <td>0</td>\n",
       "      <td>0</td>\n",
       "      <td>1</td>\n",
       "      <td>Other_Faults</td>\n",
       "    </tr>\n",
       "  </tbody>\n",
       "</table>\n",
       "<p>5 rows × 36 columns</p>\n",
       "</div>"
      ],
      "text/plain": [
       "   id  X_Minimum  X_Maximum  Y_Minimum  Y_Maximum  Pixels_Areas  X_Perimeter  \\\n",
       "0   0        584        590     909972     909977            16            8   \n",
       "1   1        808        816     728350     728372           433           20   \n",
       "2   2         39        192    2212076    2212144         11388          705   \n",
       "3   3        781        789    3353146    3353173           210           16   \n",
       "4   4       1540       1560     618457     618502           521           72   \n",
       "\n",
       "   Y_Perimeter  Sum_of_Luminosity  Minimum_of_Luminosity  ...  \\\n",
       "0            5               2274                    113  ...   \n",
       "1           54              44478                     70  ...   \n",
       "2          420            1311391                     29  ...   \n",
       "3           29               3202                    114  ...   \n",
       "4           67              48231                     82  ...   \n",
       "\n",
       "   Luminosity_Index  SigmoidOfAreas  Pastry  Z_Scratch  K_Scatch  Stains  \\\n",
       "0           -0.0104          0.1417       0          0         0       1   \n",
       "1           -0.2997          0.9491       0          0         0       0   \n",
       "2           -0.0944          1.0000       0          0         1       0   \n",
       "3           -0.0402          0.4025       0          0         1       0   \n",
       "4           -0.2455          0.9998       0          0         0       0   \n",
       "\n",
       "   Dirtiness  Bumps  Other_Faults        Target  \n",
       "0          0      0             0        Stains  \n",
       "1          0      0             1  Other_Faults  \n",
       "2          0      0             0      K_Scatch  \n",
       "3          0      0             0      K_Scatch  \n",
       "4          0      0             1  Other_Faults  \n",
       "\n",
       "[5 rows x 36 columns]"
      ]
     },
     "execution_count": 7,
     "metadata": {},
     "output_type": "execute_result"
    }
   ],
   "source": [
    "fault_types= df.iloc[:, -7:]\n",
    "df['Target'] = fault_types.idxmax(axis=1)\n",
    "df.head(5)"
   ]
  },
  {
   "cell_type": "code",
   "execution_count": 12,
   "metadata": {},
   "outputs": [],
   "source": [
    "def entropy_calc(y:pd.Series):\n",
    "    probabilities= y.value_counts(normalize= True).to_numpy()\n",
    "    entropies = -1 * probabilities * np.log2(probabilities)\n",
    "    return round(np.sum(entropies),2)"
   ]
  },
  {
   "cell_type": "code",
   "execution_count": 13,
   "metadata": {},
   "outputs": [
    {
     "name": "stdout",
     "output_type": "stream",
     "text": [
      "the root entropy is: 2.36\n"
     ]
    }
   ],
   "source": [
    "## root_entropy is target's entropy since there is no split in to begin with\n",
    "root_entropy = entropy_calc(df['Target'])\n",
    "print(f\"the root entropy is: {root_entropy}\")"
   ]
  },
  {
   "cell_type": "markdown",
   "metadata": {},
   "source": [
    "\"\"\"\n",
    "Context:\n",
    "Understanding the distribution of classes in a dataset is essential for machine learning tasks, particularly for classification. The balance or imbalance of the dataset can influence the performance and decision-making process of a Decision Tree (DT) classifier.\n",
    "\n",
    "Task:\n",
    "You are asked to write a Python script that visualizes the distribution of classes in the Steel Plant Faults dataset to assess its balance. Based on this analysis, you will determine the necessity of applying imbalance-handling techniques when implementing a DT.\n",
    "\n",
    "Instructions:\n",
    "Visualize Class Distribution: Create a bar plot to visualize the count of each fault type ('Pastry', 'Z_Scratch', 'K_Scratch', 'Stains', 'Dirtiness', 'Bumps', 'Other_Faults') in the dataset.\n",
    "Analyze the Plot: Examine the bar plot to assess whether the dataset is balanced or imbalanced across the different fault types.\n",
    "Decision Tree Consideration: Decide whether a DT classifier would require imbalance-handling techniques based on the class distribution.\n",
    "Question:\n",
    "Based on your analysis of the class distribution in the Steel Plant Faults dataset, is the dataset balanced, and should an imbalance-handling algorithm be applied when implementing a Decision Tree?\n",
    "\"\"\""
   ]
  },
  {
   "cell_type": "code",
   "execution_count": 15,
   "metadata": {},
   "outputs": [],
   "source": [
    "import seaborn as sns\n",
    "import matplotlib.pyplot as plt"
   ]
  },
  {
   "cell_type": "code",
   "execution_count": 20,
   "metadata": {},
   "outputs": [
    {
     "data": {
      "text/plain": [
       "<Axes: xlabel='Target'>"
      ]
     },
     "execution_count": 20,
     "metadata": {},
     "output_type": "execute_result"
    },
    {
     "data": {
      "image/png": "[encoded data removed]",
      "text/plain": [
       "<Figure size 640x480 with 1 Axes>"
      ]
     },
     "metadata": {},
     "output_type": "display_data"
    }
   ],
   "source": [
    "fault_counts= df['Target'].value_counts()\n",
    "\n",
    "sns.barplot(x= fault_counts.index, y = fault_counts.values)"
   ]
  },
  {
   "cell_type": "markdown",
   "metadata": {},
   "source": [
    "\"\"\"The dataset is imbalanced, and Decision Trees are affected by data imbalance.\"\"\""
   ]
  },
  {
   "cell_type": "markdown",
   "metadata": {},
   "source": [
    "Context:\n",
    "In a Decision Tree, the root node is pivotal as it represents the initial decision point from which further splits are derived. The Gini value at this node offers insight into the node's purity. This exercise involves training a Decision Tree using only two features from the Steel Plant Faults dataset and determining the root node's feature and its Gini value.\n",
    "\n",
    "Task:\n",
    "Train a Decision Tree classifier using 'Pixels_Areas' and 'SigmoidOfAreas' as features. Set the max_depth to 3 and random_state to 42. Determine which feature is chosen as the root node and identify its Gini value.\n",
    "\n",
    "Instructions:\n",
    "Feature Selection: Use 'Pixels_Areas' and 'SigmoidOfAreas' as your features for the Decision Tree.\n",
    "Data Splitting: Split the dataset into training and testing sets.\n",
    "Model Initialization: Initialize a Decision Tree Classifier with max_depth=3 and random_state=42.\n",
    "Model Training: Train the Decision Tree on the training data.\n",
    "Root Node Identification: Identify the feature used at the root node and find its Gini value.\n",
    "Question:\n",
    "After training the Decision Tree with the specified hyperparameters using 'Pixels_Areas' and 'SigmoidOfAreas' as features, which feature becomes the root node, and what is its Gini value?\n",
    "\n",
    "Options:\n",
    "A) 'Pixels_Areas' is the root node, with a Gini value of X.\n",
    "\n",
    "B) 'SigmoidOfAreas' is the root node, with a Gini value of Y.\n",
    "\n",
    "C) Both 'Pixels_Areas' and 'SigmoidOfAreas' share the root node, with Gini values of X and Y respectively.\n",
    "\n",
    "D) Neither 'Pixels_Areas' nor 'SigmoidOfAreas' becomes the root node."
   ]
  },
  {
   "cell_type": "code",
   "execution_count": 22,
   "metadata": {},
   "outputs": [],
   "source": [
    "from sklearn.model_selection import train_test_split\n",
    "from sklearn.tree import DecisionTreeClassifier"
   ]
  },
  {
   "cell_type": "code",
   "execution_count": 31,
   "metadata": {},
   "outputs": [
    {
     "name": "stdout",
     "output_type": "stream",
     "text": [
      "gini impurity for the root node: 0.7721149494495171\n"
     ]
    }
   ],
   "source": [
    "x= df[['Pixels_Areas', 'SigmoidOfAreas']]\n",
    "y = df['Target']\n",
    "\n",
    "x_train, x_test, y_train, y_test= train_test_split(x, y, random_state = 14)\n",
    "dt_classifier= DecisionTreeClassifier(max_depth=3, random_state= 42)\n",
    "\n",
    "dt_classifier.fit(x_train, y_train)\n",
    "\n",
    "root_feature_index = dt_classifier.tree_.feature[0]\n",
    "root_node_feature_name = x.columns[root_feature_index]\n",
    "root_node_gini_impurity = dt_classifier.tree_.impurity[0]\n",
    "print(f\"gini impurity for the root node: {root_node_gini_impurity}\")"
   ]
  },
  {
   "cell_type": "markdown",
   "metadata": {},
   "source": [
    "\"\"\"Context:\n",
    "Using class weights in a Decision Tree can help address class imbalance by adjusting the decision criteria toward less represented classes. This task involves applying class weights to a Decision Tree classifier and identifying the class that is most frequently misclassified.\n",
    "\n",
    "Task:\n",
    "Write Python code to train a Decision Tree classifier using entropy as the criterion and balanced class weights. Your goal is to determine which class is most misclassified on the test dataset.\n",
    "\n",
    "Instructions:\n",
    "Feature and Target Selection: Prepare your features X by dropping the class columns and 'Target', and set y as your 'Target'.\n",
    "Data Splitting: Split the dataset into training and testing sets using train_test_split with random_state=42.\n",
    "Class Weights Calculation: Use the 'balanced' option for class weights to handle class imbalance.\n",
    "Initialize and Train Decision Tree: Create a Decision Tree classifier with entropy criterion, incorporating the calculated class weights. Train this classifier on your training data.\n",
    "Model Prediction and Evaluation: Use the trained model to predict the classes on the test data. Generate a classification report to evaluate the model's performance across different classes.\n",
    "Identify Most Misclassified Class: Analyze the recall values from the classification report to identify which class is the most misclassified.\n",
    "Question:\n",
    "After applying the described Decision Tree configuration and analyzing the classification report, which class is identified as the most misclassified?\n",
    "\n",
    "Options:\n",
    "A) Bumps\n",
    "\n",
    "B) Other_Faults\n",
    "\n",
    "C) Dirtiness\n",
    "\n",
    "D) Pastry\n",
    "\"\"\""
   ]
  },
  {
   "cell_type": "code",
   "execution_count": 43,
   "metadata": {},
   "outputs": [],
   "source": [
    "from sklearn.metrics import classification_report, confusion_matrix # need this to understand misclassified class"
   ]
  },
  {
   "cell_type": "code",
   "execution_count": 42,
   "metadata": {},
   "outputs": [
    {
     "name": "stdout",
     "output_type": "stream",
     "text": [
      "              precision    recall  f1-score   support\n",
      "\n",
      "       Bumps       0.40      0.38      0.39      1193\n",
      "   Dirtiness       0.18      0.17      0.17       128\n",
      "    K_Scatch       0.84      0.81      0.83       863\n",
      "Other_Faults       0.39      0.42      0.41      1580\n",
      "      Pastry       0.23      0.22      0.22       599\n",
      "      Stains       0.58      0.64      0.61       129\n",
      "   Z_Scratch       0.45      0.42      0.43       313\n",
      "\n",
      "    accuracy                           0.46      4805\n",
      "   macro avg       0.44      0.44      0.44      4805\n",
      "weighted avg       0.46      0.46      0.46      4805\n",
      "\n"
     ]
    }
   ],
   "source": [
    "x = df.drop(columns = df.columns[-8:], axis= 1)\n",
    "y = df['Target']\n",
    "x_train, x_test, y_train, y_test = train_test_split(x, y, random_state= 14)\n",
    "dt_classifier = DecisionTreeClassifier(criterion= 'entropy', random_state= 14, class_weight='balanced')\n",
    "\n",
    "dt_classifier.fit(x_train, y_train)\n",
    "y_pred = dt_classifier.predict(x_test)\n",
    "\n",
    "report = classification_report(y_pred, y_test)\n",
    "\n",
    "print(report)"
   ]
  },
  {
   "cell_type": "code",
   "execution_count": 45,
   "metadata": {},
   "outputs": [
    {
     "name": "stdout",
     "output_type": "stream",
     "text": [
      "[[457  30  23 478 147   8  50]\n",
      " [ 25  22   2  63  15   0   1]\n",
      " [ 31   3 701  97  25   1   5]\n",
      " [439  47  79 664 227  42  82]\n",
      " [135  18  23 260 131   7  25]\n",
      " [  9   0   0  31   6  82   1]\n",
      " [ 46   4   7  92  31   1 132]]\n"
     ]
    },
    {
     "data": {
      "text/plain": [
       "<Axes: >"
      ]
     },
     "execution_count": 45,
     "metadata": {},
     "output_type": "execute_result"
    },
    {
     "data": {
      "image/png": "[encoded data removed]",
      "text/plain": [
       "<Figure size 640x480 with 2 Axes>"
      ]
     },
     "metadata": {},
     "output_type": "display_data"
    }
   ],
   "source": [
    "print(confusion_matrix(y_pred, y_test))\n",
    "\n",
    "sns.heatmap(confusion_matrix(y_pred, y_test), annot= True)"
   ]
  },
  {
   "cell_type": "code",
   "execution_count": null,
   "metadata": {},
   "outputs": [],
   "source": []
  },
  {
   "cell_type": "code",
   "execution_count": null,
   "metadata": {},
   "outputs": [],
   "source": []
  },
  {
   "cell_type": "code",
   "execution_count": null,
   "metadata": {},
   "outputs": [],
   "source": []
  },
  {
   "cell_type": "code",
   "execution_count": null,
   "metadata": {},
   "outputs": [],
   "source": []
  },
  {
   "cell_type": "code",
   "execution_count": null,
   "metadata": {},
   "outputs": [],
   "source": []
  },
  {
   "cell_type": "code",
   "execution_count": null,
   "metadata": {},
   "outputs": [],
   "source": []
  },
  {
   "cell_type": "code",
   "execution_count": null,
   "metadata": {},
   "outputs": [],
   "source": []
  }
 ],
 "metadata": {
  "kernelspec": {
   "display_name": "Python 3",
   "language": "python",
   "name": "python3"
  },
  "language_info": {
   "codemirror_mode": {
    "name": "ipython",
    "version": 3
   },
   "file_extension": ".py",
   "mimetype": "text/x-python",
   "name": "python",
   "nbconvert_exporter": "python",
   "pygments_lexer": "ipython3",
   "version": "3.12.1"
  }
 },
 "nbformat": 4,
 "nbformat_minor": 2
}
