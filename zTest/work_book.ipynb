{
 "cells": [
  {
   "cell_type": "code",
   "execution_count": 23,
   "metadata": {},
   "outputs": [],
   "source": [
    "import pandas as pd\n",
    "from scipy.stats import norm\n",
    "import matplotlib.pyplot as plt\n",
    "import seaborn as sns\n",
    "\n",
    "from typing import Union"
   ]
  },
  {
   "cell_type": "code",
   "execution_count": 24,
   "metadata": {},
   "outputs": [],
   "source": [
    "def ztest(\n",
    "    samplemean: float,\n",
    "    samplesize: int,\n",
    "    populationmean: float,\n",
    "    populationstd: float,\n",
    "    alternative: str = \"two_sided\",\n",
    ") -> tuple:\n",
    "    std_err = populationstd / (samplesize**0.5)\n",
    "    z_score = (samplemean - populationmean) / std_err\n",
    "\n",
    "    # calculating p_value\n",
    "    if alternative == \"greater\":\n",
    "        p_value = 1 - norm.cdf(z_score)\n",
    "    elif alternative == \"less\":\n",
    "        p_value = norm.cdf(z_score)\n",
    "    elif alternative == \"two_sided\":\n",
    "        p_value = 2 * (1 - norm.cdf(abs(z_score)))\n",
    "\n",
    "    return p_value, z_score\n",
    "\n",
    "\n",
    "def zcritical(\n",
    "    alpha: float, alternative: str = \"two_sided\"\n",
    ") -> Union[float, tuple]:  # can also be written as float | tuple, with bitwise operator\n",
    "\n",
    "    if alternative == \"two_sided\":\n",
    "        critical_value_left = norm.ppf(alpha / 2)\n",
    "        critical_value_right = norm.ppf(1 - alpha / 2)\n",
    "        return critical_value_left, critical_value_right\n",
    "\n",
    "    elif alternative == \"less\":\n",
    "        critical_value = norm.ppf(alpha)\n",
    "\n",
    "    elif alternative == \"greater\":\n",
    "        critical_value = norm.ppf(1 - alpha)\n",
    "\n",
    "        return critical_value"
   ]
  },
  {
   "cell_type": "markdown",
   "metadata": {},
   "source": [
    "#### A country has a population average height of 65 inches with a standard deviation of 2.5. A person feels people from his state are shorter. He takes the average of 20 people and sees that it is 64.5. At a 5% significance level (or 95% confidence level), can we conclude that people from his state are shorter, using the Z-test? What is the p-value?"
   ]
  },
  {
   "cell_type": "code",
   "execution_count": 25,
   "metadata": {},
   "outputs": [
    {
     "name": "stdout",
     "output_type": "stream",
     "text": [
      "Failed to reject: 0.18554668476134878-> Average population is 65\n"
     ]
    }
   ],
   "source": [
    "H0 = \"Average population is 65\"\n",
    "H1 = \"Average population is less than 65\"\n",
    "\n",
    "test_statistic = ztest\n",
    "alternative = \"less\"\n",
    "alpha = 0.05\n",
    "\n",
    "samplemean = 64.5\n",
    "samplesize = 20\n",
    "populationmean = 65\n",
    "populationstd = 2.5\n",
    "alternative = \"less\"\n",
    "alpha = 0.05\n",
    "\n",
    "p_value, zscore = test_statistic(64.5, 20, 65, 2.5, alternative)\n",
    "\n",
    "if p_value < alpha:\n",
    "    print(f\"Reject Null hypothesis: {p_value, zscore}->\", H1)\n",
    "else:\n",
    "    print(f\"Failed to reject: {p_value}->\", H0)"
   ]
  },
  {
   "cell_type": "markdown",
   "metadata": {},
   "source": [
    "#### A French cafe has historically maintained that their average daily pastry production is at most 500. With the installation of a new machine, they assert that the average daily pastry production has increased. The average number of pastries produced per day over a 70-day period was found to be 530.Assume that the population standard deviation for the pastries produced per day is 125. Perform a z-test with the critical z-value = 1.64 at the alpha (significance level) = 0.05 to evaluate if ther"
   ]
  },
  {
   "cell_type": "code",
   "execution_count": 26,
   "metadata": {},
   "outputs": [
    {
     "name": "stdout",
     "output_type": "stream",
     "text": [
      "Reject Null hypothesis: (0.022322492581293485, 2.007984063681781)-> Average pastry production is more than 500\n"
     ]
    }
   ],
   "source": [
    "H0 = \"Average pastry production is 500\"\n",
    "H1 = \"Average pastry production is more than 500\"\n",
    "\n",
    "test_statistic = ztest\n",
    "\n",
    "samplemean = 530\n",
    "samplesize = 70\n",
    "populationmean = 500\n",
    "populationstd = 125\n",
    "alternative = \"greater\"\n",
    "alpha = 0.05\n",
    "\n",
    "p_value, zscore = test_statistic(\n",
    "    samplemean, samplesize, populationmean, populationstd, alternative\n",
    ")\n",
    "\n",
    "if p_value < alpha:\n",
    "    print(f\"Reject Null hypothesis: {p_value, zscore}->\", H1)\n",
    "else:\n",
    "    print(f\"Failed to reject: {p_value, zscore}->\", H0)"
   ]
  },
  {
   "cell_type": "markdown",
   "metadata": {},
   "source": [
    "#### The Chai Point stall at Bengaluru airport estimates that each person visiting the store drinks an average of 1.7 small cups of tea. Assume a population standard deviation of 0.5 small cups. A sample of 30 customers collected over a few days averaged 1.85 small cups of tea per person. Test the claim using an appropriate test at an alpha = 0.05 significance value, with a critical z-score value of ±1.96. Note: Round off the z-score to two decimal places"
   ]
  },
  {
   "cell_type": "code",
   "execution_count": 27,
   "metadata": {},
   "outputs": [
    {
     "name": "stdout",
     "output_type": "stream",
     "text": [
      "Failed to reject: (0.05017412323114523, 1.6431676725155)-> Average drinks 1.7\n"
     ]
    }
   ],
   "source": [
    "H0 = \"Average drinks 1.7\"\n",
    "H1 = \"Average drinks more than 1.7\"\n",
    "\n",
    "test_statistic = ztest\n",
    "\n",
    "samplemean = 1.85\n",
    "samplesize = 30\n",
    "populationmean = 1.7\n",
    "populationstd = 0.5\n",
    "alternative = \"greater\"\n",
    "alpha = 0.05\n",
    "\n",
    "p_value, zscore = test_statistic(\n",
    "    samplemean, samplesize, populationmean, populationstd, alternative\n",
    ")\n",
    "\n",
    "if p_value < alpha:\n",
    "    print(f\"Reject Null hypothesis: {p_value, zscore}->\", H1)\n",
    "else:\n",
    "    print(f\"Failed to reject: {p_value, zscore}->\", H0)"
   ]
  },
  {
   "cell_type": "markdown",
   "metadata": {},
   "source": [
    "#### A data scientist is looking at how a web application responds, with an average response time of 250 milliseconds and a standard deviation of 30 milliseconds. Find the critical value for a 96% confidence level."
   ]
  },
  {
   "cell_type": "code",
   "execution_count": 28,
   "metadata": {},
   "outputs": [
    {
     "data": {
      "text/plain": [
       "(188.38753268104531, 311.61246731895466)"
      ]
     },
     "execution_count": 28,
     "metadata": {},
     "output_type": "execute_result"
    }
   ],
   "source": [
    "mu = 250\n",
    "st = 30\n",
    "\n",
    "alpha = 0.04\n",
    "\n",
    "left, right = zcritical(alpha, alternative=\"two_sided\")\n",
    "\n",
    "left_critical, right_critical = mu + (left * st), mu + (right * st)\n",
    "\n",
    "left_critical, right_critical"
   ]
  },
  {
   "cell_type": "markdown",
   "metadata": {},
   "source": [
    "#### A marketing team aims to estimate the average time, visitors spend on their website. They gathered a random sample of 100 visitors and determined that the average time spent on the website was 4.5 minutes. The team is working under the assumption that the population's mean time spent on the website is 4.0 minutes, with a standard deviation of 1.2 minutes. Their goal is to estimate the true time spent on the website with a 95% confidence level. Calculate the confidence interval values and make a conclusion based on calculated interval"
   ]
  },
  {
   "cell_type": "code",
   "execution_count": 29,
   "metadata": {},
   "outputs": [
    {
     "data": {
      "text/plain": [
       "(4.264804321855194, 4.735195678144806)"
      ]
     },
     "execution_count": 29,
     "metadata": {},
     "output_type": "execute_result"
    }
   ],
   "source": [
    "alpha = 0.05\n",
    "sample_mean = 4.5\n",
    "std_err = 1.2 / (100**0.5)\n",
    "left_critical, right_critical = zcritical(alpha=alpha, alternative=\"two_sided\")\n",
    "\n",
    "(sample_mean + left_critical * std_err), (sample_mean + right_critical * std_err)"
   ]
  },
  {
   "cell_type": "markdown",
   "metadata": {},
   "source": [
    "It is known that the mean IQ of high school students is 100, and the standard deviation is 15.\n",
    "\n",
    "A coaching institute claims that candidates who study there have more IQ than an average high school student. When the IQ of 50 candidates was calculated, the average turned out to be 110\n",
    "\n",
    "Conduct an appropriate hypothesis test to test the institute’s claim, with a significance level of 5%"
   ]
  },
  {
   "cell_type": "code",
   "execution_count": 30,
   "metadata": {},
   "outputs": [
    {
     "name": "stdout",
     "output_type": "stream",
     "text": [
      "Reject Null hypothesis: (1.3543610677402285e-12, 6.99205898780101)-> IQ is > 100\n"
     ]
    }
   ],
   "source": [
    "population_mean = 100\n",
    "pop_std = 15\n",
    "\n",
    "sample_mean = 110\n",
    "sample_num = 110\n",
    "\n",
    "H0 = \"IQ is 100\"\n",
    "H1 = \"IQ is > 100\"\n",
    "\n",
    "## we need to compare 2 sample mean\n",
    "\n",
    "p_value, zscore = ztest(sample_mean, sample_num, population_mean, pop_std, alternative=\"greater\")\n",
    "\n",
    "if p_value < alpha:\n",
    "    print(f\"Reject Null hypothesis: {p_value, zscore}->\", H1)\n",
    "else:\n",
    "    print(f\"Failed to reject: {p_value, zscore}->\", H0)"
   ]
  },
  {
   "cell_type": "markdown",
   "metadata": {},
   "source": [
    "When smokers smoke, nicotine is transformed into cotinine, which can be tested.\n",
    "\n",
    "The average cotinine level in a group of 50 smokers was 243.5 ng ml.\n",
    "\n",
    "Assuming that the standard deviation is known to be 229.5 ng ml.\n",
    "\n",
    "Test the assertion that the mean cotinine level of all smokers is equal to 300.0 ng ml, at 95% confidence."
   ]
  },
  {
   "cell_type": "code",
   "execution_count": 32,
   "metadata": {},
   "outputs": [
    {
     "name": "stdout",
     "output_type": "stream",
     "text": [
      "Failed to reject: (0.08171731915149638, -1.7408075440976007)-> mean cotinine level is 300\n"
     ]
    }
   ],
   "source": [
    "sample_num = 50\n",
    "sample_mean = 243.5\n",
    "\n",
    "population_mean = 300\n",
    "population_std = 229.5\n",
    "\n",
    "H0 = \"mean cotinine level is 300\"\n",
    "H1 = \"mean cotinine level is not equal to 300\"\n",
    "alpha = 0.05\n",
    "p_value, zscore = ztest(sample_mean, sample_num, population_mean, population_std, alternative=\"two_sided\")\n",
    "\n",
    "if p_value < alpha:\n",
    "    print(f\"Reject Null hypothesis: {p_value, zscore}->\", H1)\n",
    "else:\n",
    "    print(f\"Failed to reject: {p_value, zscore}->\", H0)"
   ]
  },
  {
   "cell_type": "code",
   "execution_count": null,
   "metadata": {},
   "outputs": [],
   "source": []
  }
 ],
 "metadata": {
  "kernelspec": {
   "display_name": "Python 3",
   "language": "python",
   "name": "python3"
  },
  "language_info": {
   "codemirror_mode": {
    "name": "ipython",
    "version": 3
   },
   "file_extension": ".py",
   "mimetype": "text/x-python",
   "name": "python",
   "nbconvert_exporter": "python",
   "pygments_lexer": "ipython3",
   "version": "3.10.13"
  }
 },
 "nbformat": 4,
 "nbformat_minor": 2
}
