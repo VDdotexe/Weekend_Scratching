{
 "cells": [
  {
   "cell_type": "code",
   "execution_count": 4,
   "metadata": {},
   "outputs": [],
   "source": [
    "import pandas as pd\n",
    "from scipy.stats import norm\n",
    "import matplotlib.pyplot as plt\n",
    "import seaborn as sns"
   ]
  },
  {
   "cell_type": "code",
   "execution_count": 15,
   "metadata": {},
   "outputs": [],
   "source": [
    "def ztest(\n",
    "    samplemean: float,\n",
    "    samplesize: int,\n",
    "    populationmean: float,\n",
    "    populationstd: float,\n",
    "    alternative: str = \"two_sided\",\n",
    ") -> int:\n",
    "    std_err = populationstd / (samplesize**0.5)\n",
    "    z_score = (samplemean - populationmean )/ std_err\n",
    "\n",
    "    # calculating p_value\n",
    "    if alternative == \"greater\":\n",
    "        p_value = 1 - norm.cdf(z_score)\n",
    "    elif alternative == \"less\":\n",
    "        p_value = norm.cdf(z_score)\n",
    "    elif alternative == \"two_sided\":\n",
    "        p_value = 2 * (1 - norm.cdf(z_score))\n",
    "\n",
    "    return p_value"
   ]
  },
  {
   "cell_type": "markdown",
   "metadata": {},
   "source": [
    "#### A country has a population average height of 65 inches with a standard deviation of 2.5. A person feels people from his state are shorter. He takes the average of 20 people and sees that it is 64.5. At a 5% significance level (or 95% confidence level), can we conclude that people from his state are shorter, using the Z-test? What is the p-value?"
   ]
  },
  {
   "cell_type": "code",
   "execution_count": 16,
   "metadata": {},
   "outputs": [
    {
     "name": "stdout",
     "output_type": "stream",
     "text": [
      "Failed to reject: 0.18554668476134878  Average population is 65\n"
     ]
    }
   ],
   "source": [
    "H0 = \"Average population is 65\"\n",
    "H1 = \"Average population is less than 65\"\n",
    "\n",
    "test_statistic = ztest\n",
    "alternative = \"less\"\n",
    "alpha = 0.05\n",
    "\n",
    "p_value = test_statistic(64.5, 20, 65, 2.5, alternative)\n",
    "\n",
    "if p_value < alpha:\n",
    "    print(f\"Reject Null hypothesis: {p_value}\", H1)\n",
    "else:\n",
    "    print(f\"Failed to reject: {p_value} \", H0)"
   ]
  },
  {
   "cell_type": "markdown",
   "metadata": {},
   "source": []
  }
 ],
 "metadata": {
  "kernelspec": {
   "display_name": "Python 3",
   "language": "python",
   "name": "python3"
  },
  "language_info": {
   "codemirror_mode": {
    "name": "ipython",
    "version": 3
   },
   "file_extension": ".py",
   "mimetype": "text/x-python",
   "name": "python",
   "nbconvert_exporter": "python",
   "pygments_lexer": "ipython3",
   "version": "3.10.13"
  }
 },
 "nbformat": 4,
 "nbformat_minor": 2
}
