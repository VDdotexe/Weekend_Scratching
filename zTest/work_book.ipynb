{
 "cells": [
  {
   "cell_type": "code",
   "execution_count": 4,
   "metadata": {},
   "outputs": [],
   "source": [
    "import pandas as pd\n",
    "from scipy.stats import norm\n",
    "import matplotlib.pyplot as plt\n",
    "import seaborn as sns"
   ]
  },
  {
   "cell_type": "code",
   "execution_count": 21,
   "metadata": {},
   "outputs": [],
   "source": [
    "def ztest(\n",
    "    samplemean: float,\n",
    "    samplesize: int,\n",
    "    populationmean: float,\n",
    "    populationstd: float,\n",
    "    alternative: str = \"two_sided\",\n",
    ") -> tuple:\n",
    "    std_err = populationstd / (samplesize**0.5)\n",
    "    z_score = (samplemean - populationmean) / std_err\n",
    "\n",
    "    # calculating p_value\n",
    "    if alternative == \"greater\":\n",
    "        p_value = 1 - norm.cdf(z_score)\n",
    "    elif alternative == \"less\":\n",
    "        p_value = norm.cdf(z_score)\n",
    "    elif alternative == \"two_sided\":\n",
    "        p_value = 2 * (1 - norm.cdf(z_score))\n",
    "\n",
    "    return p_value, z_score"
   ]
  },
  {
   "cell_type": "markdown",
   "metadata": {},
   "source": [
    "#### A country has a population average height of 65 inches with a standard deviation of 2.5. A person feels people from his state are shorter. He takes the average of 20 people and sees that it is 64.5. At a 5% significance level (or 95% confidence level), can we conclude that people from his state are shorter, using the Z-test? What is the p-value?"
   ]
  },
  {
   "cell_type": "code",
   "execution_count": 22,
   "metadata": {},
   "outputs": [
    {
     "name": "stdout",
     "output_type": "stream",
     "text": [
      "Failed to reject: 0.18554668476134878-> Average population is 65\n"
     ]
    }
   ],
   "source": [
    "H0 = \"Average population is 65\"\n",
    "H1 = \"Average population is less than 65\"\n",
    "\n",
    "test_statistic = ztest\n",
    "alternative = \"less\"\n",
    "alpha = 0.05\n",
    "\n",
    "samplemean = 64.5\n",
    "samplesize = 20\n",
    "populationmean = 65\n",
    "populationstd = 2.5\n",
    "alternative = \"less\"\n",
    "alpha = 0.05\n",
    "\n",
    "p_value, zscore = test_statistic(64.5, 20, 65, 2.5, alternative)\n",
    "\n",
    "if p_value < alpha:\n",
    "    print(f\"Reject Null hypothesis: {p_value, zscore}->\", H1)\n",
    "else:\n",
    "    print(f\"Failed to reject: {p_value}->\", H0)"
   ]
  },
  {
   "cell_type": "markdown",
   "metadata": {},
   "source": [
    "#### A French cafe has historically maintained that their average daily pastry production is at most 500. With the installation of a new machine, they assert that the average daily pastry production has increased. The average number of pastries produced per day over a 70-day period was found to be 530.Assume that the population standard deviation for the pastries produced per day is 125. Perform a z-test with the critical z-value = 1.64 at the alpha (significance level) = 0.05 to evaluate if ther"
   ]
  },
  {
   "cell_type": "code",
   "execution_count": 23,
   "metadata": {},
   "outputs": [
    {
     "name": "stdout",
     "output_type": "stream",
     "text": [
      "Reject Null hypothesis: (0.022322492581293485, 2.007984063681781)-> Average pastry production is more than 500\n"
     ]
    }
   ],
   "source": [
    "H0 = \"Average pastry production is 500\"\n",
    "H1 = \"Average pastry production is more than 500\"\n",
    "\n",
    "test_statistic = ztest\n",
    "\n",
    "samplemean = 530\n",
    "samplesize = 70\n",
    "populationmean = 500\n",
    "populationstd = 125\n",
    "alternative = \"greater\"\n",
    "alpha = 0.05\n",
    "\n",
    "p_value, zscore = test_statistic(\n",
    "    samplemean, samplesize, populationmean, populationstd, alternative\n",
    ")\n",
    "\n",
    "if p_value < alpha:\n",
    "    print(f\"Reject Null hypothesis: {p_value, zscore}->\", H1)\n",
    "else:\n",
    "    print(f\"Failed to reject: {p_value, zscore}->\", H0)"
   ]
  },
  {
   "cell_type": "markdown",
   "metadata": {},
   "source": [
    "#### The Chai Point stall at Bengaluru airport estimates that each person visiting the store drinks an average of 1.7 small cups of tea. Assume a population standard deviation of 0.5 small cups. A sample of 30 customers collected over a few days averaged 1.85 small cups of tea per person. Test the claim using an appropriate test at an alpha = 0.05 significance value, with a critical z-score value of ±1.96. Note: Round off the z-score to two decimal places"
   ]
  },
  {
   "cell_type": "code",
   "execution_count": 24,
   "metadata": {},
   "outputs": [
    {
     "name": "stdout",
     "output_type": "stream",
     "text": [
      "Failed to reject: (0.05017412323114523, 1.6431676725155)-> Average drinks 1.7\n"
     ]
    }
   ],
   "source": [
    "H0 = \"Average drinks 1.7\"\n",
    "H1 = \"Average drinks more than 1.7\"\n",
    "\n",
    "test_statistic = ztest\n",
    "\n",
    "samplemean = 1.85\n",
    "samplesize = 30\n",
    "populationmean = 1.7\n",
    "populationstd = 0.5\n",
    "alternative = \"greater\"\n",
    "alpha = 0.05\n",
    "\n",
    "p_value, zscore = test_statistic(\n",
    "    samplemean, samplesize, populationmean, populationstd, alternative\n",
    ")\n",
    "\n",
    "if p_value < alpha:\n",
    "    print(f\"Reject Null hypothesis: {p_value, zscore}->\", H1)\n",
    "else:\n",
    "    print(f\"Failed to reject: {p_value, zscore}->\", H0)"
   ]
  },
  {
   "cell_type": "code",
   "execution_count": null,
   "metadata": {},
   "outputs": [],
   "source": []
  }
 ],
 "metadata": {
  "kernelspec": {
   "display_name": "Python 3",
   "language": "python",
   "name": "python3"
  },
  "language_info": {
   "codemirror_mode": {
    "name": "ipython",
    "version": 3
   },
   "file_extension": ".py",
   "mimetype": "text/x-python",
   "name": "python",
   "nbconvert_exporter": "python",
   "pygments_lexer": "ipython3",
   "version": "3.10.13"
  }
 },
 "nbformat": 4,
 "nbformat_minor": 2
}
